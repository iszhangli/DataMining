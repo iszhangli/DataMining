{
 "cells": [
  {
   "cell_type": "code",
   "execution_count": 1,
   "id": "shaped-rachel",
   "metadata": {},
   "outputs": [],
   "source": [
    "import joblib\n",
    "import pandas as pd"
   ]
  },
  {
   "cell_type": "code",
   "execution_count": 2,
   "id": "offshore-translator",
   "metadata": {},
   "outputs": [],
   "source": [
    "train = joblib.load('train.pkl')\n",
    "test_ = joblib.load('test_.pkl')\n",
    "test = joblib.load('test.pkl')"
   ]
  },
  {
   "cell_type": "code",
   "execution_count": 7,
   "id": "quarterly-petersburg",
   "metadata": {},
   "outputs": [],
   "source": [
    "feature_cols = joblib.load('feature_cols.pkl')\n",
    "target_cols = joblib.load('target_cols.pkl')\n",
    "target_nonsc_cols2 = joblib.load('target_nonsc_cols2.pkl')\n",
    "feat_dic = joblib.load('feat_dic.pkl')\n"
   ]
  },
  {
   "cell_type": "code",
   "execution_count": 20,
   "id": "continent-season",
   "metadata": {},
   "outputs": [
    {
     "data": {
      "text/plain": [
       "872"
      ]
     },
     "execution_count": 20,
     "metadata": {},
     "output_type": "execute_result"
    }
   ],
   "source": [
    "feature_cols  # g0-g711 c0-c99\n",
    "target_cols\n",
    "len(feat_dic['gene'] + feat_dic['cell'])"
   ]
  },
  {
   "cell_type": "code",
   "execution_count": 8,
   "id": "billion-winning",
   "metadata": {},
   "outputs": [
    {
     "ename": "SyntaxError",
     "evalue": "invalid syntax (<ipython-input-8-d995a83dd731>, line 1)",
     "output_type": "error",
     "traceback": [
      "\u001b[1;36m  File \u001b[1;32m\"<ipython-input-8-d995a83dd731>\"\u001b[1;36m, line \u001b[1;32m1\u001b[0m\n\u001b[1;33m    off ?\u001b[0m\n\u001b[1;37m        ^\u001b[0m\n\u001b[1;31mSyntaxError\u001b[0m\u001b[1;31m:\u001b[0m invalid syntax\n"
     ]
    }
   ],
   "source": [
    "off ?\n",
    "predictions ?\n"
   ]
  },
  {
   "cell_type": "code",
   "execution_count": 29,
   "id": "billion-ordering",
   "metadata": {},
   "outputs": [
    {
     "data": {
      "text/plain": [
       "Index(['Unnamed: 0', 'title', 'scoring_high', 'del_in_18month', 'f3',\n",
       "       'initial_list_status', 'f0', 'f1', 'loan_id', 'class', 'user_id',\n",
       "       'early_return', 'industry', 'total_loan', 'pub_dero_bankrup',\n",
       "       'censor_status', 'f2', 'f4', 'policy_code', 'use', 'work_year',\n",
       "       'debt_loan_ratio', 'recircle_u', 'early_return_amount', 'house_exist',\n",
       "       'interest', 'scoring_low', 'employer_type', 'early_return_amount_3mon',\n",
       "       'region', 'year_of_loan', 'monthly_payment', 'post_code', 'recircle_b',\n",
       "       'issue_date_y', 'issue_date_m', 'issue_date_d', 'issue_date_diff'],\n",
       "      dtype='object')"
      ]
     },
     "execution_count": 29,
     "metadata": {},
     "output_type": "execute_result"
    }
   ],
   "source": [
    "origin_train.columns\n",
    "# origin_test.columns"
   ]
  },
  {
   "cell_type": "code",
   "execution_count": 83,
   "id": "uniform-parcel",
   "metadata": {},
   "outputs": [],
   "source": [
    "data_dir = 'C:/ZhangLI/Codes/DataSet/个人违贷/'\n",
    "origin_train = pd.read_csv(data_dir + 'default_train.csv')\n",
    "origin_test = pd.read_csv(data_dir + 'default_test.csv')\n"
   ]
  },
  {
   "cell_type": "code",
   "execution_count": 81,
   "id": "basic-rouge",
   "metadata": {},
   "outputs": [],
   "source": [
    "origin_train = origin_train.fillna(origin_train.median())\n",
    "origin_test = origin_test.fillna(origin_train.median())\n",
    "origin_train.to_csv(data_dir + 'default_train.csv', index=False)\n",
    "origin_test.to_csv(data_dir + 'default_test.csv', index=False)"
   ]
  },
  {
   "cell_type": "code",
   "execution_count": 85,
   "id": "global-interface",
   "metadata": {},
   "outputs": [
    {
     "data": {
      "text/plain": [
       "Unnamed: 0                  0\n",
       "title                       0\n",
       "scoring_high                0\n",
       "del_in_18month              0\n",
       "f3                          0\n",
       "initial_list_status         0\n",
       "f0                          0\n",
       "f1                          0\n",
       "loan_id                     0\n",
       "class                       0\n",
       "user_id                     0\n",
       "early_return                0\n",
       "industry                    0\n",
       "total_loan                  0\n",
       "pub_dero_bankrup            0\n",
       "censor_status               0\n",
       "f2                          0\n",
       "f4                          0\n",
       "policy_code                 0\n",
       "use                         0\n",
       "work_year                   0\n",
       "debt_loan_ratio             0\n",
       "recircle_u                  0\n",
       "early_return_amount         0\n",
       "house_exist                 0\n",
       "interest                    0\n",
       "scoring_low                 0\n",
       "employer_type               0\n",
       "early_return_amount_3mon    0\n",
       "region                      0\n",
       "year_of_loan                0\n",
       "monthly_payment             0\n",
       "post_code                   0\n",
       "recircle_b                  0\n",
       "issue_date_y                0\n",
       "issue_date_m                0\n",
       "issue_date_d                0\n",
       "issue_date_diff             0\n",
       "dtype: int64"
      ]
     },
     "execution_count": 85,
     "metadata": {},
     "output_type": "execute_result"
    }
   ],
   "source": [
    "origin_test.isna().sum()"
   ]
  },
  {
   "cell_type": "code",
   "execution_count": 33,
   "id": "documentary-register",
   "metadata": {},
   "outputs": [
    {
     "name": "stdout",
     "output_type": "stream",
     "text": [
      "torch.Size([5, 3])\n"
     ]
    },
    {
     "data": {
      "text/plain": [
       "tensor([[-0.3351],\n",
       "        [-0.3351],\n",
       "        [-0.3351],\n",
       "        [-0.3351],\n",
       "        [-0.3351]], grad_fn=<AddmmBackward>)"
      ]
     },
     "execution_count": 33,
     "metadata": {},
     "output_type": "execute_result"
    }
   ],
   "source": [
    "import torch as t\n",
    "from torch import nn\n",
    "\n",
    "# in_features由输入张量的形状决定，out_features则决定了输出张量的形状 \n",
    "connected_layer = nn.Linear(in_features = 3, out_features = 1)\n",
    "\n",
    "# 假定输入的图像形状为[64,64,3]\n",
    "input = t.tensor([[0.0,0.0,0.0], [0.0,0.0,0.0], [0.0,0.0,0.0], [0.0,0.0,0.0], [0.0,0.0,0.0]])\n",
    "\n",
    "# 将四维张量转换为二维张量之后，才能作为全连接层的输入\n",
    "print(input.shape)\n",
    "output = connected_layer(input) # 调用全连接层\n",
    "output\n"
   ]
  },
  {
   "cell_type": "code",
   "execution_count": 41,
   "id": "muslim-prototype",
   "metadata": {},
   "outputs": [
    {
     "data": {
      "text/plain": [
       "tensor([[nan, nan, nan,  ..., nan, nan, nan],\n",
       "        [nan, nan, nan,  ..., nan, nan, nan],\n",
       "        [nan, nan, nan,  ..., nan, nan, nan],\n",
       "        ...,\n",
       "        [nan, nan, nan,  ..., nan, nan, nan],\n",
       "        [nan, nan, nan,  ..., nan, nan, nan],\n",
       "        [nan, nan, nan,  ..., nan, nan, nan]], grad_fn=<MmBackward>)"
      ]
     },
     "execution_count": 41,
     "metadata": {},
     "output_type": "execute_result"
    }
   ],
   "source": [
    "import torch\n",
    "dic = torch.load('dic.pth')\n",
    "x = dic['input']\n",
    "dense = dic['linear']\n",
    "dense(x)"
   ]
  },
  {
   "cell_type": "code",
   "execution_count": 66,
   "id": "recreational-struggle",
   "metadata": {},
   "outputs": [
    {
     "data": {
      "text/plain": [
       "nan"
      ]
     },
     "execution_count": 66,
     "metadata": {},
     "output_type": "execute_result"
    }
   ],
   "source": [
    "import numpy as np\n",
    "xx = x.detach().numpy()\n",
    "w = dense.weight.detach().numpy()\n",
    "xx.shape\n",
    "np.matmul(xx,w.T)\n",
    "\n",
    "xx[1, :]\n",
    "w.T[:,1]\n",
    "\n",
    "np.matmul(xx[1, :], w.T[:,4])"
   ]
  }
 ],
 "metadata": {
  "kernelspec": {
   "display_name": "Python 3",
   "language": "python",
   "name": "python3"
  },
  "language_info": {
   "codemirror_mode": {
    "name": "ipython",
    "version": 3
   },
   "file_extension": ".py",
   "mimetype": "text/x-python",
   "name": "python",
   "nbconvert_exporter": "python",
   "pygments_lexer": "ipython3",
   "version": "3.8.5"
  }
 },
 "nbformat": 4,
 "nbformat_minor": 5
}
