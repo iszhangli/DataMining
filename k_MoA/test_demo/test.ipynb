{
 "cells": [
  {
   "cell_type": "code",
   "execution_count": 1,
   "id": "large-abraham",
   "metadata": {},
   "outputs": [],
   "source": [
    "import joblib\n",
    "import pandas as pd"
   ]
  },
  {
   "cell_type": "code",
   "execution_count": 2,
   "id": "forced-threshold",
   "metadata": {},
   "outputs": [],
   "source": [
    "train = joblib.load('train.pkl')\n",
    "test_ = joblib.load('test_.pkl')\n",
    "test = joblib.load('test.pkl')"
   ]
  },
  {
   "cell_type": "code",
   "execution_count": 7,
   "id": "genuine-tulsa",
   "metadata": {},
   "outputs": [],
   "source": [
    "feature_cols = joblib.load('feature_cols.pkl')\n",
    "target_cols = joblib.load('target_cols.pkl')\n",
    "target_nonsc_cols2 = joblib.load('target_nonsc_cols2.pkl')\n",
    "feat_dic = joblib.load('feat_dic.pkl')\n"
   ]
  },
  {
   "cell_type": "code",
   "execution_count": 20,
   "id": "acoustic-cricket",
   "metadata": {},
   "outputs": [
    {
     "data": {
      "text/plain": [
       "872"
      ]
     },
     "execution_count": 20,
     "metadata": {},
     "output_type": "execute_result"
    }
   ],
   "source": [
    "feature_cols  # g0-g711 c0-c99\n",
    "target_cols\n",
    "len(feat_dic['gene'] + feat_dic['cell'])"
   ]
  },
  {
   "cell_type": "code",
   "execution_count": 8,
   "id": "psychological-print",
   "metadata": {},
   "outputs": [
    {
     "ename": "SyntaxError",
     "evalue": "invalid syntax (<ipython-input-8-d995a83dd731>, line 1)",
     "output_type": "error",
     "traceback": [
      "\u001b[1;36m  File \u001b[1;32m\"<ipython-input-8-d995a83dd731>\"\u001b[1;36m, line \u001b[1;32m1\u001b[0m\n\u001b[1;33m    off ?\u001b[0m\n\u001b[1;37m        ^\u001b[0m\n\u001b[1;31mSyntaxError\u001b[0m\u001b[1;31m:\u001b[0m invalid syntax\n"
     ]
    }
   ],
   "source": [
    "off ?\n",
    "predictions ?\n"
   ]
  },
  {
   "cell_type": "code",
   "execution_count": 29,
   "id": "healthy-citizenship",
   "metadata": {},
   "outputs": [
    {
     "data": {
      "text/plain": [
       "Index(['Unnamed: 0', 'title', 'scoring_high', 'del_in_18month', 'f3',\n",
       "       'initial_list_status', 'f0', 'f1', 'loan_id', 'class', 'user_id',\n",
       "       'early_return', 'industry', 'total_loan', 'pub_dero_bankrup',\n",
       "       'censor_status', 'f2', 'f4', 'policy_code', 'use', 'work_year',\n",
       "       'debt_loan_ratio', 'recircle_u', 'early_return_amount', 'house_exist',\n",
       "       'interest', 'scoring_low', 'employer_type', 'early_return_amount_3mon',\n",
       "       'region', 'year_of_loan', 'monthly_payment', 'post_code', 'recircle_b',\n",
       "       'issue_date_y', 'issue_date_m', 'issue_date_d', 'issue_date_diff'],\n",
       "      dtype='object')"
      ]
     },
     "execution_count": 29,
     "metadata": {},
     "output_type": "execute_result"
    }
   ],
   "source": [
    "origin_train.columns\n",
    "# origin_test.columns"
   ]
  },
  {
   "cell_type": "code",
   "execution_count": 25,
   "id": "banner-hindu",
   "metadata": {},
   "outputs": [],
   "source": [
    "data_dir = 'C:/ZhangLI/Codes/DataSet/个人违贷/'\n",
    "origin_train = pd.read_csv(data_dir + 'default_train.csv', index_col='Unnamed: 0')\n",
    "origin_test = pd.read_csv(data_dir + 'default_test.csv')\n"
   ]
  }
 ],
 "metadata": {
  "kernelspec": {
   "display_name": "Python 3",
   "language": "python",
   "name": "python3"
  },
  "language_info": {
   "codemirror_mode": {
    "name": "ipython",
    "version": 3
   },
   "file_extension": ".py",
   "mimetype": "text/x-python",
   "name": "python",
   "nbconvert_exporter": "python",
   "pygments_lexer": "ipython3",
   "version": "3.8.5"
  }
 },
 "nbformat": 4,
 "nbformat_minor": 5
}
