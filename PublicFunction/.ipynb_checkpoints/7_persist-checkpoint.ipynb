{
 "cells": [
  {
   "cell_type": "markdown",
   "id": "endangered-roller",
   "metadata": {},
   "source": [
    "## 保存参数\n",
    "### 集成模型\n",
    "1. 设置的参数param\n",
    "2. 最佳的迭代次数（树的个数）"
   ]
  },
  {
   "cell_type": "code",
   "execution_count": null,
   "id": "unique-national",
   "metadata": {},
   "outputs": [],
   "source": [
    "# 测试保存模型的区别\n",
    "import joblib\n",
    "# save model\n",
    "joblib.dump(models[0], 'C:/ZhangLI/Codes/JupyterLab/06在岗革新打榜赛/model0.csv')\n",
    "joblib.dump(models[3], 'C:/ZhangLI/Codes/JupyterLab/06在岗革新打榜赛/model3.csv')\n",
    "# reload model\n",
    "model_0 = joblib.load('C:/ZhangLI/Codes/JupyterLab/06在岗革新打榜赛/model0.csv')\n",
    "model_3 = joblib.load('C:/ZhangLI/Codes/JupyterLab/06在岗革新打榜赛/model3.csv')\n",
    "print(model_0.num_trees())\n",
    "print(model_3.num_trees())\n",
    "print(model_0.predict(X_test)[0:4])\n",
    "model_3.predict(X_test)[0:4]"
   ]
  },
  {
   "cell_type": "code",
   "execution_count": null,
   "id": "breathing-orlando",
   "metadata": {},
   "outputs": [],
   "source": [
    "# 程序持久化\n",
    "import joblib\n",
    "import os\n",
    "# 保存模型\n",
    "save_path = 'job_model5.pkl'\n",
    "joblib.dump(models[4], save_path)\n",
    "# 加载模型\n",
    "path = os.getcwd()\n",
    "model = joblib.load(path+'/job_model5.pkl')"
   ]
  }
 ],
 "metadata": {
  "kernelspec": {
   "display_name": "Python 3",
   "language": "python",
   "name": "python3"
  },
  "language_info": {
   "codemirror_mode": {
    "name": "ipython",
    "version": 3
   },
   "file_extension": ".py",
   "mimetype": "text/x-python",
   "name": "python",
   "nbconvert_exporter": "python",
   "pygments_lexer": "ipython3",
   "version": "3.8.5"
  }
 },
 "nbformat": 4,
 "nbformat_minor": 5
}
