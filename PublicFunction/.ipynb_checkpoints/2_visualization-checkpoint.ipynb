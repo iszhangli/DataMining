{
 "cells": [
  {
   "cell_type": "markdown",
   "id": "constitutional-conditions",
   "metadata": {},
   "source": [
    "### 数据可视化\n",
    "1. 更好的理解数据\n",
    "2. 是否能够根据可视化结果构建新的特征"
   ]
  },
  {
   "cell_type": "code",
   "execution_count": 2,
   "id": "supposed-doctor",
   "metadata": {
    "collapsed": true,
    "jupyter": {
     "outputs_hidden": true
    },
    "tags": []
   },
   "outputs": [
    {
     "ename": "NameError",
     "evalue": "name 'sns' is not defined",
     "output_type": "error",
     "traceback": [
      "\u001b[1;31m---------------------------------------------------------------------------\u001b[0m",
      "\u001b[1;31mNameError\u001b[0m                                 Traceback (most recent call last)",
      "\u001b[1;32m<ipython-input-2-7ef9a694ca86>\u001b[0m in \u001b[0;36m<module>\u001b[1;34m\u001b[0m\n\u001b[0;32m      2\u001b[0m \u001b[1;31m# 可以理解数据的分布和奇异值情况\u001b[0m\u001b[1;33m\u001b[0m\u001b[1;33m\u001b[0m\u001b[1;33m\u001b[0m\u001b[0m\n\u001b[0;32m      3\u001b[0m \u001b[1;31m# 通过观察bins，切分数据，并做one-hot编码\u001b[0m\u001b[1;33m\u001b[0m\u001b[1;33m\u001b[0m\u001b[1;33m\u001b[0m\u001b[0m\n\u001b[1;32m----> 4\u001b[1;33m \u001b[0msns\u001b[0m\u001b[1;33m.\u001b[0m\u001b[0mdistplot\u001b[0m\u001b[1;33m\u001b[0m\u001b[1;33m\u001b[0m\u001b[0m\n\u001b[0m",
      "\u001b[1;31mNameError\u001b[0m: name 'sns' is not defined"
     ]
    }
   ],
   "source": [
    "# 1. 连续单变量的数据可视化\n",
    "# 可以理解数据的分布和奇异值情况\n",
    "# 通过观察bins，切分数据，并做one-hot编码\n",
    "sns.distplot"
   ]
  },
  {
   "cell_type": "code",
   "execution_count": 21,
   "id": "engaging-notice",
   "metadata": {},
   "outputs": [],
   "source": [
    "-------------------------------------------------------------------------------------------"
   ]
  },
  {
   "cell_type": "code",
   "execution_count": 3,
   "id": "geographic-tuner",
   "metadata": {},
   "outputs": [],
   "source": [
    "# 2. 类别标签 + 类别/数值\n",
    "# https://blog.csdn.net/u013317445/article/details/88196373\n",
    "# 总结1 : swarm / bar / violin\n",
    "import pandas as pd\n",
    "import numpy as np\n",
    "import seaborn as sns\n",
    "path = 'C:/ZhangLI/Codes/DataSet/titanic/'\n",
    "gender_data = pd.read_csv(path + 'gender_submission.csv')\n",
    "train_data = pd.read_csv(path + 'train.csv')\n",
    "test_data = pd.read_csv(path + 'test.csv')"
   ]
  },
  {
   "cell_type": "code",
   "execution_count": null,
   "id": "outer-canadian",
   "metadata": {},
   "outputs": [],
   "source": [
    "sns.catplot(x=\"Survived\", y=\"Age\", data=train_data) # 默认为strip， jitter可以调整点的波动"
   ]
  },
  {
   "cell_type": "code",
   "execution_count": 11,
   "id": "martial-atlas",
   "metadata": {},
   "outputs": [],
   "source": [
    "# 适合小数据量画图\n",
    "# swarm 蜂窝图\n",
    "# 顺序会自动判断\n",
    "sns.catplot(x='Survived', y='Fare', data=train_data, kind='swarm') # swarm 蜂窝图\n",
    "sns.catplot(x='Survived', y='Fare', hue='Sex', data=train_data, kind='swarm') # hue 对数据增加颜色\n",
    "sns.catplot(x='Survived', y='Fare', hue='Sex', order=[1, 0], data=train_data, kind='swarm') # order可以指定顺序"
   ]
  },
  {
   "cell_type": "code",
   "execution_count": 20,
   "id": "corrected-potato",
   "metadata": {},
   "outputs": [],
   "source": [
    "# 分类分布图\n",
    "sns.catplot(x='Survived', y='Fare', data=train_data, kind='box') # 离群点、上界、上四分位数、均值、中位数、下四分位数、下界、离群点\n",
    "sns.catplot(x='Survived', y='Fare', hue='Sex', data=train_data, kind='box') # 生存的男性的票价，女性的票价分布\n",
    "train_data['Sex_new'] = train_data['Sex'].isin(['lgbt'])\n",
    "sns.catplot(x='Survived', y='Fare', hue='Sex_new', dodge=False, data=train_data, kind='box')  # hue只有一个参数，所以将dodge=False\n",
    "\n",
    "sns.catplot(x='Survived', y='Fare', data=train_data, kind='boxen') # 对大数据更加友好"
   ]
  },
  {
   "cell_type": "code",
   "execution_count": 24,
   "id": "experimental-creator",
   "metadata": {
    "tags": []
   },
   "outputs": [
    {
     "data": {
      "text/plain": [
       "<seaborn.axisgrid.FacetGrid at 0x170e0c3da90>"
      ]
     },
     "execution_count": 24,
     "metadata": {},
     "output_type": "execute_result"
    },
    {
     "data": {
      "image/png": "[encoded data removed]",
      "text/plain": [
       "<Figure size 430.5x360 with 1 Axes>"
      ]
     },
     "metadata": {
      "needs_background": "light"
     },
     "output_type": "display_data"
    }
   ],
   "source": [
    "# 小提琴图\n",
    "# 它将箱线图和核密度估计(kde: kernel density estimation)结合起来\n",
    "sns.catplot(x='Survived', y='Fare', hue='Sex', split=True, data=train_data, kind='violin') # 当hue只有两类是，split可以设置为True"
   ]
  },
  {
   "cell_type": "code",
   "execution_count": 54,
   "id": "mathematical-escape",
   "metadata": {
    "tags": []
   },
   "outputs": [
    {
     "name": "stdout",
     "output_type": "stream",
     "text": [
      "(64, 13)\n",
      "(9, 13)\n",
      "----- 0.8767123287671232\n",
      "(140, 13)\n",
      "(63, 13)\n",
      "(27, 13)\n",
      "(9, 13)\n",
      "(29, 13)\n",
      "(66, 13)\n",
      "(77, 13)\n",
      "(364, 13)\n",
      "(3, 13)\n",
      "(38, 13)\n"
     ]
    },
    {
     "data": {
      "image/png": "[encoded data removed]",
      "text/plain": [
       "<Figure size 418.25x360 with 1 Axes>"
      ]
     },
     "metadata": {
      "needs_background": "light"
     },
     "output_type": "display_data"
    }
   ],
   "source": [
    "# 分类统计估计图\n",
    "# 条形图\n",
    "# 统计 男性中 C类座位 生还人数 / 男性中 c类座位 总人数\n",
    "sns.catplot(kind=\"bar\", x=\"Sex\", y=\"Survived\", hue=\"Embarked\", data=train_data)\n",
    "\n",
    "m = train_data[(train_data['Embarked']=='C') & (train_data['Sex']=='female')]\n",
    "n = train_data[(train_data['Embarked']=='S') & (train_data['Sex']=='female')]\n",
    "l = train_data[(train_data['Embarked']=='Q') & (train_data['Sex']=='female')]\n",
    "print(m[m['Survived']==1].shape)\n",
    "print(m[m['Survived']==0].shape)\n",
    "print('-----', m[m['Survived']==1].shape[0]/m.shape[0])\n",
    "\n",
    "print(n[n['Survived']==1].shape)\n",
    "print(n[n['Survived']==0].shape)\n",
    "\n",
    "print(l[l['Survived']==1].shape)\n",
    "print(l[l['Survived']==0].shape)\n",
    "\n",
    "p = train_data[(train_data['Embarked']=='C') & (train_data['Sex']=='male')]\n",
    "q = train_data[(train_data['Embarked']=='S') & (train_data['Sex']=='male')]\n",
    "r = train_data[(train_data['Embarked']=='Q') & (train_data['Sex']=='male')]\n",
    "print(p[p['Survived']==1].shape)\n",
    "print(p[p['Survived']==0].shape)\n",
    "\n",
    "print(q[q['Survived']==1].shape)\n",
    "print(q[q['Survived']==0].shape)\n",
    "\n",
    "print(r[r['Survived']==1].shape)\n",
    "print(r[r['Survived']==0].shape)"
   ]
  },
  {
   "cell_type": "code",
   "execution_count": 58,
   "id": "obvious-classic",
   "metadata": {
    "tags": []
   },
   "outputs": [
    {
     "data": {
      "text/plain": [
       "<seaborn.axisgrid.FacetGrid at 0x170e22c1d30>"
      ]
     },
     "execution_count": 58,
     "metadata": {},
     "output_type": "execute_result"
    },
    {
     "data": {
      "image/png": "[encoded data removed]",
      "text/plain": [
       "<Figure size 418.25x360 with 1 Axes>"
      ]
     },
     "metadata": {
      "needs_background": "light"
     },
     "output_type": "display_data"
    }
   ],
   "source": [
    "# 观测量图\n",
    "# 只有一个轴， 要不x, 要不y \n",
    "# 感觉只作为统计用可以，效果不明显\n",
    "sns.catplot(kind=\"count\", x=\"Sex\", data=train_data)\n",
    "sns.catplot(kind=\"count\", x=\"Sex\",  hue=\"Embarked\", data=train_data)"
   ]
  },
  {
   "cell_type": "code",
   "execution_count": 60,
   "id": "novel-minimum",
   "metadata": {
    "collapsed": true,
    "jupyter": {
     "outputs_hidden": true
    },
    "tags": []
   },
   "outputs": [
    {
     "data": {
      "text/plain": [
       "<seaborn.axisgrid.FacetGrid at 0x170e5a70c10>"
      ]
     },
     "execution_count": 60,
     "metadata": {},
     "output_type": "execute_result"
    },
    {
     "data": {
      "image/png": "[encoded data removed]",
      "text/plain": [
       "<Figure size 418.25x1080 with 3 Axes>"
      ]
     },
     "metadata": {
      "needs_background": "light"
     },
     "output_type": "display_data"
    }
   ],
   "source": [
    "# row、col 展示多重关系\n",
    "sns.catplot(kind=\"count\", x=\"Sex\", hue=\"Embarked\", col='Pclass', data=train_data)\n",
    "sns.catplot(kind=\"count\", x=\"Sex\", hue=\"Embarked\", row='Pclass', data=train_data)"
   ]
  },
  {
   "cell_type": "markdown",
   "id": "bound-episode",
   "metadata": {},
   "source": [
    "# 一、类别特征和连续特征可视化\n",
    "\n",
    "## 1、连续变量可视化\n",
    "1. show_feature_use_kde\n",
    "\n",
    "## 2、类别变量可视化\n",
    "1. show_feature_use_box\n",
    "2. show_feature_use_count\n",
    "\n",
    "## 3、连续性变量+类型型标签\n",
    "1. show_con_feature_under_label\n",
    "\n",
    "## 4、类别型变量+类别型标签\n",
    "1. show_cate_feature_under_label"
   ]
  },
  {
   "cell_type": "code",
   "execution_count": null,
   "id": "violent-chance",
   "metadata": {},
   "outputs": [],
   "source": [
    "cont_cols = ['age','n3m_fact_fee', 'n3m_avg_call_fee', 'n3m_fav_fee', 'n3m_pay_fee','tot_flow_used','tot_flow_rate','total_flow',\n",
    "             'dou_overfee','mou_overfee','lm_dou_overfee','lm_mou_overfee','l2m_dou_overfee','l2m_mou_overfee']\n",
    "cate_cols = ['sex_new', 'vip_flag','os_cnt', 'os_days', 'l_os_cnt', 'l_os_days', 'll_os_cnt', 'll_os_days',\n",
    "            'pay_active_cnts', \n",
    "            'dou_overfee_lable','mou_overfee_lable','lm_dou_overfee_lable','lm_mou_overfee_lable','l2m_dou_overfee_lable','l2m_mou_overfee_lable',\n",
    "            'cpl_cnt','veido_cpl_cnt','band_cpl_cnt','fee_cpl_cnt',]\n",
    "# 连续变量\n",
    "def show_feature_use_kde(dataframe, features=[]):\n",
    "    \"\"\"连续变量\"\"\"\n",
    "    plt.clf()\n",
    "    fcols = 5\n",
    "    frows = len(features)\n",
    "    plt.figure(figsize=(6*fcols, frows*1.5))\n",
    "    i = 0\n",
    "    for col in features:\n",
    "        i += 1\n",
    "        plt.subplot(frows//fcols+1, fcols, i)\n",
    "        sns.kdeplot(x=dataframe[col], shade=True)\n",
    "    plt.show()\n",
    "show_feature_use_kde(train_data, cont_cols)"
   ]
  },
  {
   "cell_type": "code",
   "execution_count": null,
   "id": "apart-boxing",
   "metadata": {},
   "outputs": [],
   "source": [
    "# 类型性变量\n",
    "def show_feature_use_box(dataframe, features=[]):\n",
    "    \"\"\"连续变量\"\"\"\n",
    "    plt.clf()\n",
    "    fcols = 5\n",
    "    frows = len(features)\n",
    "    plt.figure(figsize=(6*fcols, frows*1.5))\n",
    "    i = 0\n",
    "    for col in features:\n",
    "        i += 1\n",
    "        plt.subplot(frows//fcols+1, fcols, i)\n",
    "        sns.boxplot(y=dataframe[col], orient=\"h\")\n",
    "    plt.show()\n",
    "show_feature_use_box(train_data, cont_cols)\n",
    "\n",
    "# 类型变量\n",
    "def show_feature_use_count(dataframe, features=['sex_new']):\n",
    "    \"\"\"类别变量\"\"\"\n",
    "    plt.clf()\n",
    "    fcols = 5\n",
    "    frows = len(features)\n",
    "    plt.figure(figsize=(6*fcols, frows*1.5))\n",
    "    i = 0\n",
    "    for col in features:\n",
    "        i += 1\n",
    "        plt.subplot(frows//fcols+1, fcols, i)\n",
    "        sns.countplot(x=dataframe[col])\n",
    "    plt.show()\n",
    "show_feature_use_count(train_data, cate_cols)\n",
    "  "
   ]
  },
  {
   "cell_type": "code",
   "execution_count": 1,
   "id": "crucial-luxury",
   "metadata": {},
   "outputs": [],
   "source": [
    "# 标签和连续变量\n",
    "def show_con_feature_under_label(dataframe, features=[], label='label'):\n",
    "    \"\"\"连续变量\"\"\"\n",
    "    label_1 = dataframe[label] == 1\n",
    "    label_0 = dataframe[label] == 0\n",
    "    plt.clf()\n",
    "    fcols = 4\n",
    "    frows = len(features)\n",
    "    plt.figure(figsize=(6*fcols, frows*1.5))\n",
    "    i = 0\n",
    "    for col in features:\n",
    "        i += 1\n",
    "        plt.subplot(frows//fcols+1, fcols, i)\n",
    "        sns.kdeplot(dataframe[col][label_1], color=\"Blue\", shade=True, label='不满意')\n",
    "        sns.kdeplot(dataframe[col][label_0], color=\"Red\", shade=True, label='满意')\n",
    "        # sns.displot(data=dataframe, x=col, hue=label, kind='kde')\n",
    "    plt.show()\n",
    "show_con_feature_under_label(train_data, cont_cols, 'label')\n"
   ]
  },
  {
   "cell_type": "code",
   "execution_count": null,
   "id": "appropriate-regard",
   "metadata": {},
   "outputs": [],
   "source": [
    "# 标签和类型变量\n",
    "def show_cate_feature_under_label(dataframe, features=[], label='label'):\n",
    "    \"\"\"类别变量与label\"\"\"\n",
    "    sns.set_style(style=None, rc=None)\n",
    "    fcols = 4\n",
    "    frows = len(features)\n",
    "    plt.figure(figsize=(6*fcols, frows*1.5))\n",
    "    i = 0\n",
    "    for col in features:\n",
    "        i += 1\n",
    "        plt.subplot(frows//fcols+1, fcols, i)\n",
    "        sns.catplot(kind=\"count\", x=col, hue=label, data=train_data)\n",
    "    plt.show()\n",
    "show_cate_feature_under_label(train_data, cate_cols, 'label')"
   ]
  }
 ],
 "metadata": {
  "kernelspec": {
   "display_name": "Python 3",
   "language": "python",
   "name": "python3"
  },
  "language_info": {
   "codemirror_mode": {
    "name": "ipython",
    "version": 3
   },
   "file_extension": ".py",
   "mimetype": "text/x-python",
   "name": "python",
   "nbconvert_exporter": "python",
   "pygments_lexer": "ipython3",
   "version": "3.8.5"
  }
 },
 "nbformat": 4,
 "nbformat_minor": 5
}
