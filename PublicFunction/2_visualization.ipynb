{
 "cells": [
  {
   "cell_type": "markdown",
   "id": "hispanic-restriction",
   "metadata": {},
   "source": [
    "### 数据可视化\n",
    "1. 更好的理解数据\n",
    "2. 是否能够根据可视化结果构建新的特征"
   ]
  },
  {
   "cell_type": "code",
   "execution_count": 2,
   "id": "political-dallas",
   "metadata": {
    "tags": []
   },
   "outputs": [
    {
     "ename": "NameError",
     "evalue": "name 'sns' is not defined",
     "output_type": "error",
     "traceback": [
      "\u001b[1;31m---------------------------------------------------------------------------\u001b[0m",
      "\u001b[1;31mNameError\u001b[0m                                 Traceback (most recent call last)",
      "\u001b[1;32m<ipython-input-2-7ef9a694ca86>\u001b[0m in \u001b[0;36m<module>\u001b[1;34m\u001b[0m\n\u001b[0;32m      2\u001b[0m \u001b[1;31m# 可以理解数据的分布和奇异值情况\u001b[0m\u001b[1;33m\u001b[0m\u001b[1;33m\u001b[0m\u001b[1;33m\u001b[0m\u001b[0m\n\u001b[0;32m      3\u001b[0m \u001b[1;31m# 通过观察bins，切分数据，并做one-hot编码\u001b[0m\u001b[1;33m\u001b[0m\u001b[1;33m\u001b[0m\u001b[1;33m\u001b[0m\u001b[0m\n\u001b[1;32m----> 4\u001b[1;33m \u001b[0msns\u001b[0m\u001b[1;33m.\u001b[0m\u001b[0mdistplot\u001b[0m\u001b[1;33m\u001b[0m\u001b[1;33m\u001b[0m\u001b[0m\n\u001b[0m",
      "\u001b[1;31mNameError\u001b[0m: name 'sns' is not defined"
     ]
    }
   ],
   "source": [
    "# 1. 连续单变量的数据可视化\n",
    "# 可以理解数据的分布和奇异值情况\n",
    "# 通过观察bins，切分数据，并做one-hot编码\n",
    "sns.distplot"
   ]
  },
  {
   "cell_type": "code",
   "execution_count": 21,
   "id": "systematic-colon",
   "metadata": {},
   "outputs": [],
   "source": [
    "-------------------------------------------------------------------------------------------"
   ]
  },
  {
   "cell_type": "code",
   "execution_count": 4,
   "id": "parliamentary-living",
   "metadata": {},
   "outputs": [],
   "source": [
    "# 2. 类别标签 + 类别/数值\n",
    "# https://blog.csdn.net/u013317445/article/details/88196373\n",
    "# 总结1 : swarm / bar / violin\n",
    "import pandas as pd\n",
    "import numpy as np\n",
    "import seaborn as sns\n",
    "import matplotlib.pyplot as plt\n",
    "path = 'C:/ZhangLI/Codes/DataSet/titanic/'\n",
    "gender_data = pd.read_csv(path + 'gender_submission.csv')\n",
    "train_data = pd.read_csv(path + 'train.csv')\n",
    "test_data = pd.read_csv(path + 'test.csv')"
   ]
  },
  {
   "cell_type": "code",
   "execution_count": 6,
   "id": "biological-murray",
   "metadata": {},
   "outputs": [
    {
     "data": {
      "text/html": [
       "<div>\n",
       "<style scoped>\n",
       "    .dataframe tbody tr th:only-of-type {\n",
       "        vertical-align: middle;\n",
       "    }\n",
       "\n",
       "    .dataframe tbody tr th {\n",
       "        vertical-align: top;\n",
       "    }\n",
       "\n",
       "    .dataframe thead th {\n",
       "        text-align: right;\n",
       "    }\n",
       "</style>\n",
       "<table border=\"1\" class=\"dataframe\">\n",
       "  <thead>\n",
       "    <tr style=\"text-align: right;\">\n",
       "      <th></th>\n",
       "      <th>PassengerId</th>\n",
       "      <th>Survived</th>\n",
       "      <th>Pclass</th>\n",
       "      <th>Name</th>\n",
       "      <th>Sex</th>\n",
       "      <th>Age</th>\n",
       "      <th>SibSp</th>\n",
       "      <th>Parch</th>\n",
       "      <th>Ticket</th>\n",
       "      <th>Fare</th>\n",
       "      <th>Cabin</th>\n",
       "      <th>Embarked</th>\n",
       "    </tr>\n",
       "  </thead>\n",
       "  <tbody>\n",
       "    <tr>\n",
       "      <th>0</th>\n",
       "      <td>1</td>\n",
       "      <td>0</td>\n",
       "      <td>3</td>\n",
       "      <td>Braund, Mr. Owen Harris</td>\n",
       "      <td>male</td>\n",
       "      <td>22.0</td>\n",
       "      <td>1</td>\n",
       "      <td>0</td>\n",
       "      <td>A/5 21171</td>\n",
       "      <td>7.2500</td>\n",
       "      <td>NaN</td>\n",
       "      <td>S</td>\n",
       "    </tr>\n",
       "    <tr>\n",
       "      <th>1</th>\n",
       "      <td>2</td>\n",
       "      <td>1</td>\n",
       "      <td>1</td>\n",
       "      <td>Cumings, Mrs. John Bradley (Florence Briggs Th...</td>\n",
       "      <td>female</td>\n",
       "      <td>38.0</td>\n",
       "      <td>1</td>\n",
       "      <td>0</td>\n",
       "      <td>PC 17599</td>\n",
       "      <td>71.2833</td>\n",
       "      <td>C85</td>\n",
       "      <td>C</td>\n",
       "    </tr>\n",
       "    <tr>\n",
       "      <th>2</th>\n",
       "      <td>3</td>\n",
       "      <td>1</td>\n",
       "      <td>3</td>\n",
       "      <td>Heikkinen, Miss. Laina</td>\n",
       "      <td>female</td>\n",
       "      <td>26.0</td>\n",
       "      <td>0</td>\n",
       "      <td>0</td>\n",
       "      <td>STON/O2. 3101282</td>\n",
       "      <td>7.9250</td>\n",
       "      <td>NaN</td>\n",
       "      <td>S</td>\n",
       "    </tr>\n",
       "    <tr>\n",
       "      <th>3</th>\n",
       "      <td>4</td>\n",
       "      <td>1</td>\n",
       "      <td>1</td>\n",
       "      <td>Futrelle, Mrs. Jacques Heath (Lily May Peel)</td>\n",
       "      <td>female</td>\n",
       "      <td>35.0</td>\n",
       "      <td>1</td>\n",
       "      <td>0</td>\n",
       "      <td>113803</td>\n",
       "      <td>53.1000</td>\n",
       "      <td>C123</td>\n",
       "      <td>S</td>\n",
       "    </tr>\n",
       "    <tr>\n",
       "      <th>4</th>\n",
       "      <td>5</td>\n",
       "      <td>0</td>\n",
       "      <td>3</td>\n",
       "      <td>Allen, Mr. William Henry</td>\n",
       "      <td>male</td>\n",
       "      <td>35.0</td>\n",
       "      <td>0</td>\n",
       "      <td>0</td>\n",
       "      <td>373450</td>\n",
       "      <td>8.0500</td>\n",
       "      <td>NaN</td>\n",
       "      <td>S</td>\n",
       "    </tr>\n",
       "    <tr>\n",
       "      <th>...</th>\n",
       "      <td>...</td>\n",
       "      <td>...</td>\n",
       "      <td>...</td>\n",
       "      <td>...</td>\n",
       "      <td>...</td>\n",
       "      <td>...</td>\n",
       "      <td>...</td>\n",
       "      <td>...</td>\n",
       "      <td>...</td>\n",
       "      <td>...</td>\n",
       "      <td>...</td>\n",
       "      <td>...</td>\n",
       "    </tr>\n",
       "    <tr>\n",
       "      <th>886</th>\n",
       "      <td>887</td>\n",
       "      <td>0</td>\n",
       "      <td>2</td>\n",
       "      <td>Montvila, Rev. Juozas</td>\n",
       "      <td>male</td>\n",
       "      <td>27.0</td>\n",
       "      <td>0</td>\n",
       "      <td>0</td>\n",
       "      <td>211536</td>\n",
       "      <td>13.0000</td>\n",
       "      <td>NaN</td>\n",
       "      <td>S</td>\n",
       "    </tr>\n",
       "    <tr>\n",
       "      <th>887</th>\n",
       "      <td>888</td>\n",
       "      <td>1</td>\n",
       "      <td>1</td>\n",
       "      <td>Graham, Miss. Margaret Edith</td>\n",
       "      <td>female</td>\n",
       "      <td>19.0</td>\n",
       "      <td>0</td>\n",
       "      <td>0</td>\n",
       "      <td>112053</td>\n",
       "      <td>30.0000</td>\n",
       "      <td>B42</td>\n",
       "      <td>S</td>\n",
       "    </tr>\n",
       "    <tr>\n",
       "      <th>888</th>\n",
       "      <td>889</td>\n",
       "      <td>0</td>\n",
       "      <td>3</td>\n",
       "      <td>Johnston, Miss. Catherine Helen \"Carrie\"</td>\n",
       "      <td>female</td>\n",
       "      <td>NaN</td>\n",
       "      <td>1</td>\n",
       "      <td>2</td>\n",
       "      <td>W./C. 6607</td>\n",
       "      <td>23.4500</td>\n",
       "      <td>NaN</td>\n",
       "      <td>S</td>\n",
       "    </tr>\n",
       "    <tr>\n",
       "      <th>889</th>\n",
       "      <td>890</td>\n",
       "      <td>1</td>\n",
       "      <td>1</td>\n",
       "      <td>Behr, Mr. Karl Howell</td>\n",
       "      <td>male</td>\n",
       "      <td>26.0</td>\n",
       "      <td>0</td>\n",
       "      <td>0</td>\n",
       "      <td>111369</td>\n",
       "      <td>30.0000</td>\n",
       "      <td>C148</td>\n",
       "      <td>C</td>\n",
       "    </tr>\n",
       "    <tr>\n",
       "      <th>890</th>\n",
       "      <td>891</td>\n",
       "      <td>0</td>\n",
       "      <td>3</td>\n",
       "      <td>Dooley, Mr. Patrick</td>\n",
       "      <td>male</td>\n",
       "      <td>32.0</td>\n",
       "      <td>0</td>\n",
       "      <td>0</td>\n",
       "      <td>370376</td>\n",
       "      <td>7.7500</td>\n",
       "      <td>NaN</td>\n",
       "      <td>Q</td>\n",
       "    </tr>\n",
       "  </tbody>\n",
       "</table>\n",
       "<p>891 rows × 12 columns</p>\n",
       "</div>"
      ],
      "text/plain": [
       "     PassengerId  Survived  Pclass  \\\n",
       "0              1         0       3   \n",
       "1              2         1       1   \n",
       "2              3         1       3   \n",
       "3              4         1       1   \n",
       "4              5         0       3   \n",
       "..           ...       ...     ...   \n",
       "886          887         0       2   \n",
       "887          888         1       1   \n",
       "888          889         0       3   \n",
       "889          890         1       1   \n",
       "890          891         0       3   \n",
       "\n",
       "                                                  Name     Sex   Age  SibSp  \\\n",
       "0                              Braund, Mr. Owen Harris    male  22.0      1   \n",
       "1    Cumings, Mrs. John Bradley (Florence Briggs Th...  female  38.0      1   \n",
       "2                               Heikkinen, Miss. Laina  female  26.0      0   \n",
       "3         Futrelle, Mrs. Jacques Heath (Lily May Peel)  female  35.0      1   \n",
       "4                             Allen, Mr. William Henry    male  35.0      0   \n",
       "..                                                 ...     ...   ...    ...   \n",
       "886                              Montvila, Rev. Juozas    male  27.0      0   \n",
       "887                       Graham, Miss. Margaret Edith  female  19.0      0   \n",
       "888           Johnston, Miss. Catherine Helen \"Carrie\"  female   NaN      1   \n",
       "889                              Behr, Mr. Karl Howell    male  26.0      0   \n",
       "890                                Dooley, Mr. Patrick    male  32.0      0   \n",
       "\n",
       "     Parch            Ticket     Fare Cabin Embarked  \n",
       "0        0         A/5 21171   7.2500   NaN        S  \n",
       "1        0          PC 17599  71.2833   C85        C  \n",
       "2        0  STON/O2. 3101282   7.9250   NaN        S  \n",
       "3        0            113803  53.1000  C123        S  \n",
       "4        0            373450   8.0500   NaN        S  \n",
       "..     ...               ...      ...   ...      ...  \n",
       "886      0            211536  13.0000   NaN        S  \n",
       "887      0            112053  30.0000   B42        S  \n",
       "888      2        W./C. 6607  23.4500   NaN        S  \n",
       "889      0            111369  30.0000  C148        C  \n",
       "890      0            370376   7.7500   NaN        Q  \n",
       "\n",
       "[891 rows x 12 columns]"
      ]
     },
     "execution_count": 6,
     "metadata": {},
     "output_type": "execute_result"
    }
   ],
   "source": [
    "train_data.columns\n"
   ]
  },
  {
   "cell_type": "code",
   "execution_count": null,
   "id": "union-blast",
   "metadata": {},
   "outputs": [],
   "source": [
    "sns.catplot(x=\"Survived\", y=\"Age\", data=train_data) # 默认为strip， jitter可以调整点的波动"
   ]
  },
  {
   "cell_type": "code",
   "execution_count": 11,
   "id": "ranging-failing",
   "metadata": {},
   "outputs": [],
   "source": [
    "# 适合小数据量画图\n",
    "# swarm 蜂窝图\n",
    "# 顺序会自动判断\n",
    "sns.catplot(x='Survived', y='Fare', data=train_data, kind='swarm') # swarm 蜂窝图\n",
    "sns.catplot(x='Survived', y='Fare', hue='Sex', data=train_data, kind='swarm') # hue 对数据增加颜色\n",
    "sns.catplot(x='Survived', y='Fare', hue='Sex', order=[1, 0], data=train_data, kind='swarm') # order可以指定顺序"
   ]
  },
  {
   "cell_type": "code",
   "execution_count": 20,
   "id": "stable-external",
   "metadata": {},
   "outputs": [],
   "source": [
    "# 分类分布图\n",
    "sns.catplot(x='Survived', y='Fare', data=train_data, kind='box') # 离群点、上界、上四分位数、均值、中位数、下四分位数、下界、离群点\n",
    "sns.catplot(x='Survived', y='Fare', hue='Sex', data=train_data, kind='box') # 生存的男性的票价，女性的票价分布\n",
    "train_data['Sex_new'] = train_data['Sex'].isin(['lgbt'])\n",
    "sns.catplot(x='Survived', y='Fare', hue='Sex_new', dodge=False, data=train_data, kind='box')  # hue只有一个参数，所以将dodge=False\n",
    "\n",
    "sns.catplot(x='Survived', y='Fare', data=train_data, kind='boxen') # 对大数据更加友好"
   ]
  },
  {
   "cell_type": "code",
   "execution_count": 24,
   "id": "fatty-clearance",
   "metadata": {
    "tags": []
   },
   "outputs": [
    {
     "data": {
      "text/plain": [
       "<seaborn.axisgrid.FacetGrid at 0x170e0c3da90>"
      ]
     },
     "execution_count": 24,
     "metadata": {},
     "output_type": "execute_result"
    },
    {
     "data": {
      "image/png": "[encoded data removed]",
      "text/plain": [
       "<Figure size 430.5x360 with 1 Axes>"
      ]
     },
     "metadata": {
      "needs_background": "light"
     },
     "output_type": "display_data"
    }
   ],
   "source": [
    "# 小提琴图\n",
    "# 它将箱线图和核密度估计(kde: kernel density estimation)结合起来\n",
    "sns.catplot(x='Survived', y='Fare', hue='Sex', split=True, data=train_data, kind='violin') # 当hue只有两类是，split可以设置为True"
   ]
  },
  {
   "cell_type": "code",
   "execution_count": 54,
   "id": "political-cache",
   "metadata": {
    "tags": []
   },
   "outputs": [
    {
     "name": "stdout",
     "output_type": "stream",
     "text": [
      "(64, 13)\n",
      "(9, 13)\n",
      "----- 0.8767123287671232\n",
      "(140, 13)\n",
      "(63, 13)\n",
      "(27, 13)\n",
      "(9, 13)\n",
      "(29, 13)\n",
      "(66, 13)\n",
      "(77, 13)\n",
      "(364, 13)\n",
      "(3, 13)\n",
      "(38, 13)\n"
     ]
    },
    {
     "data": {
      "image/png": "[encoded data removed]",
      "text/plain": [
       "<Figure size 418.25x360 with 1 Axes>"
      ]
     },
     "metadata": {
      "needs_background": "light"
     },
     "output_type": "display_data"
    }
   ],
   "source": [
    "# 分类统计估计图\n",
    "# 条形图\n",
    "# 统计 男性中 C类座位 生还人数 / 男性中 c类座位 总人数\n",
    "sns.catplot(kind=\"bar\", x=\"Sex\", y=\"Survived\", hue=\"Embarked\", data=train_data)\n",
    "\n",
    "m = train_data[(train_data['Embarked']=='C') & (train_data['Sex']=='female')]\n",
    "n = train_data[(train_data['Embarked']=='S') & (train_data['Sex']=='female')]\n",
    "l = train_data[(train_data['Embarked']=='Q') & (train_data['Sex']=='female')]\n",
    "print(m[m['Survived']==1].shape)\n",
    "print(m[m['Survived']==0].shape)\n",
    "print('-----', m[m['Survived']==1].shape[0]/m.shape[0])\n",
    "\n",
    "print(n[n['Survived']==1].shape)\n",
    "print(n[n['Survived']==0].shape)\n",
    "\n",
    "print(l[l['Survived']==1].shape)\n",
    "print(l[l['Survived']==0].shape)\n",
    "\n",
    "p = train_data[(train_data['Embarked']=='C') & (train_data['Sex']=='male')]\n",
    "q = train_data[(train_data['Embarked']=='S') & (train_data['Sex']=='male')]\n",
    "r = train_data[(train_data['Embarked']=='Q') & (train_data['Sex']=='male')]\n",
    "print(p[p['Survived']==1].shape)\n",
    "print(p[p['Survived']==0].shape)\n",
    "\n",
    "print(q[q['Survived']==1].shape)\n",
    "print(q[q['Survived']==0].shape)\n",
    "\n",
    "print(r[r['Survived']==1].shape)\n",
    "print(r[r['Survived']==0].shape)"
   ]
  },
  {
   "cell_type": "code",
   "execution_count": 58,
   "id": "rough-armstrong",
   "metadata": {
    "tags": []
   },
   "outputs": [
    {
     "data": {
      "text/plain": [
       "<seaborn.axisgrid.FacetGrid at 0x170e22c1d30>"
      ]
     },
     "execution_count": 58,
     "metadata": {},
     "output_type": "execute_result"
    },
    {
     "data": {
      "image/png": "[encoded data removed]",
      "text/plain": [
       "<Figure size 418.25x360 with 1 Axes>"
      ]
     },
     "metadata": {
      "needs_background": "light"
     },
     "output_type": "display_data"
    }
   ],
   "source": [
    "# 观测量图\n",
    "# 只有一个轴， 要不x, 要不y \n",
    "# 感觉只作为统计用可以，效果不明显\n",
    "sns.catplot(kind=\"count\", x=\"Sex\", data=train_data)\n",
    "sns.catplot(kind=\"count\", x=\"Sex\",  hue=\"Embarked\", data=train_data)"
   ]
  },
  {
   "cell_type": "code",
   "execution_count": 60,
   "id": "biblical-return",
   "metadata": {
    "tags": []
   },
   "outputs": [
    {
     "data": {
      "text/plain": [
       "<seaborn.axisgrid.FacetGrid at 0x170e5a70c10>"
      ]
     },
     "execution_count": 60,
     "metadata": {},
     "output_type": "execute_result"
    },
    {
     "data": {
      "image/png": "[encoded data removed]",
      "text/plain": [
       "<Figure size 418.25x1080 with 3 Axes>"
      ]
     },
     "metadata": {
      "needs_background": "light"
     },
     "output_type": "display_data"
    }
   ],
   "source": [
    "# row、col 展示多重关系\n",
    "sns.catplot(kind=\"count\", x=\"Sex\", hue=\"Embarked\", col='Pclass', data=train_data)\n",
    "sns.catplot(kind=\"count\", x=\"Sex\", hue=\"Embarked\", row='Pclass', data=train_data)"
   ]
  },
  {
   "cell_type": "markdown",
   "id": "attractive-vintage",
   "metadata": {},
   "source": [
    "# 一、类别特征和连续特征可视化\n",
    "\n",
    "## 1、连续变量可视化\n",
    "1. show_feature_use_kde\n",
    "\n",
    "## 2、类别变量可视化\n",
    "1. show_feature_use_box\n",
    "2. show_feature_use_count\n",
    "\n",
    "## 3、连续性变量+类型型标签\n",
    "1. show_con_feature_under_label\n",
    "\n",
    "## 4、类别型变量+类别型标签\n",
    "1. show_cate_feature_under_label"
   ]
  },
  {
   "cell_type": "code",
   "execution_count": 2,
   "id": "sharing-extension",
   "metadata": {},
   "outputs": [],
   "source": [
    "cont_cols = ['age','n3m_fact_fee', 'n3m_avg_call_fee', 'n3m_fav_fee', 'n3m_pay_fee','tot_flow_used','tot_flow_rate','total_flow',\n",
    "             'dou_overfee','mou_overfee','lm_dou_overfee','lm_mou_overfee','l2m_dou_overfee','l2m_mou_overfee']\n",
    "cate_cols = ['sex_new', 'vip_flag','os_cnt', 'os_days', 'l_os_cnt', 'l_os_days', 'll_os_cnt', 'll_os_days',\n",
    "            'pay_active_cnts', \n",
    "            'dou_overfee_lable','mou_overfee_lable','lm_dou_overfee_lable','lm_mou_overfee_lable','l2m_dou_overfee_lable','l2m_mou_overfee_lable',\n",
    "            'cpl_cnt','veido_cpl_cnt','band_cpl_cnt','fee_cpl_cnt',]\n",
    "# 连续变量\n",
    "def show_feature_use_kde(dataframe, features=[]):\n",
    "    \"\"\"连续变量\"\"\"\n",
    "    plt.clf()\n",
    "    fcols = 5\n",
    "    frows = len(features)\n",
    "    plt.figure(figsize=(6*fcols, frows*1.5))\n",
    "    i = 0\n",
    "    for col in features:\n",
    "        i += 1\n",
    "        plt.subplot(frows//fcols+1, fcols, i)\n",
    "        sns.kdeplot(x=dataframe[col], shade=True)\n",
    "    plt.show()\n",
    "# show_feature_use_kde(train_data, cont_cols)"
   ]
  },
  {
   "cell_type": "code",
   "execution_count": 16,
   "id": "growing-slovakia",
   "metadata": {},
   "outputs": [
    {
     "data": {
      "text/plain": [
       "<Figure size 432x288 with 0 Axes>"
      ]
     },
     "metadata": {},
     "output_type": "display_data"
    },
    {
     "data": {
      "image/png": "[encoded data removed]",
      "text/plain": [
       "<Figure size 2400x360 with 5 Axes>"
      ]
     },
     "metadata": {
      "needs_background": "light"
     },
     "output_type": "display_data"
    }
   ],
   "source": [
    "# 类型性变量\n",
    "def show_feature_use_box(dataframe, features=[]):\n",
    "    \"\"\"连续变量\"\"\"\n",
    "    plt.clf()\n",
    "    fcols = 5\n",
    "    frows = len(features)\n",
    "    plt.figure(figsize=(6*fcols, frows*1.5))\n",
    "    i = 0\n",
    "    for col in features:\n",
    "        i += 1\n",
    "        plt.subplot(frows//fcols+1, fcols, i)\n",
    "        sns.boxplot(y=dataframe[col], orient=\"h\")\n",
    "    plt.show()\n",
    "# show_feature_use_box(train_data, cont_cols)\n",
    "\n",
    "# 类型变量\n",
    "cate_cols = ['Survived','SibSp','Embarked']\n",
    "def show_feature_use_count(dataframe, features=['sex_new']):\n",
    "    \"\"\"类别变量\"\"\"\n",
    "    plt.clf()\n",
    "    fcols = 5\n",
    "    frows = len(features)\n",
    "#     plt.figure(figsize=(6*fcols, frows*1.5))\n",
    "    i = 0\n",
    "    fig, axes = plt.subplots(frows//fcols+1, fcols, figsize=(6*fcols, frows*1.5), dpi=80)\n",
    "    for col in features:\n",
    "        i += 1\n",
    "        sns.countplot(x=dataframe[col], ax=axes[i-1])\n",
    "    plt.show()\n",
    "show_feature_use_count(train_data, cate_cols)\n",
    "\n",
    "# 类别标签+类型变量\n",
    "def show_feature_use_count(dataframe, features=['sex_new']):\n",
    "    \"\"\"类别变量\"\"\"\n",
    "    plt.clf()\n",
    "    fcols = 5\n",
    "    frows = len(features)\n",
    "    plt.figure(figsize=(6*fcols, frows*1.5))\n",
    "    i = 0\n",
    "    for col in features:\n",
    "        i += 1\n",
    "        plt.subplot(frows//fcols+1, fcols, i)\n",
    "        sns.countplot(x=col, hue=label, data=dataframe)\n",
    "    plt.show()\n",
    "# show_feature_use_count(train_data, cate_cols)\n",
    "  "
   ]
  },
  {
   "cell_type": "code",
   "execution_count": 1,
   "id": "increased-antarctica",
   "metadata": {},
   "outputs": [],
   "source": [
    "# 标签和连续变量\n",
    "def show_con_feature_under_label(dataframe, features=[], label='label'):\n",
    "    \"\"\"连续变量\"\"\"\n",
    "    label_1 = dataframe[label] == 1\n",
    "    label_0 = dataframe[label] == 0\n",
    "    plt.clf()\n",
    "    fcols = 4\n",
    "    frows = len(features)\n",
    "    plt.figure(figsize=(6*fcols, frows*1.5))\n",
    "    i = 0\n",
    "    for col in features:\n",
    "        i += 1\n",
    "        plt.subplot(frows//fcols+1, fcols, i)\n",
    "        sns.kdeplot(dataframe[col][label_1], color=\"Blue\", shade=True, label='不满意')\n",
    "        sns.kdeplot(dataframe[col][label_0], color=\"Red\", shade=True, label='满意')\n",
    "        # sns.displot(data=dataframe, x=col, hue=label, kind='kde')\n",
    "    plt.show()\n",
    "show_con_feature_under_label(train_data, cont_cols, 'label')\n"
   ]
  },
  {
   "cell_type": "code",
   "execution_count": null,
   "id": "liable-excess",
   "metadata": {},
   "outputs": [],
   "source": [
    "# 标签和类型变量\n",
    "def show_cate_feature_under_label(dataframe, features=[], label='label'):\n",
    "    \"\"\"类别变量与label\"\"\"\n",
    "    sns.set_style(style=None, rc=None)\n",
    "    fcols = 4\n",
    "    frows = len(features)\n",
    "    plt.figure(figsize=(6*fcols, frows*1.5))\n",
    "    i = 0\n",
    "    for col in features:\n",
    "        i += 1\n",
    "        plt.subplot(frows//fcols+1, fcols, i)\n",
    "        sns.catplot(kind=\"count\", x=col, hue=label, data=train_data)\n",
    "    plt.show()\n",
    "show_cate_feature_under_label(train_data, cate_cols, 'label')"
   ]
  },
  {
   "cell_type": "code",
   "execution_count": 25,
   "id": "basic-pierce",
   "metadata": {},
   "outputs": [
    {
     "data": {
      "image/png": "[encoded data removed]",
      "text/plain": [
       "<Figure size 432x288 with 1 Axes>"
      ]
     },
     "metadata": {},
     "output_type": "display_data"
    }
   ],
   "source": [
    "import matplotlib.pyplot as plt\n",
    "def show_pie():\n",
    "    plt.rcParams['font.sans-serif']=['SimHei']\n",
    "    colors=['#ff9999','lightgrey']  # 自定义颜色\n",
    "    plt.pie(x = [491475,47757205],\n",
    "           explode=[0.1,0.07],\n",
    "           labels=['5G潜客','非5G潜客'],\n",
    "           colors=colors,\n",
    "           autopct='%.2f%%')\n",
    "    plt.title('正负样本占比')\n",
    "show_pie()"
   ]
  },
  {
   "cell_type": "code",
   "execution_count": null,
   "id": "ancient-fusion",
   "metadata": {},
   "outputs": [],
   "source": []
  }
 ],
 "metadata": {
  "kernelspec": {
   "display_name": "Python 3",
   "language": "python",
   "name": "python3"
  },
  "language_info": {
   "codemirror_mode": {
    "name": "ipython",
    "version": 3
   },
   "file_extension": ".py",
   "mimetype": "text/x-python",
   "name": "python",
   "nbconvert_exporter": "python",
   "pygments_lexer": "ipython3",
   "version": "3.8.5"
  }
 },
 "nbformat": 4,
 "nbformat_minor": 5
}
