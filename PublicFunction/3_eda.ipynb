{
 "cells": [
  {
   "cell_type": "markdown",
   "id": "purple-developer",
   "metadata": {},
   "source": [
    "### 数据预处理\n",
    "1. 替换数据 dataframe.sex.replace({'F':1, 'M':0})\n",
    "2. "
   ]
  },
  {
   "cell_type": "code",
   "execution_count": null,
   "id": "composed-brooklyn",
   "metadata": {},
   "outputs": [],
   "source": [
    "c_data.Gender = c_data.Gender.replace({'F':1,'M':0})\n",
    "c_data = pd.concat([c_data,pd.get_dummies(c_data['Card_Category']).drop(columns=['Platinum'])], axis=1)\n",
    "c_data.drop(columns = ['Education_Level','Income_Category','Marital_Status','Card_Category','CLIENTNUM'], inplace=True)\n",
    "# 展示独热编码后的特征，是不是多了几列啦"
   ]
  },
  {
   "cell_type": "code",
   "execution_count": null,
   "id": "suspended-brown",
   "metadata": {},
   "outputs": [],
   "source": []
  },
  {
   "cell_type": "markdown",
   "id": "important-suspect",
   "metadata": {},
   "source": [
    "### 类别型 特征处理\n",
    "1. Label encoding (sklearn LabelEncoder / pandas factorize)\n",
    "2. 序列编码（Ordinal Encoding）(.map(dict))\n",
    "3. 独热编码(One-Hot Encoding)\n",
    "4. 频数编码（Frequency Encoding/Count Encoding) (groupby()[].agg([(,),(,)]))\n",
    "5. 目标编码（Target Encoding/Mean Encoding）---\n",
    "6. Beta Target Encoding\n",
    "7. M-Estimate Encoding\n",
    "8. James-Stein Encoding\n",
    "9. Weight of Evidence Encoder\n",
    "10. Leave-one-out Encoder (LOO or LOOE)\n",
    "11. Binary Encoding\n",
    "12. Hashing Encoding\n",
    "13. Probability Ratio Encoding\n",
    "14. Sum Encoder (Deviation Encoder, Effect Encoder)\n",
    "15. Helmert Encoding\n",
    "16. CatBoost Encoding"
   ]
  },
  {
   "cell_type": "code",
   "execution_count": 6,
   "id": "abroad-search",
   "metadata": {},
   "outputs": [
    {
     "name": "stdout",
     "output_type": "stream",
     "text": [
      "['amsterdam' 'paris' 'tokyo']\n"
     ]
    },
    {
     "data": {
      "text/plain": [
       "array(['paris', 'paris', 'tokyo', 'amsterdam'], dtype='<U9')"
      ]
     },
     "execution_count": 6,
     "metadata": {},
     "output_type": "execute_result"
    }
   ],
   "source": [
    "# 1. label encoding  \n",
    "# 一列变一列，但不对应顺序关系\n",
    "# fit transform inverse_transfrom classes_\n",
    "from sklearn.preprocessing import LabelEncoder\n",
    "le = LabelEncoder()\n",
    "city_list = [\"paris\", \"paris\", \"tokyo\", \"amsterdam\"]\n",
    "le.fit(city_list)\n",
    "print(le.classes_) # 查看输出种类 ['amsterdam', 'paris', 'tokyo']\n",
    "city_list_en = le.transform(city_list) # encode\n",
    "le.inverse_transform(city_list_en) # decode"
   ]
  },
  {
   "cell_type": "code",
   "execution_count": 15,
   "id": "accredited-quality",
   "metadata": {},
   "outputs": [],
   "source": [
    "# example use sklearn label\n",
    "import pandas as pd\n",
    "from sklearn.preprocessing import LabelEncoder\n",
    "df = pd.DataFrame({\n",
    "    'pets': ['cat', 'dog', 'cat', 'monkey', 'dog', 'dog'],\n",
    "    'owner': ['Champ', 'Ron', 'Brick', 'Champ', 'Veronica', 'Ron'],\n",
    "    'location': ['San_Diego', 'New_York', 'New_York', 'San_Diego', 'San_Diego',\n",
    "                 'New_York']\n",
    "})\n",
    "d = {}\n",
    "le = LabelEncoder()\n",
    "cols_to_encode = ['pets', 'owner', 'location']\n",
    "for col in cols_to_encode:\n",
    "    df[col] = le.fit_transform(df[col])\n",
    "    d[col] = le.classes_"
   ]
  },
  {
   "cell_type": "code",
   "execution_count": 27,
   "id": "recognized-casino",
   "metadata": {},
   "outputs": [
    {
     "data": {
      "text/plain": [
       "Index(['green', 'bule', 'red'], dtype='object')"
      ]
     },
     "execution_count": 27,
     "metadata": {},
     "output_type": "execute_result"
    }
   ],
   "source": [
    "# label encode: use factorize of pandas\n",
    "import numpy as np\n",
    "import pandas as pd\n",
    "df = pd.DataFrame(['green','bule','red','bule','green'],columns=['color'])\n",
    "pd.factorize(df['color'])\n",
    "pd.factorize(df['color'])[0]\n",
    "pd.factorize(df['color'])[1]"
   ]
  },
  {
   "cell_type": "code",
   "execution_count": 87,
   "id": "japanese-easter",
   "metadata": {},
   "outputs": [],
   "source": [
    "# Ordinal Encoding 序列编码\n",
    "df = pd.DataFrame(['green','bule','red','bule','green'],columns=['color'])\n",
    "ord_map = {'green':10, 'bule':33, 'red':100}\n",
    "df['color'] = df['color'].map(ord_map)"
   ]
  },
  {
   "cell_type": "code",
   "execution_count": null,
   "id": "rough-particular",
   "metadata": {},
   "outputs": [],
   "source": [
    "# One-Hot Encoding\n",
    "# 高离散特征，比如工作 使用独热编码更合理\n",
    "# One-Hot + PCA\n",
    "from sklearn.preprocessing import OneHotEncoder\n",
    "import numpy as np\n",
    "df = pd.DataFrame([\n",
    "    ['green', 'Chevrolet', 2017],\n",
    "    ['blue', 'BMW', 2015],\n",
    "    ['yellow', 'Lexus', 2018],\n",
    "])\n",
    "df.columns = ['color', 'make', 'year']\n",
    "def LabelOneHotEncoder(data, categorical_features):\n",
    "    d_num = np.array([])\n",
    "    for f in data.columns:\n",
    "        if f in categorical_features:\n",
    "            le, ohe = LabelEncoder(), OneHotEncoder()\n",
    "            data[f] = le.fit_transform(data[f])\n",
    "            if len(d_num) == 0:\n",
    "                d_num = np.array(ohe.fit_transform(data[[f]]))\n",
    "            else:\n",
    "                d_num = np.hstack((d_num, ohe.fit_transform(data[[f]]).A))\n",
    "        else:\n",
    "            if len(d_num) == 0:\n",
    "                d_num = np.array(data[[f]])\n",
    "            else:\n",
    "                d_num = np.hstack((d_num, data[[f]]))\n",
    "    return d_num\n",
    "df_new = LabelOneHotEncoder(df, ['color', 'make', 'year'])\n",
    "df_new\n",
    "\n",
    "def one_hot_encoding(dataframe, column, train_flag=True):\n",
    "    \"\"\"column -> columns\"\"\"\n",
    "    x = dataframe[column].values.reshape(-1, 1)\n",
    "    if train_flag is True:\n",
    "        ohe = OneHotEncoder().fit(x)   \n",
    "        joblib.dump(ohe, 'tf_ohe.pkl')\n",
    "    else:\n",
    "        ohe = joblib.load('tf_ohe.pkl')\n",
    "    extend_col = pd.DataFrame(ohe.transform(X).toarray())\n",
    "    dataframe[ohe.get_feature_names()] = extend_col\n",
    "    dataframe.drop([column], axis=1, inplace=True)\n",
    "    return dataframe"
   ]
  },
  {
   "cell_type": "code",
   "execution_count": 100,
   "id": "fancy-tyler",
   "metadata": {},
   "outputs": [
    {
     "data": {
      "text/html": [
       "<div>\n",
       "<style scoped>\n",
       "    .dataframe tbody tr th:only-of-type {\n",
       "        vertical-align: middle;\n",
       "    }\n",
       "\n",
       "    .dataframe tbody tr th {\n",
       "        vertical-align: top;\n",
       "    }\n",
       "\n",
       "    .dataframe thead th {\n",
       "        text-align: right;\n",
       "    }\n",
       "</style>\n",
       "<table border=\"1\" class=\"dataframe\">\n",
       "  <thead>\n",
       "    <tr style=\"text-align: right;\">\n",
       "      <th></th>\n",
       "      <th>color</th>\n",
       "      <th>cnt</th>\n",
       "    </tr>\n",
       "  </thead>\n",
       "  <tbody>\n",
       "    <tr>\n",
       "      <th>0</th>\n",
       "      <td>10</td>\n",
       "      <td>2</td>\n",
       "    </tr>\n",
       "    <tr>\n",
       "      <th>1</th>\n",
       "      <td>33</td>\n",
       "      <td>2</td>\n",
       "    </tr>\n",
       "    <tr>\n",
       "      <th>2</th>\n",
       "      <td>100</td>\n",
       "      <td>1</td>\n",
       "    </tr>\n",
       "    <tr>\n",
       "      <th>3</th>\n",
       "      <td>33</td>\n",
       "      <td>2</td>\n",
       "    </tr>\n",
       "    <tr>\n",
       "      <th>4</th>\n",
       "      <td>10</td>\n",
       "      <td>2</td>\n",
       "    </tr>\n",
       "  </tbody>\n",
       "</table>\n",
       "</div>"
      ],
      "text/plain": [
       "   color  cnt\n",
       "0     10    2\n",
       "1     33    2\n",
       "2    100    1\n",
       "3     33    2\n",
       "4     10    2"
      ]
     },
     "execution_count": 100,
     "metadata": {},
     "output_type": "execute_result"
    }
   ],
   "source": [
    "# Frequency Encoding\n",
    "data_count = df.groupby('color')['color'].agg([('cnt','size')]).reset_index()\n",
    "pd.merge(df, data_count, on = 'color', how = 'left')"
   ]
  },
  {
   "cell_type": "code",
   "execution_count": null,
   "id": "flexible-permit",
   "metadata": {},
   "outputs": [],
   "source": [
    "# 目标编码\n",
    "# 高基数定性特征的例子：IP地址、电子邮件域名、城市名、家庭住址、街道、产品号码。"
   ]
  }
 ],
 "metadata": {
  "kernelspec": {
   "display_name": "Python 3",
   "language": "python",
   "name": "python3"
  },
  "language_info": {
   "codemirror_mode": {
    "name": "ipython",
    "version": 3
   },
   "file_extension": ".py",
   "mimetype": "text/x-python",
   "name": "python",
   "nbconvert_exporter": "python",
   "pygments_lexer": "ipython3",
   "version": "3.8.5"
  }
 },
 "nbformat": 4,
 "nbformat_minor": 5
}
