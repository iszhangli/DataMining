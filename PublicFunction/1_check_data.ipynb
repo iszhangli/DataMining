{
 "cells": [
  {
   "cell_type": "markdown",
   "id": "domestic-belief",
   "metadata": {},
   "source": [
    "# 一、探索数据\n",
    "## 1、读取数据\n",
    "* `read_data(name=None, source_path=None)`\n",
    "\n",
    "## 2、查看数据类型\n",
    "\n",
    "## 3、数据缺失及唯一值确定"
   ]
  },
  {
   "cell_type": "code",
   "execution_count": null,
   "id": "strange-semester",
   "metadata": {},
   "outputs": [],
   "source": [
    "# 读取数据\n",
    "def read_data(name=None, source_path=None):\n",
    "    if name is None:\n",
    "        print('Source data NA. GG')\n",
    "    elif name == 'dsId':\n",
    "        return ds.load(source_path)\n",
    "    elif name == 'df':\n",
    "        return pd.read_csv(source_path, sep='\\t')\n",
    "    return 0"
   ]
  },
  {
   "cell_type": "code",
   "execution_count": null,
   "id": "optical-citizenship",
   "metadata": {},
   "outputs": [],
   "source": [
    "# 查看数据维度\n",
    "print(f'Train dataset has {train.shape[0]} rows and {train.shape[1]} columns.')\n",
    "print(f'Test dataset has {test.shape[0]} rows and {test.shape[1]} columns.')\n",
    "# 查看哪些列具有缺失值\n",
    "print(f'There are {train_transaction.isnull().any().sum()} columns in train dataset with missing values.')\n",
    "print(f'There are {train_identity.isnull().any().sum()} columns in train dataset with missing values.')\n",
    "# 查看数据值唯一的列\n",
    "one_value_cols = [col for col in train.columns if train[col].nunique() <= 1]\n",
    "one_value_cols_test = [col for col in test.columns if test[col].nunique() <= 1]\n",
    "print(one_value_cols == one_value_cols_test)\n",
    "print(f'There are {len(one_value_cols)} columns in train dataset with one unique value.')\n",
    "print(f'There are {len(one_value_cols_test)} columns in test dataset with one unique value.')\n",
    "# 查看数据缺失值情况\n",
    "nan_clos = [col for col in rawData.columns if rawData[col].isna().sum() / rawData.shape[0] > 0.90]\n",
    "print(f'There are {len(nan_clos)} columns in train dataset with ... value.')\n",
    "drop_cols = nan_clos + one_value_cols"
   ]
  },
  {
   "cell_type": "code",
   "execution_count": null,
   "id": "expired-disorder",
   "metadata": {},
   "outputs": [],
   "source": [
    "# 查看数据类型\n",
    "train.dtypes\n",
    "# 查看缺失值并排序\n",
    "train.isna().sum().sort_values()\n",
    "# 删除缺失值大于95%\n",
    "rawData.columns[(rawData.isna().sum() / rawData.shape[0])>0.89]\n",
    "# 查看特征类型 and 判断类别型\n",
    "train.nunique().sort_values()"
   ]
  },
  {
   "cell_type": "markdown",
   "id": "metallic-mailman",
   "metadata": {},
   "source": [
    "# 一、验证训练集和测试集的分布是否相同\n",
    "1. 训练集 = 1 / 测试集 = 0\n",
    "2. 二分类模型训练\n",
    "3. 如果AUC=0.5左右可以用，否则需要删除噪声"
   ]
  },
  {
   "cell_type": "code",
   "execution_count": null,
   "id": "indoor-republican",
   "metadata": {},
   "outputs": [],
   "source": [
    "# 训练集和测试集的数据是否不同\n",
    "# 训练集 测试集 打标签\n",
    "train_data['u_label'] = 0\n",
    "test_data['u_label'] = 1\n",
    "train_new_data = train_data.drop(columns=['label'])\n",
    "valid_data = pd.concat([train_new_data, test_data], axis=0)\n",
    "valid_new_data = valid_data.drop(columns=['tagid', 'time'])\n",
    "# 简单特征处理\n",
    "from sklearn.preprocessing import LabelEncoder\n",
    "le = LabelEncoder()\n",
    "valid_new_data['provice'] = le.fit_transform(valid_new_data.provice)\n",
    "valid_new_data['city'] = le.fit_transform(valid_new_data.city)\n",
    "valid_new_data['model'] = le.fit_transform(valid_new_data.model)\n",
    "valid_new_data['make'] = le.fit_transform(valid_new_data.make)\n",
    "# 划分数据集\n",
    "from sklearn.model_selection import train_test_split\n",
    "x_train, x_test, y_train, y_test = train_test_split(valid_new_data.iloc[:,0:-1], valid_new_data.iloc[:,-1], test_size=0.3)\n",
    "# 模型训练\n",
    "import lightgbm as lgb\n",
    "params = {\n",
    "    'objective': 'binary',\n",
    "    'boosting_type': 'gbdt',\n",
    "    'metric': 'auc'\n",
    "}\n",
    "train_set = lgb.Dataset(x_train, y_train)\n",
    "valid_set = lgb.Dataset(x_test, y_test)\n",
    "lgb.train(params=params, train_set=train_set, valid_sets=[train_set, valid_set], num_boost_round=1000, verbose_eval=100)"
   ]
  }
 ],
 "metadata": {
  "kernelspec": {
   "display_name": "Python 3",
   "language": "python",
   "name": "python3"
  },
  "language_info": {
   "codemirror_mode": {
    "name": "ipython",
    "version": 3
   },
   "file_extension": ".py",
   "mimetype": "text/x-python",
   "name": "python",
   "nbconvert_exporter": "python",
   "pygments_lexer": "ipython3",
   "version": "3.8.5"
  }
 },
 "nbformat": 4,
 "nbformat_minor": 5
}
