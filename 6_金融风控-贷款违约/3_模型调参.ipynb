{
 "cells": [
  {
   "cell_type": "code",
   "execution_count": 1,
   "id": "continued-matrix",
   "metadata": {},
   "outputs": [],
   "source": [
    "import pandas as pd\n",
    "import numpy as np\n",
    "import warnings\n",
    "import os\n",
    "import seaborn as sns\n",
    "import matplotlib.pyplot as plt"
   ]
  },
  {
   "cell_type": "code",
   "execution_count": 2,
   "id": "informal-course",
   "metadata": {},
   "outputs": [],
   "source": [
    "path = 'C:/ZhangLI/Codes/DataSet/零基础入门金融风控-贷款违约预测'\n",
    "train = pd.read_csv(path+'/train.csv')\n",
    "test = pd.read_csv(path+'/testA.csv')"
   ]
  },
  {
   "cell_type": "code",
   "execution_count": null,
   "id": "bridal-rogers",
   "metadata": {},
   "outputs": [],
   "source": [
    "# 信用评分 为了可解释性，使用逻辑回归进行建模 "
   ]
  }
 ],
 "metadata": {
  "kernelspec": {
   "display_name": "Python 3",
   "language": "python",
   "name": "python3"
  },
  "language_info": {
   "codemirror_mode": {
    "name": "ipython",
    "version": 3
   },
   "file_extension": ".py",
   "mimetype": "text/x-python",
   "name": "python",
   "nbconvert_exporter": "python",
   "pygments_lexer": "ipython3",
   "version": "3.8.5"
  }
 },
 "nbformat": 4,
 "nbformat_minor": 5
}
