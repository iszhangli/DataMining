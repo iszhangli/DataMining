{
 "cells": [
  {
   "cell_type": "code",
   "execution_count": null,
   "id": "senior-breeding",
   "metadata": {},
   "outputs": [],
   "source": [
    "import pandas as pd\n",
    "import os\n",
    "import lightgbm as lgb\n",
    "import xgboost as xgb\n",
    "from sklearn.linear_model import SGDRegressor, LinearRegression, Ridge\n",
    "from sklearn.preprocessing import MinMaxScaler\n",
    "import math\n",
    "import numpy as np\n",
    "from tqdm import tqdm\n",
    "from sklearn.model_selection import StratifiedKFold, KFold\n",
    "from sklearn.metrics import accuracy_score, f1_score, roc_auc_score, log_loss\n",
    "import matplotlib.pyplot as plt\n",
    "import time\n",
    "import warnings\n",
    "warnings.filterwarnings('ignore')\n",
    "\n",
    "import gc"
   ]
  },
  {
   "cell_type": "code",
   "execution_count": null,
   "id": "norman-innocent",
   "metadata": {},
   "outputs": [],
   "source": [
    "path = 'C:/ZhangLI/Codes/DataSet/零基础入门金融风控-贷款违约预测'\n",
    "train = pd.read_csv(path+'/train.csv')\n",
    "test = pd.read_csv(path+'/testA.csv')"
   ]
  },
  {
   "cell_type": "markdown",
   "id": "soviet-appreciation",
   "metadata": {},
   "source": [
    "1. 加权平均法\n",
    "pre = (pre1 + pre2 + pre3 +...+pren )/n\n",
    "pre = 0.3pre1 + 0.3pre2 + 0.4pre3 \n",
    "2. 投票\n",
    "加权投票\n"
   ]
  },
  {
   "cell_type": "code",
   "execution_count": 3,
   "id": "optical-administrator",
   "metadata": {},
   "outputs": [],
   "source": [
    "from xgboost import XGBClassifier\n",
    "from sklearn.linear_model import LogisticRegression\n",
    "from sklearn.ensemble import RandomForestClassifier, VotingClassifier\n",
    "\n",
    "clf1 = LogisticRegression(random_state=1)\n",
    "clf2 = RandomForestClassifier(random_state=42)\n",
    "clf3 = XGBClassifier(learning_rate=0.1, )"
   ]
  },
  {
   "cell_type": "code",
   "execution_count": null,
   "id": "blond-prediction",
   "metadata": {},
   "outputs": [],
   "source": []
  }
 ],
 "metadata": {
  "kernelspec": {
   "display_name": "Python 3",
   "language": "python",
   "name": "python3"
  },
  "language_info": {
   "codemirror_mode": {
    "name": "ipython",
    "version": 3
   },
   "file_extension": ".py",
   "mimetype": "text/x-python",
   "name": "python",
   "nbconvert_exporter": "python",
   "pygments_lexer": "ipython3",
   "version": "3.8.5"
  }
 },
 "nbformat": 4,
 "nbformat_minor": 5
}
