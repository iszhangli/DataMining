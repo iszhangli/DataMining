{
 "cells": [
  {
   "cell_type": "markdown",
   "id": "portable-voluntary",
   "metadata": {
    "tags": []
   },
   "source": [
    "# 分类模型\n",
    "## 0. 统计指标\n",
    "## 1. 数据探索\n",
    "### 1.1 数据状况\n",
    "### 1.2 训练集/测试集打标签法\n",
    "## 2. 特征处理\n",
    "### 2.1 查看数据类型\n",
    "### 2.2 数据可视化\n",
    "### -----重要部分，需要添加\n",
    "## 3. baseline\n",
    "### -- 添加NN\n",
    "## 4. 参数调节\n",
    "### 4.1 学习曲线\n",
    "### 4.2 自动调参\n",
    "## 5. 模型集成\n",
    "### -- 需要添加\n",
    "## 6. 模型持久化"
   ]
  },
  {
   "cell_type": "markdown",
   "id": "sonic-procurement",
   "metadata": {},
   "source": [
    "### ----------------------------------------------------------------------------------\n"
   ]
  },
  {
   "cell_type": "markdown",
   "id": "intermediate-atmosphere",
   "metadata": {},
   "source": [
    "## 0. 统计指标\n",
    "1. 分段统计函数\n",
    "* `segment_statistic(y_test=None, prob_y=None, bins=None)`\n",
    "\n",
    "2. 二分类评估指标\n",
    "* `binary_classifier_metrics(test_labels, predict_labels, predict_prob, show_flag=True)`\n",
    "* 简单版\n",
    "\n",
    "3. 结果展示\n",
    "* `show_feature_importance` Lightgbm特征重要性\n",
    "* `plt_feature_importance` \n",
    "* `plot_heatmap` 相关系数热力图\n",
    "* `create_roc` AUC可视化"
   ]
  },
  {
   "cell_type": "code",
   "execution_count": 40,
   "id": "rotary-cookie",
   "metadata": {
    "collapsed": true,
    "jupyter": {
     "outputs_hidden": true
    },
    "tags": []
   },
   "outputs": [
    {
     "ename": "NameError",
     "evalue": "name 'importances' is not defined",
     "output_type": "error",
     "traceback": [
      "\u001b[1;31m---------------------------------------------------------------------------\u001b[0m",
      "\u001b[1;31mNameError\u001b[0m                                 Traceback (most recent call last)",
      "\u001b[1;32m<ipython-input-40-a61183c7bc1e>\u001b[0m in \u001b[0;36m<module>\u001b[1;34m\u001b[0m\n\u001b[0;32m     70\u001b[0m \u001b[0mpd\u001b[0m\u001b[1;33m.\u001b[0m\u001b[0mset_option\u001b[0m\u001b[1;33m(\u001b[0m\u001b[1;34m'display.max_rows'\u001b[0m\u001b[1;33m,\u001b[0m \u001b[1;32mNone\u001b[0m\u001b[1;33m)\u001b[0m\u001b[1;33m\u001b[0m\u001b[1;33m\u001b[0m\u001b[0m\n\u001b[0;32m     71\u001b[0m \u001b[0mfeature_imp\u001b[0m \u001b[1;33m=\u001b[0m \u001b[0mlist\u001b[0m\u001b[1;33m(\u001b[0m\u001b[1;33m)\u001b[0m\u001b[1;33m\u001b[0m\u001b[1;33m\u001b[0m\u001b[0m\n\u001b[1;32m---> 72\u001b[1;33m \u001b[1;32mfor\u001b[0m \u001b[0mi\u001b[0m \u001b[1;32min\u001b[0m \u001b[0mrange\u001b[0m\u001b[1;33m(\u001b[0m\u001b[1;36m0\u001b[0m\u001b[1;33m,\u001b[0m \u001b[0mimportances\u001b[0m\u001b[1;33m.\u001b[0m\u001b[0mshape\u001b[0m\u001b[1;33m[\u001b[0m\u001b[1;36m0\u001b[0m\u001b[1;33m]\u001b[0m\u001b[1;33m//\u001b[0m\u001b[1;36m5\u001b[0m\u001b[1;33m)\u001b[0m\u001b[1;33m:\u001b[0m\u001b[1;33m\u001b[0m\u001b[1;33m\u001b[0m\u001b[0m\n\u001b[0m\u001b[0;32m     73\u001b[0m     \u001b[0mm_df\u001b[0m \u001b[1;33m=\u001b[0m \u001b[0mlist\u001b[0m\u001b[1;33m(\u001b[0m\u001b[1;33m)\u001b[0m\u001b[1;33m\u001b[0m\u001b[1;33m\u001b[0m\u001b[0m\n\u001b[0;32m     74\u001b[0m     \u001b[0mm_df\u001b[0m\u001b[1;33m.\u001b[0m\u001b[0mappend\u001b[0m\u001b[1;33m(\u001b[0m\u001b[0mimportances\u001b[0m\u001b[1;33m.\u001b[0m\u001b[0miloc\u001b[0m\u001b[1;33m[\u001b[0m\u001b[0mi\u001b[0m\u001b[1;33m,\u001b[0m\u001b[1;33m:\u001b[0m\u001b[1;33m]\u001b[0m\u001b[1;33m.\u001b[0m\u001b[0mfeature\u001b[0m\u001b[1;33m)\u001b[0m\u001b[1;33m\u001b[0m\u001b[1;33m\u001b[0m\u001b[0m\n",
      "\u001b[1;31mNameError\u001b[0m: name 'importances' is not defined"
     ]
    }
   ],
   "source": [
    "import pandas as pd\n",
    "from sklearn.metrics import accuracy_score, precision_score, recall_score, f1_score, roc_curve, auc, roc_auc_score, confusion_matrix, average_precision_score\n",
    "# 二分类评估指标\n",
    "# roc_auc_score = roc_curve + auc\n",
    "# test_labels: true label\n",
    "# predict_labels: predict lables\n",
    "# predict_prob: predict output is prob\n",
    "def binary_classifier_metrics(test_labels, predict_labels, predict_prob, show_flag=True):  # 评价标准\n",
    "    accuracy = accuracy_score(test_labels, predict_labels)  # accuracy_score准确率\n",
    "    precision = precision_score(test_labels, predict_labels)  # precision_score精确率\n",
    "    recall = recall_score(test_labels, predict_labels)  # recall_score召回率\n",
    "    f1_measure = f1_score(test_labels, predict_labels)  # f1_score  f1得分\n",
    "    confusionMatrix = confusion_matrix(test_labels, predict_labels)  # confusion_matrix  混淆矩阵\n",
    "    fpr, tpr, threshold = roc_curve(test_labels, predict_prob, pos_label=1)  # roc_curve ROC曲线\n",
    "    Auc = auc(fpr, tpr) \n",
    "    MAP = average_precision_score(test_labels, predict_prob)  # average_precision_score\n",
    "\n",
    "    TP, FP, FN, TN = confusionMatrix[1, 1], confusionMatrix[0, 1], confusionMatrix[1, 0], confusionMatrix[0, 0]\n",
    "    if show_flag is True:\n",
    "        print(\"------------------------- \")\n",
    "        print(\"row: precision | col: recall \")\n",
    "        print(\"confusion matrix:\")\n",
    "        print(\"------------------------- \")\n",
    "        print(\"| TP: %5d | FP: %5d | P: %5d |\" % (TP, FP, TP+FP))\n",
    "        print(\"----------------------- \")\n",
    "        print(\"| FN: %5d | TN: %5d | R: %.3f|\" % (FN, TN, (TP+FP)/len(test_labels)))\n",
    "        print(\"----------------------- \")\n",
    "        print(\"| T: %5d  | R: %.3f | N: %5d |\" % (TP+FN, (TP+FN)/len(test_labels), len(test_labels)))\n",
    "        print(\" ------------------------- \")\n",
    "        print(\"Accuracy:       %.2f%%\" % (accuracy * 100))\n",
    "        print(\"Precision:      %.2f%%\" % (precision * 100))\n",
    "        print(\"Recall:         %.2f%%\" % (recall * 100))\n",
    "        print(\"F1-measure:     %.2f%%\" % (f1_measure * 100))\n",
    "        print(\"AUC:            %.2f%%\" % (Auc * 100))\n",
    "        print(\"MAP:            %.2f%%\" % (MAP * 100))\n",
    "        print(\"------------------------- \")\n",
    "    return recall, precision, f1_measure\n",
    "\n",
    "def binary_classifier_metrics(test_labels, predict_labels, predict_prob):  # 评价标准\n",
    "    accuracy = accuracy_score(test_labels, predict_labels)  # accuracy_score准确率\n",
    "    precision = precision_score(test_labels, predict_labels)  # precision_score精确率\n",
    "    recall = recall_score(test_labels, predict_labels)  # recall_score召回率\n",
    "    f1_measure = f1_score(test_labels, predict_labels)  # f1_score  f1得分\n",
    "    auc = roc_auc_score(test_labels, predict_prob)\n",
    "    print(\"Accuracy:       %.2f%%\" % (accuracy * 100))\n",
    "    print(\"Precision:      %.2f%%\" % (precision * 100))\n",
    "    print(\"Recall:         %.2f%%\" % (recall * 100))\n",
    "    print(\"F1-measure:     %.2f%%\" % (f1_measure * 100))\n",
    "    print(\"AUC:            %.2f%%\" % (auc * 100))\n",
    "    \n",
    "# 分段统计函数\n",
    "# y_test: ture label\n",
    "# pro_y: predict probability\n",
    "def segment_statistic(y_test=None, prob_y=None, bins=None):\n",
    "    if bins is None:\n",
    "        bins = np.arange(0, 1.1, 0.1)\n",
    "    new_df = pd.DataFrame({'y_true': y_test, 'prob_y':prob_y})\n",
    "    new_df['bins'] = pd.cut(new_df['prob_y'], bins)\n",
    "    stra_df = new_df.groupby('bins').agg({'bins':'count', 'y_true':'sum'})\n",
    "    stra_df.rename(columns={'bins':'pred_cnt', 'y_true':'real_unsat_cnt'}, inplace=True)\n",
    "    stra_df = stra_df.sort_index(ascending=False)\n",
    "    stra_df['pred_unsat_cnt_p'] = stra_df['pred_cnt'].cumsum()\n",
    "    stra_df['recall_preson'] = stra_df['pred_unsat_cnt_p'] / stra_df['pred_cnt'].sum()\n",
    "    stra_df['real_unsat_cnt_tp'] = stra_df['real_unsat_cnt'].cumsum()\n",
    "    stra_df['recall'] = stra_df['real_unsat_cnt_tp'] / stra_df['real_unsat_cnt'].sum()\n",
    "    stra_df['precision'] = stra_df['real_unsat_cnt_tp'] / stra_df['pred_unsat_cnt_p']\n",
    "    return stra_df\n",
    "\n",
    "# 1. the importance of feature \n",
    "feature_imp = list()\n",
    "for i in range(0, importances.shape[0]//5):\n",
    "    m_df = list()\n",
    "    m_df.append(importances.iloc[i,:].feature)\n",
    "    m_df += list(importances.loc[[i]].mean().values)\n",
    "    feature_imp.append(m_df)\n",
    "imp_df = pd.DataFrame(feature_imp, columns=['feature', 'split', 'gain', 'fold'])\n",
    "sort_imp_df = imp_df.sort_values(by=['gain'], ascending=False)\n",
    "sort_imp_df[sort_imp_df.gain>20]\n",
    "\n",
    "# 2. the importance of feature\n",
    "def show_feature_importance(model, usage_col):\n",
    "    import_df = pd.DataFrame()\n",
    "    import_df['feature'] = usage_col\n",
    "    import_df['split'] = model.feature_importance()\n",
    "    import_df['gain'] = model.feature_importance(importance_type='gain')\n",
    "    import_df = import_df.sort_values(by=['gain'], ascending=False)\n",
    "    return import_df\n",
    "\n",
    "def plt_feature_importance(model):\n",
    "    lgb.plot_importance(model, ax=ax, \n",
    "                        title='Feature Importance', \n",
    "                        xlabel='Information Gain', \n",
    "                        ylabel='Feature Name', \n",
    "                        importance_type='gain', \n",
    "                        max_num_features=10, \n",
    "                        grid=False, \n",
    "                        precision=3, \n",
    "                        height=0.6)\n",
    "\n",
    "# 解决余弦相似度计算值缺失的问题\n",
    "# 去中心化的余弦相似度计算\n",
    "# 1. 相关系数取值一般在-1~1之间\n",
    "# 2. 绝对值越接近1说明变量之间的线性关系越强，绝对值越接近0说明变量间线性关系越弱。\n",
    "# 3. ≥0.8高度相关，0.5~0.8中度相关，0.3~0.5低度相关，＜0.3相关关系极弱可视为不相关。\n",
    "def plot_heatmap(dataframe):\n",
    "    \"\"\"\n",
    "    \"\"\"\n",
    "    corr_df = dataframe\n",
    "    mcorr = corr_df.corr(method=\"spearman\")  \n",
    "\n",
    "    ax = plt.subplots(figsize=(30, 25)) #调整画布大小\n",
    "    mask = np.zeros_like(mcorr, dtype=np.bool)\n",
    "    mask[np.triu_indices_from(mask)] = True\n",
    "    cmap = sns.diverging_palette(220, 10, as_cmap=True)  # 颜色分布\n",
    "    ax = sns.heatmap(mcorr, mask=mask, cmap=cmap, annot=True, fmt='.1f')#画热力图   annot=True \n",
    "\n",
    "# visualization AUC\n",
    "# AUC可视化\n",
    "import matplotlib.pyplot as plt\n",
    "def create_roc(y_test, y_proba):\n",
    "    fpr, tpr, _ = roc_curve(y_test, y_proba)\n",
    "    roc_auc = auc(fpr, tpr)\n",
    "    plt.title('ROC Validation')\n",
    "    plt.plot(fpr, tpr, 'b', label='AUC = %0.2f' % roc_auc)\n",
    "    plt.legend(loc='lower right')\n",
    "    plt.plot([0, 1], [0, 1], 'r--')\n",
    "    plt.xlim([0, 1])\n",
    "    plt.ylim([0, 1])\n",
    "    plt.ylabel('True Positive Rate')\n",
    "    plt.xlabel('False Positive Rate')\n",
    "    plt.show()"
   ]
  },
  {
   "cell_type": "markdown",
   "id": "dried-parks",
   "metadata": {},
   "source": [
    "## 1. 数据探索"
   ]
  },
  {
   "cell_type": "markdown",
   "id": "fewer-thermal",
   "metadata": {},
   "source": [
    "### 1.1 数据准备"
   ]
  },
  {
   "cell_type": "code",
   "execution_count": 4,
   "id": "harmful-brazil",
   "metadata": {
    "tags": []
   },
   "outputs": [],
   "source": [
    "import matplotlib.pyplot as plt\n",
    "import seaborn as sns"
   ]
  },
  {
   "cell_type": "code",
   "execution_count": 5,
   "id": "trying-norway",
   "metadata": {
    "tags": []
   },
   "outputs": [],
   "source": [
    "# 读取数据\n",
    "def read_data(name=None, source_path=None):\n",
    "    if name is None:\n",
    "        print('Source data NA. GG')\n",
    "    elif name == 'dsId':\n",
    "        return ds.load(source_path)\n",
    "    elif name == 'df':\n",
    "        return pd.read_csv(source_path, sep='\\t')\n",
    "    return 0\n",
    "\n",
    "import pandas as pd\n",
    "data_dir = 'C:/ZhangLI/Codes/DataSet/个人违贷/official_data/'\n",
    "origin_train = pd.read_csv(data_dir+'train_public.csv')\n",
    "origin_test = pd.read_csv(data_dir+'test_public.csv')"
   ]
  },
  {
   "cell_type": "markdown",
   "id": "planned-ethiopia",
   "metadata": {},
   "source": [
    "### 1.1 数据概述"
   ]
  },
  {
   "cell_type": "code",
   "execution_count": 33,
   "id": "peripheral-scottish",
   "metadata": {
    "collapsed": true,
    "jupyter": {
     "outputs_hidden": true,
     "source_hidden": true
    },
    "tags": []
   },
   "outputs": [
    {
     "name": "stdout",
     "output_type": "stream",
     "text": [
      "Train dataset has 10000 rows and 39 columns.\n",
      "Test dataset has 5000 rows and 38 columns.\n",
      "There are 7 columns in train dataset with missing values.\n",
      "There are 7 columns in test dataset with missing values.\n",
      "True\n",
      "There are 1 columns in train dataset with one unique value.\n",
      "There are 1 columns in test dataset with one unique value.\n",
      "There are 0 columns in train dataset with ... value.\n",
      "There are 0 columns in test dataset with ... value.\n",
      "The train dtype:\n",
      "\n"
     ]
    }
   ],
   "source": [
    "# 查看数据维度\n",
    "def describe_data(train, test):\n",
    "    print(f'Train dataset has {train.shape[0]} rows and {train.shape[1]} columns.')\n",
    "    print(f'Test dataset has {test.shape[0]} rows and {test.shape[1]} columns.')\n",
    "    print('-' * 50)\n",
    "    # 查看哪些列具有缺失值\n",
    "    print(f'There are {train.isnull().any().sum()} columns in train dataset with missing values.')\n",
    "    print(f'The train missing column: {train.columns[train.isna().any()].tolist()}.')\n",
    "    for i in train.columns[train.isna().any()].tolist():\n",
    "        print(f'The missing rate of \\'{i}\\' is {round((train[i].isna().sum() / train.shape[0])*100, 2)}%')\n",
    "    print(f'There are {test.isnull().any().sum()} columns in test dataset with missing values.')\n",
    "    print(f'The test missing column: {test.columns[test.isna().any()].tolist()}.')\n",
    "    for i in test.columns[test.isna().any()].tolist():\n",
    "        print(f'The missing rate of \\'{i}\\' is {round((test[i].isna().sum() / test.shape[0])*100, 2)}%')\n",
    "    # 查看数据值唯一的列\n",
    "    one_value_cols = []\n",
    "    one_value_cols += [col for col in train.columns if train[col].nunique() <= 1]\n",
    "    one_value_cols_test = [col for col in test.columns if test[col].nunique() <= 1]\n",
    "    print(f'There are {len(one_value_cols)} columns in train dataset with one unique value.')\n",
    "    print(f'{one_value_cols} of unique values in the train set')\n",
    "    print(f'There are {len(one_value_cols_test)} columns in test dataset with one unique value.')\n",
    "    print(f'{one_value_cols_test} of unique values in the test set')\n",
    "    print('-' * 50)\n",
    "    # 查看数据缺失值情况\n",
    "    nan_cols = [col for col in train.columns if train[col].isna().sum() / train.shape[0] > 0.90]\n",
    "    print(f'There are {len(nan_cols)} columns in train dataset with [na value > 0.9].')\n",
    "    print(f'The columns name is {nan_cols}')\n",
    "    nan_clos_test = [col for col in test.columns if test[col].isna().sum() / test.shape[0] > 0.90]\n",
    "    print(f'There are {len(nan_clos_test)} columns in test dataset with [na value > 0.9].')\n",
    "    print(f'The columns name is {nan_clos_test}')\n",
    "    print('-' * 50)\n",
    "    # 列类型\n",
    "    numerical_col = list(train.select_dtypes(exclude=['object']).columns)\n",
    "    category_col = list(filter(lambda x: x not in numerical_col,list(train.columns)))\n",
    "    print(f'The numerical columns is: {numerical_col}')\n",
    "    print(f'The category columns is: {category_col}')\n",
    "    return one_value_cols + nan_clos\n",
    "\n",
    "describe_data(origin_train, origin_test)\n",
    "\n",
    "# 查看数据类型\n",
    "print('The train dtype:')\n",
    "origin_train.dtypes\n",
    "# 查看缺失值并排序\n",
    "origin_train.isna().sum().sort_values()\n",
    "# 删除缺失值大于95%\n",
    "origin_train.columns[(origin_train.isna().sum() / origin_train.shape[0])>0.89]\n",
    "# 查看特征类型 and 判断类别型\n",
    "origin_train.nunique().sort_values()\n",
    "print('')"
   ]
  },
  {
   "cell_type": "markdown",
   "id": "described-daughter",
   "metadata": {},
   "source": [
    "### 1.2 训练集和测试集分布\n",
    "1. 训练集 = 1 / 测试集 = 0\n",
    "2. 二分类模型训练\n",
    "3. 如果AUC=0.5左右可以用，否则需要删除噪声"
   ]
  },
  {
   "cell_type": "code",
   "execution_count": 39,
   "id": "otherwise-exclusion",
   "metadata": {
    "collapsed": true,
    "jupyter": {
     "outputs_hidden": true,
     "source_hidden": true
    },
    "tags": []
   },
   "outputs": [
    {
     "name": "stdout",
     "output_type": "stream",
     "text": [
      "Index(['loan_id', 'user_id', 'total_loan', 'year_of_loan', 'interest',\n",
      "       'monthly_payment', 'class', 'employer_type', 'industry', 'work_year',\n",
      "       'house_exist', 'censor_status', 'issue_date', 'use', 'post_code',\n",
      "       'region', 'debt_loan_ratio', 'del_in_18month', 'scoring_low',\n",
      "       'scoring_high', 'known_outstanding_loan', 'known_dero',\n",
      "       'pub_dero_bankrup', 'recircle_b', 'recircle_u', 'initial_list_status',\n",
      "       'app_type', 'earlies_credit_mon', 'title', 'policy_code', 'f0', 'f1',\n",
      "       'f2', 'f3', 'f4', 'early_return', 'early_return_amount',\n",
      "       'early_return_amount_3mon', 'isDefault'],\n",
      "      dtype='object')\n",
      "[LightGBM] [Info] Number of positive: 3518, number of negative: 6982\n",
      "[LightGBM] [Warning] Auto-choosing row-wise multi-threading, the overhead of testing was 0.002016 seconds.\n",
      "You can set `force_row_wise=true` to remove the overhead.\n",
      "And if memory is not enough, you can set `force_col_wise=true`.\n",
      "[LightGBM] [Info] Total Bins 3255\n",
      "[LightGBM] [Info] Number of data points in the train set: 10500, number of used features: 29\n",
      "[LightGBM] [Info] [binary:BoostFromScore]: pavg=0.335048 -> initscore=-0.685443\n",
      "[LightGBM] [Info] Start training from score -0.685443\n",
      "[100]\ttraining's auc: 0.953359\tvalid_1's auc: 0.556823\n",
      "[200]\ttraining's auc: 0.991827\tvalid_1's auc: 0.561172\n",
      "[300]\ttraining's auc: 0.998801\tvalid_1's auc: 0.565379\n",
      "[400]\ttraining's auc: 0.999814\tvalid_1's auc: 0.57005\n",
      "[500]\ttraining's auc: 0.999977\tvalid_1's auc: 0.569012\n",
      "[600]\ttraining's auc: 0.999997\tvalid_1's auc: 0.573479\n",
      "[700]\ttraining's auc: 1\tvalid_1's auc: 0.570473\n",
      "[800]\ttraining's auc: 1\tvalid_1's auc: 0.570022\n",
      "[900]\ttraining's auc: 1\tvalid_1's auc: 0.569034\n",
      "[1000]\ttraining's auc: 1\tvalid_1's auc: 0.567097\n"
     ]
    },
    {
     "data": {
      "text/plain": [
       "<lightgbm.basic.Booster at 0x252060bf3d0>"
      ]
     },
     "execution_count": 39,
     "metadata": {},
     "output_type": "execute_result"
    }
   ],
   "source": [
    "# 训练集和测试集的数据是否不同\n",
    "# 训练集 测试集 打标签\n",
    "from sklearn.preprocessing import LabelEncoder\n",
    "from sklearn.model_selection import train_test_split\n",
    "import copy\n",
    "\n",
    "print(origin_train.columns)\n",
    "origin_train_df = copy.deepcopy(origin_train)\n",
    "origin_test_df = copy.deepcopy(origin_test)\n",
    "origin_train_df = origin_train_df.drop('isDefault', axis=1)\n",
    "# 打标签\n",
    "origin_train_df['u_label'] = 0\n",
    "origin_test_df['u_label'] = 1\n",
    "\n",
    "origin_valid = pd.concat([origin_train_df, origin_test_df], axis=0)\n",
    "origin_valid = origin_valid.drop(columns=['loan_id', 'user_id', 'class', 'employer_type', 'industry', 'work_year', 'issue_date', 'earlies_credit_mon'])\n",
    "# 简单特征处理\n",
    "# le = LabelEncoder()\n",
    "# valid_new_data['provice'] = le.fit_transform(valid_new_data.provice)\n",
    "# valid_new_data['city'] = le.fit_transform(valid_new_data.city)\n",
    "# valid_new_data['model'] = le.fit_transform(valid_new_data.model)\n",
    "# valid_new_data['make'] = le.fit_transform(valid_new_data.make)\n",
    "# 划分数据集\n",
    "train_x, val_x, train_y, val_y = train_test_split(origin_valid.iloc[:,0:-1], origin_valid.iloc[:,-1], test_size=0.3)\n",
    "# 模型训练\n",
    "import lightgbm as lgb\n",
    "params = {\n",
    "    'objective': 'binary',\n",
    "    'boosting_type': 'gbdt',\n",
    "    'metric': 'auc'\n",
    "}\n",
    "train_set = lgb.Dataset(train_x, train_y)\n",
    "valid_set = lgb.Dataset(val_x, val_y)\n",
    "lgb.train(params=params, train_set=train_set, valid_sets=[train_set, valid_set], num_boost_round=1000, verbose_eval=100)"
   ]
  },
  {
   "cell_type": "markdown",
   "id": "opened-manner",
   "metadata": {},
   "source": []
  },
  {
   "cell_type": "markdown",
   "id": "alpine-excerpt",
   "metadata": {
    "tags": []
   },
   "source": [
    "## 2. 特征处理/特征选择"
   ]
  },
  {
   "cell_type": "markdown",
   "id": "eleven-haiti",
   "metadata": {},
   "source": [
    "### 2.1 查看数据类型"
   ]
  },
  {
   "cell_type": "code",
   "execution_count": 1,
   "id": "dress-frequency",
   "metadata": {
    "tags": []
   },
   "outputs": [],
   "source": [
    "def get_feature_type(dataframe):\n",
    "    col_type = {}\n",
    "    for type_c in set(dataframe.dtypes.tolist()):\n",
    "        col_type[str(type_c)] = []\n",
    "    for col in dataframe.columns:\n",
    "        col_type[str(dataframe[col].dtypes)] += [col]\n",
    "    return col_type"
   ]
  },
  {
   "cell_type": "markdown",
   "id": "resistant-absorption",
   "metadata": {},
   "source": [
    "### 2.2 数据可视化\n",
    "1. 测试集和训练集连续值分布"
   ]
  },
  {
   "cell_type": "code",
   "execution_count": 5,
   "id": "yellow-lithuania",
   "metadata": {
    "tags": []
   },
   "outputs": [],
   "source": [
    "# 测试集和训练集连续值分布\n",
    "import matplotlib.pyplot as plt\n",
    "import seaborn as sns\n",
    "def plot_feature_kde(train_data, test_data, features=[]):\n",
    "    \"\"\"连续变量\"\"\"\n",
    "    plt.clf()\n",
    "    fcols = 4\n",
    "    frows = len(features)\n",
    "    plt.figure(figsize=(6*fcols, frows*1.5))\n",
    "    i = 0\n",
    "    for col in features:\n",
    "        i += 1\n",
    "        plt.subplot(frows//fcols+1, fcols, i)\n",
    "        sns.kdeplot(train_data[col], color=\"Blue\", shade=True, label='Train')\n",
    "        sns.kdeplot(test_data[col], color=\"Red\", shade=True, label='Test')\n",
    "    plt.show()"
   ]
  },
  {
   "cell_type": "code",
   "execution_count": null,
   "id": "psychological-torture",
   "metadata": {
    "tags": []
   },
   "outputs": [],
   "source": [
    "# 正负样本占比\n",
    "import matplotlib.pyplot as plt\n",
    "def show_pie():\n",
    "    plt.rcParams['font.sans-serif']=['SimHei']\n",
    "    colors=['#ff9999','lightgrey']  # 自定义颜色\n",
    "    plt.pie(x = [491475,47757205],\n",
    "           explode=[0.1,0.07],\n",
    "           labels=['5G潜客','非5G潜客'],\n",
    "           colors=colors,\n",
    "           autopct='%.2f%%')\n",
    "    plt.title('正负样本占比')\n",
    "show_pie()"
   ]
  },
  {
   "cell_type": "markdown",
   "id": "printable-blackberry",
   "metadata": {},
   "source": [
    "### 2.3 填充缺失值"
   ]
  },
  {
   "cell_type": "code",
   "execution_count": null,
   "id": "alert-saver",
   "metadata": {
    "tags": []
   },
   "outputs": [],
   "source": [
    "numerical_col = list(train_df.select_dtypes(exclude=['object']).columns)\n",
    "category_col = list(filter(lambda x: x not in numerical_col,list(train_df.columns)))\n",
    "test_df_new[numerical_col] = test_df_new[numerical_col].fillna(train_df[numerical_col].median())\n",
    "test_df_new[category_col].fillna(test_df_new[category_col].mode())"
   ]
  },
  {
   "cell_type": "markdown",
   "id": "trying-billy",
   "metadata": {
    "tags": []
   },
   "source": [
    "### 2.4 异常值剔除\n",
    "1. 3 segama原则\n",
    "2. 箱线图"
   ]
  },
  {
   "cell_type": "code",
   "execution_count": 1,
   "id": "mexican-campbell",
   "metadata": {
    "jupyter": {
     "source_hidden": true
    },
    "tags": []
   },
   "outputs": [],
   "source": [
    "def find_outliers_by_3segama(dataframe=None, features=None, label=None, verbose=False, is_drop=False):\n",
    "    # features are numerical type.\n",
    "    numerical_col = features\n",
    "    for col in numerical_col:\n",
    "        col_std = np.std(dataframe[col])\n",
    "        col_mean = np.mean(dataframe[col])\n",
    "        outliers_cut_off = col_std * 3\n",
    "        lower_rule = col_mean - outliers_cut_off\n",
    "        upper_rule = col_mean + outliers_cut_off\n",
    "        dataframe[col + '_outliers'] = dataframe[col].apply(lambda x:str('异常值') if x > upper_rule or x < lower_rule else '正常值')\n",
    "        if verbose:\n",
    "            print(dataframe[col + '_outliers'].value_counts())\n",
    "            print('-'*35)\n",
    "            print(dataframe.groupby(col + '_outliers')['isDefault'].sum())\n",
    "            print('='*50)\n",
    "    if is_drop:\n",
    "        for col in numerical_col:\n",
    "            dataframe = dataframe[dataframe[col + '_outliers']=='正常值']\n",
    "            dataframe = dataframe.reset_index(drop=True)\n",
    "            dataframe = dataframe.drop(col+'_outliers', axis=1)\n",
    "    return dataframe"
   ]
  },
  {
   "cell_type": "markdown",
   "id": "quiet-transport",
   "metadata": {},
   "source": [
    "### 2.5 特征衍生\n",
    "1. 均值\n",
    "2. 方差"
   ]
  },
  {
   "cell_type": "code",
   "execution_count": 2,
   "id": "thick-interim",
   "metadata": {
    "tags": []
   },
   "outputs": [],
   "source": [
    "def get_mean_of_COL(train_df=None, test_df=None, cols=[], label='label', verbose=False):\n",
    "    # get mean of col about the label\n",
    "    for col in cols:\n",
    "        if verbose:\n",
    "            print(f'Get mean of {col} about the label.')\n",
    "        df_dict = train_df.groupby([col])[label].agg(['mean']).reset_index()\n",
    "        df_dict.index = df_dict[col].values\n",
    "        dict_col = df_dict['mean'].to_dict()\n",
    "        train_df[col+'_mean'] = train_df[col].map(dict_col)\n",
    "        test_df[col+'_mean'] = test_df[col].map(dict_col)\n",
    "    return train_df, test_df\n",
    "def get_mean_std_of_CAC(dataframe=None, cols1=[], cols2=[], slience=False):\n",
    "    # get mean/std of feature about another feature\n",
    "    for col1 in cols1:\n",
    "        for col2 in cols2:\n",
    "            if slience:\n",
    "                print(f'Get the mean/std. Ex: groupby(\\'{col1}\\')[\\'{col2}\\'].transform(\\' \\')')\n",
    "            dataframe[col1+'_'+ col2+'_mean'] = dataframe.groupby([col1])[col2].transform('mean')\n",
    "            dataframe[col1+'_'+ col2+'_std'] = dataframe.groupby([col1])[col2].transform('std')\n",
    "            dataframe[col1+'_'+ col2+'_mean_c'] = dataframe[col2] - dataframe[col1+'_'+ col2+'_mean']\n",
    "    return dataframe "
   ]
  },
  {
   "cell_type": "markdown",
   "id": "adopted-arcade",
   "metadata": {},
   "source": [
    "### 2.6 特征降维\n",
    "1. PCA\n",
    "2. 其他方式？"
   ]
  },
  {
   "cell_type": "code",
   "execution_count": 3,
   "id": "uniform-decision",
   "metadata": {
    "collapsed": true,
    "jupyter": {
     "outputs_hidden": true
    },
    "tags": []
   },
   "outputs": [
    {
     "ename": "NameError",
     "evalue": "name 'train_df_new' is not defined",
     "output_type": "error",
     "traceback": [
      "\u001b[1;31m---------------------------------------------------------------------------\u001b[0m",
      "\u001b[1;31mNameError\u001b[0m                                 Traceback (most recent call last)",
      "\u001b[1;32m<ipython-input-3-e2c7ce65d554>\u001b[0m in \u001b[0;36m<module>\u001b[1;34m\u001b[0m\n\u001b[0;32m      1\u001b[0m \u001b[1;32mfrom\u001b[0m \u001b[0msklearn\u001b[0m\u001b[1;33m.\u001b[0m\u001b[0mdecomposition\u001b[0m \u001b[1;32mimport\u001b[0m \u001b[0mPCA\u001b[0m\u001b[1;33m\u001b[0m\u001b[1;33m\u001b[0m\u001b[0m\n\u001b[0;32m      2\u001b[0m \u001b[0mpca\u001b[0m \u001b[1;33m=\u001b[0m \u001b[0mPCA\u001b[0m\u001b[1;33m(\u001b[0m\u001b[0mn_components\u001b[0m\u001b[1;33m=\u001b[0m\u001b[1;36m30\u001b[0m\u001b[1;33m)\u001b[0m\u001b[1;33m\u001b[0m\u001b[1;33m\u001b[0m\u001b[0m\n\u001b[1;32m----> 3\u001b[1;33m \u001b[0mX_train\u001b[0m \u001b[1;33m=\u001b[0m \u001b[0mtrain_df_new\u001b[0m\u001b[1;33m.\u001b[0m\u001b[0mdrop\u001b[0m\u001b[1;33m(\u001b[0m\u001b[1;34m'isDefault'\u001b[0m\u001b[1;33m,\u001b[0m \u001b[0maxis\u001b[0m\u001b[1;33m=\u001b[0m\u001b[1;36m1\u001b[0m\u001b[1;33m)\u001b[0m\u001b[1;33m\u001b[0m\u001b[1;33m\u001b[0m\u001b[0m\n\u001b[0m\u001b[0;32m      4\u001b[0m \u001b[0mX_train\u001b[0m \u001b[1;33m=\u001b[0m \u001b[0mpca\u001b[0m\u001b[1;33m.\u001b[0m\u001b[0mfit_transform\u001b[0m\u001b[1;33m(\u001b[0m\u001b[0mX_train\u001b[0m\u001b[1;33m)\u001b[0m\u001b[1;33m\u001b[0m\u001b[1;33m\u001b[0m\u001b[0m\n",
      "\u001b[1;31mNameError\u001b[0m: name 'train_df_new' is not defined"
     ]
    }
   ],
   "source": [
    "from sklearn.decomposition import PCA\n",
    "pca = PCA(n_components=30)\n",
    "X_train = train_df_new.drop('isDefault', axis=1)\n",
    "X_train = pca.fit_transform(X_train)"
   ]
  },
  {
   "cell_type": "markdown",
   "id": "placed-eating",
   "metadata": {},
   "source": [
    "### 2.7 特征缩放\n",
    "1. 除以最大值\n",
    "2. MinMax策略\n",
    "3. StandardScaler\n",
    "4. Log1p\n",
    "5. 除以均值\n",
    "6. QuantileTransformer 分位数，以概率密度转换到0-1之间\n",
    "7. GaussianRank\n",
    "8. QuantileTransformer + MinMax\n",
    "9. Log1p + StandardScaler"
   ]
  },
  {
   "cell_type": "code",
   "execution_count": 24,
   "id": "lucky-timer",
   "metadata": {
    "collapsed": true,
    "jupyter": {
     "outputs_hidden": true,
     "source_hidden": true
    },
    "tags": []
   },
   "outputs": [
    {
     "data": {
      "text/html": [
       "<div>\n",
       "<style scoped>\n",
       "    .dataframe tbody tr th:only-of-type {\n",
       "        vertical-align: middle;\n",
       "    }\n",
       "\n",
       "    .dataframe tbody tr th {\n",
       "        vertical-align: top;\n",
       "    }\n",
       "\n",
       "    .dataframe thead th {\n",
       "        text-align: right;\n",
       "    }\n",
       "</style>\n",
       "<table border=\"1\" class=\"dataframe\">\n",
       "  <thead>\n",
       "    <tr style=\"text-align: right;\">\n",
       "      <th></th>\n",
       "      <th>total_loan</th>\n",
       "      <th>monthly_payment</th>\n",
       "    </tr>\n",
       "  </thead>\n",
       "  <tbody>\n",
       "    <tr>\n",
       "      <th>0</th>\n",
       "      <td>0.944444</td>\n",
       "      <td>0.982685</td>\n",
       "    </tr>\n",
       "    <tr>\n",
       "      <th>1</th>\n",
       "      <td>0.900400</td>\n",
       "      <td>0.828368</td>\n",
       "    </tr>\n",
       "    <tr>\n",
       "      <th>2</th>\n",
       "      <td>0.681682</td>\n",
       "      <td>0.770053</td>\n",
       "    </tr>\n",
       "    <tr>\n",
       "      <th>3</th>\n",
       "      <td>0.762763</td>\n",
       "      <td>0.768769</td>\n",
       "    </tr>\n",
       "    <tr>\n",
       "      <th>4</th>\n",
       "      <td>0.616617</td>\n",
       "      <td>0.628629</td>\n",
       "    </tr>\n",
       "    <tr>\n",
       "      <th>...</th>\n",
       "      <td>...</td>\n",
       "      <td>...</td>\n",
       "    </tr>\n",
       "    <tr>\n",
       "      <th>9995</th>\n",
       "      <td>0.693694</td>\n",
       "      <td>0.687735</td>\n",
       "    </tr>\n",
       "    <tr>\n",
       "      <th>9996</th>\n",
       "      <td>0.554555</td>\n",
       "      <td>0.620402</td>\n",
       "    </tr>\n",
       "    <tr>\n",
       "      <th>9997</th>\n",
       "      <td>0.860360</td>\n",
       "      <td>0.851720</td>\n",
       "    </tr>\n",
       "    <tr>\n",
       "      <th>9998</th>\n",
       "      <td>0.762763</td>\n",
       "      <td>0.859845</td>\n",
       "    </tr>\n",
       "    <tr>\n",
       "      <th>9999</th>\n",
       "      <td>0.002222</td>\n",
       "      <td>0.001977</td>\n",
       "    </tr>\n",
       "  </tbody>\n",
       "</table>\n",
       "<p>10000 rows × 2 columns</p>\n",
       "</div>"
      ],
      "text/plain": [
       "      total_loan  monthly_payment\n",
       "0       0.944444         0.982685\n",
       "1       0.900400         0.828368\n",
       "2       0.681682         0.770053\n",
       "3       0.762763         0.768769\n",
       "4       0.616617         0.628629\n",
       "...          ...              ...\n",
       "9995    0.693694         0.687735\n",
       "9996    0.554555         0.620402\n",
       "9997    0.860360         0.851720\n",
       "9998    0.762763         0.859845\n",
       "9999    0.002222         0.001977\n",
       "\n",
       "[10000 rows x 2 columns]"
      ]
     },
     "execution_count": 24,
     "metadata": {},
     "output_type": "execute_result"
    }
   ],
   "source": [
    "from sklearn import preprocessing\n",
    "import copy\n",
    "import numpy as np\n",
    "dataframe = copy.deepcopy(origin_train[['total_loan', 'monthly_payment']])\n",
    "# 1.\n",
    "dataframe = dataframe / dataframe.mean()\n",
    "# 2.\n",
    "min_max_scaler = preprocessing.MinMaxScaler().fit(dataframe)\n",
    "dataframe_minmax = min_max_scaler.transform(dataframe)  \n",
    "pd.DataFrame(data=dataframe_minmax, columns=dataframe.columns)\n",
    "#min_max_scaler.scale_                             \n",
    "#min_max_scaler.min_\n",
    "# 3.\n",
    "scaler = preprocessing.StandardScaler().fit(dataframe)\n",
    "dataframe_stand = scaler.transform(dataframe) \n",
    "pd.DataFrame(data=dataframe_stand, columns=dataframe.columns)\n",
    "#scaler.mean_                                      \n",
    "#scaler.scale_ \n",
    "# 4.\n",
    "out_log = np.log1p(dataframe)\n",
    "# 5. \n",
    "dataframe = dataframe / dataframe.max()\n",
    "# 6. \n",
    "quantile_transformer = preprocessing.QuantileTransformer(random_state=0).fit(dataframe)\n",
    "dataframe_quantile = quantile_transformer.transform(dataframe)\n",
    "pd.DataFrame(data=dataframe_quantile, columns=dataframe.columns)\n",
    "# quantile_transformer.transform(dataframe)\n",
    "# 7.\n",
    "\n"
   ]
  },
  {
   "cell_type": "markdown",
   "id": "breeding-disaster",
   "metadata": {},
   "source": [
    "## 3. Baseline\n",
    "1. LogisticRegression\n",
    "2. KNeighborsClassifier\n",
    "3. RandomForestClassifier\n",
    "4. tree.DecisionTreeClassifier()\n",
    "5. svm.SVC()\n",
    "6. Xgboost\n",
    "7. Lightgbm\n",
    "8. Catboost\n",
    "9. NN? and other"
   ]
  },
  {
   "cell_type": "code",
   "execution_count": 62,
   "id": "oriented-charm",
   "metadata": {
    "collapsed": true,
    "jupyter": {
     "outputs_hidden": true,
     "source_hidden": true
    },
    "tags": []
   },
   "outputs": [
    {
     "name": "stdout",
     "output_type": "stream",
     "text": [
      "----------LogisticRegression--------------- \n",
      "Accuracy:       84.70%\n",
      "Precision:      60.00%\n",
      "Recall:         18.40%\n",
      "F1-measure:     28.17%\n",
      "AUC:            58.01%\n",
      "----------KNeighborsClassifier--------------- \n",
      "Accuracy:       80.35%\n",
      "Precision:      34.70%\n",
      "Recall:         23.31%\n",
      "F1-measure:     27.89%\n",
      "AUC:            57.39%\n",
      "----------SVC--------- ------ \n",
      "Accuracy:       84.55%\n",
      "Precision:      63.49%\n",
      "Recall:         12.27%\n",
      "F1-measure:     20.57%\n",
      "AUC:            55.45%\n",
      "----------DecisionTreeClassifier--------------- \n",
      "Accuracy:       80.45%\n",
      "Precision:      39.88%\n",
      "Recall:         39.26%\n",
      "F1-measure:     39.57%\n",
      "AUC:            63.87%\n",
      "----------RandomForestClassifier--------------- \n",
      "Accuracy:       84.50%\n",
      "Precision:      54.94%\n",
      "Recall:         27.30%\n",
      "F1-measure:     36.48%\n",
      "AUC:            61.47%\n",
      "----------lightgbm--------------- \n",
      "Training until validation scores don't improve for 20 rounds\n",
      "[100]\ttraining's auc: 0.994788\tvalid_1's auc: 0.884011\n",
      "Early stopping, best iteration is:\n",
      "[94]\ttraining's auc: 0.993337\tvalid_1's auc: 0.884517\n",
      "Accuracy:       85.00%\n",
      "Precision:      56.25%\n",
      "Recall:         35.89%\n",
      "F1-measure:     43.82%\n",
      "AUC:            88.45%\n",
      "----------xgboost--------------- \n",
      "[18:50:05] WARNING: C:/Users/Administrator/workspace/xgboost-win64_release_1.3.0/src/learner.cc:1061: Starting in XGBoost 1.3.0, the default evaluation metric used with the objective 'binary:logistic' was changed from 'error' to 'logloss'. Explicitly set eval_metric if you'd like to restore the old behavior.\n",
      "[0]\teval-logloss:0.53573\ttrain-logloss:0.53302\n",
      "[100]\teval-logloss:0.34713\ttrain-logloss:0.07214\n",
      "[200]\teval-logloss:0.38744\ttrain-logloss:0.02645\n",
      "[300]\teval-logloss:0.42739\ttrain-logloss:0.01299\n",
      "[400]\teval-logloss:0.45819\ttrain-logloss:0.00800\n",
      "[499]\teval-logloss:0.48188\ttrain-logloss:0.00539\n",
      "Accuracy:       83.65%\n",
      "Precision:      49.80%\n",
      "Recall:         37.73%\n",
      "F1-measure:     42.93%\n",
      "AUC:            86.25%\n",
      "----------Catboost--------------- \n",
      "Learning rate set to 0.071601\n",
      "0:\tlearn: 0.6156766\ttest: 0.6145538\ttest1: 0.6156766\tbest: 0.6156766 (0)\ttotal: 13.8ms\tremaining: 6.89s\n",
      "100:\tlearn: 0.2668916\ttest: 0.2954143\ttest1: 0.2668916\tbest: 0.2668916 (100)\ttotal: 1.34s\tremaining: 5.28s\n",
      "200:\tlearn: 0.2264774\ttest: 0.2951586\ttest1: 0.2264774\tbest: 0.2264774 (200)\ttotal: 2.92s\tremaining: 4.34s\n",
      "300:\tlearn: 0.1950818\ttest: 0.2965866\ttest1: 0.1950818\tbest: 0.1950818 (300)\ttotal: 4.44s\tremaining: 2.93s\n",
      "400:\tlearn: 0.1688830\ttest: 0.2983880\ttest1: 0.1688830\tbest: 0.1688830 (400)\ttotal: 5.85s\tremaining: 1.44s\n",
      "499:\tlearn: 0.1473113\ttest: 0.3016878\ttest1: 0.1473113\tbest: 0.1473113 (499)\ttotal: 7.1s\tremaining: 0us\n",
      "\n",
      "bestTest = 0.1473113411\n",
      "bestIteration = 499\n",
      "\n",
      "Accuracy:       83.95%\n",
      "Precision:      52.63%\n",
      "Recall:         15.34%\n",
      "F1-measure:     23.75%\n",
      "AUC:            88.11%\n"
     ]
    }
   ],
   "source": [
    "from sklearn.model_selection import train_test_split\n",
    "from sklearn.preprocessing import MinMaxScaler\n",
    "from sklearn.linear_model import LogisticRegression\n",
    "from sklearn.neighbors import KNeighborsClassifier\n",
    "from sklearn.ensemble import RandomForestClassifier\n",
    "from sklearn import tree,svm\n",
    "import lightgbm as lgb\n",
    "import xgboost as xgb\n",
    "import catboost as cb\n",
    "\n",
    "origin_train_new = origin_train.drop(columns=['loan_id', 'user_id', 'class', 'employer_type', 'industry', 'work_year', 'issue_date', 'earlies_credit_mon'], axis=1)\n",
    "\n",
    "X_train = origin_train_new.drop('isDefault', axis=1)\n",
    "y_train = origin_train_new['isDefault']\n",
    "# need to standardization -----\n",
    "X_train = X_train.fillna(0)\n",
    "scaler = MinMaxScaler()\n",
    "X_train_s = scaler.fit_transform(X_train)\n",
    "# -----------------------\n",
    "train_x, val_x, train_y, val_y = train_test_split(X_train_s, y_train, test_size=0.20, random_state=42)\n",
    "# ------------------------ LogisticRegression -------\n",
    "print(\"----------LogisticRegression--------------- \")\n",
    "clf2 = LogisticRegression()\n",
    "clf2.fit(train_x, train_y)\n",
    "lr_y_pred = clf2.predict(val_x)\n",
    "binary_classifier_metrics(val_y, lr_y_pred, lr_y_pred)\n",
    "# ------------------------KNeighborsClassifier -------\n",
    "print(\"----------KNeighborsClassifier--------------- \")\n",
    "clf3 = KNeighborsClassifier(5)\n",
    "clf3.fit(train_x, train_y)\n",
    "knc_y_pred = clf3.predict(val_x)\n",
    "binary_classifier_metrics(val_y, knc_y_pred, knc_y_pred)\n",
    "# -----------------------svm.SVC ---------------------\n",
    "print(\"----------SVC--------- ------ \")\n",
    "clf5 = svm.SVC()\n",
    "clf5.fit(train_x, train_y)\n",
    "svm_y_pred = clf5.predict(val_x)\n",
    "binary_classifier_metrics(val_y, svm_y_pred, svm_y_pred)\n",
    "# ----------------------tree.DecisionTreeClassifier---\n",
    "print(\"----------DecisionTreeClassifier--------------- \")\n",
    "clf4 = tree.DecisionTreeClassifier()\n",
    "clf4 = clf4.fit(train_x, train_y)\n",
    "dtc_y_pred = clf4.predict(val_x)\n",
    "binary_classifier_metrics(val_y, dtc_y_pred, dtc_y_pred)\n",
    "# -------------------- RandomForestClassifier --------\n",
    "print(\"----------RandomForestClassifier--------------- \")\n",
    "clf1 = RandomForestClassifier()\n",
    "clf1.fit(train_x, train_y)\n",
    "rfc_y_pred = clf1.predict(val_x)\n",
    "binary_classifier_metrics(val_y, rfc_y_pred, rfc_y_pred) \n",
    "# -------------------- Lightgbm ----------------------\n",
    "print(\"----------lightgbm--------------- \")\n",
    "train_data_l = lgb.Dataset(train_x, label=train_y) \n",
    "valid_data_l = lgb.Dataset(val_x, label=val_y)\n",
    "params = {\n",
    "    'objective': 'binary',\n",
    "    'boosting_type': 'gbdt',\n",
    "    'verbose': -1,\n",
    "    'metric': 'auc',\n",
    "}\n",
    "model = lgb.train(params, train_set=train_data_l, num_boost_round=500, verbose_eval=100, valid_sets=[train_data_l, valid_data_l], early_stopping_rounds=20) \n",
    "predict_y = model.predict(val_x) # model['cvbooster']\n",
    "predict_label = [1 if i >0.5 else 0 for i in predict_y]\n",
    "binary_classifier_metrics(val_y, predict_label, predict_y)\n",
    "# -------------------- xgboost ----------------------\n",
    "print(\"----------xgboost--------------- \")\n",
    "train_data_x = xgb.DMatrix(train_x, label=train_y)   \n",
    "valid_data_x = xgb.DMatrix(val_x, label=val_y)  \n",
    "param = {\n",
    "    'objective':'binary:logistic' \n",
    "}    \n",
    "bst = xgb.train(param, dtrain=train_data_x, num_boost_round=500, evals=[(valid_data_x,'eval'), (train_data_x,'train')], verbose_eval=100, early_stopping_rounds=20)  \n",
    "predict_y = bst.predict(xgb.DMatrix(val_x)) \n",
    "predict_label = [1 if i >0.5 else 0 for i in predict_y]\n",
    "binary_classifier_metrics(val_y, predict_label, predict_y)\n",
    "# -------------------- Catboost ----------------------\n",
    "print(\"----------Catboost--------------- \")\n",
    "train_pool = cb.Pool(train_x, label=train_y)\n",
    "test_pool = cb.Pool(val_x, label=val_y)\n",
    "param = {\n",
    "    'objective':'Logloss' \n",
    "} \n",
    "ctb = cb.train(params=param, dtrain=train_pool, num_boost_round=500, eval_set=[test_pool, train_pool], verbose_eval=100, early_stopping_rounds=20)\n",
    "predict_y = ctb.predict(cb.Pool(val_x)) \n",
    "predict_label = [1 if i >0.5 else 0 for i in predict_y]\n",
    "binary_classifier_metrics(val_y, predict_label, predict_y)"
   ]
  },
  {
   "cell_type": "code",
   "execution_count": 66,
   "id": "macro-origin",
   "metadata": {
    "collapsed": true,
    "jupyter": {
     "outputs_hidden": true,
     "source_hidden": true
    },
    "tags": []
   },
   "outputs": [
    {
     "name": "stdout",
     "output_type": "stream",
     "text": [
      "Fold 0 started at Fri Nov 12 18:53:00 2021\n"
     ]
    },
    {
     "ename": "KeyError",
     "evalue": "\"None of [Int64Index([   0,    2,    3,    5,    6,    7,    8,    9,   10,   12,\\n            ...\\n            7987, 7989, 7990, 7991, 7992, 7994, 7995, 7996, 7997, 7998],\\n           dtype='int64', length=6400)] are in the [columns]\"",
     "output_type": "error",
     "traceback": [
      "\u001b[1;31m---------------------------------------------------------------------------\u001b[0m",
      "\u001b[1;31mKeyError\u001b[0m                                  Traceback (most recent call last)",
      "\u001b[1;32m<ipython-input-66-b4eb2843da30>\u001b[0m in \u001b[0;36m<module>\u001b[1;34m\u001b[0m\n\u001b[0;32m     66\u001b[0m \u001b[0mtrain_cols\u001b[0m \u001b[1;33m=\u001b[0m \u001b[0mX_train\u001b[0m\u001b[1;33m.\u001b[0m\u001b[0mcolumns\u001b[0m\u001b[1;33m\u001b[0m\u001b[1;33m\u001b[0m\u001b[0m\n\u001b[0;32m     67\u001b[0m \u001b[0mtrain_x\u001b[0m\u001b[1;33m,\u001b[0m \u001b[0mval_x\u001b[0m\u001b[1;33m,\u001b[0m \u001b[0mtrain_y\u001b[0m\u001b[1;33m,\u001b[0m \u001b[0mval_y\u001b[0m \u001b[1;33m=\u001b[0m \u001b[0mtrain_test_split\u001b[0m\u001b[1;33m(\u001b[0m\u001b[0mX_train\u001b[0m\u001b[1;33m,\u001b[0m \u001b[0my_train\u001b[0m\u001b[1;33m,\u001b[0m \u001b[0mtest_size\u001b[0m\u001b[1;33m=\u001b[0m\u001b[1;36m0.20\u001b[0m\u001b[1;33m,\u001b[0m \u001b[0mrandom_state\u001b[0m\u001b[1;33m=\u001b[0m\u001b[1;36m42\u001b[0m\u001b[1;33m)\u001b[0m\u001b[1;33m\u001b[0m\u001b[1;33m\u001b[0m\u001b[0m\n\u001b[1;32m---> 68\u001b[1;33m models, importances, prediction, sta_bins = validation_prediction_lgb(train_x, train_y,\n\u001b[0m\u001b[0;32m     69\u001b[0m                                                             train_cols, X_test=val_x, y_test=val_y, istest=True)\n",
      "\u001b[1;32m<ipython-input-66-b4eb2843da30>\u001b[0m in \u001b[0;36mvalidation_prediction_lgb\u001b[1;34m(X, y, feature_names, ratio, X_test, y_test, istest)\u001b[0m\n\u001b[0;32m     34\u001b[0m     \u001b[1;32mfor\u001b[0m \u001b[0mfold_n\u001b[0m\u001b[1;33m,\u001b[0m \u001b[1;33m(\u001b[0m\u001b[0mtrain_index\u001b[0m\u001b[1;33m,\u001b[0m \u001b[0mvalid_index\u001b[0m\u001b[1;33m)\u001b[0m \u001b[1;32min\u001b[0m \u001b[0menumerate\u001b[0m\u001b[1;33m(\u001b[0m\u001b[0mfolds\u001b[0m\u001b[1;33m.\u001b[0m\u001b[0msplit\u001b[0m\u001b[1;33m(\u001b[0m\u001b[0mX\u001b[0m\u001b[1;33m,\u001b[0m \u001b[0my\u001b[0m\u001b[1;33m)\u001b[0m\u001b[1;33m)\u001b[0m\u001b[1;33m:\u001b[0m\u001b[1;33m\u001b[0m\u001b[1;33m\u001b[0m\u001b[0m\n\u001b[0;32m     35\u001b[0m         \u001b[0mprint\u001b[0m\u001b[1;33m(\u001b[0m\u001b[1;34m'Fold'\u001b[0m\u001b[1;33m,\u001b[0m \u001b[0mfold_n\u001b[0m\u001b[1;33m,\u001b[0m \u001b[1;34m'started at'\u001b[0m\u001b[1;33m,\u001b[0m \u001b[0mtime\u001b[0m\u001b[1;33m.\u001b[0m\u001b[0mctime\u001b[0m\u001b[1;33m(\u001b[0m\u001b[1;33m)\u001b[0m\u001b[1;33m)\u001b[0m\u001b[1;33m\u001b[0m\u001b[1;33m\u001b[0m\u001b[0m\n\u001b[1;32m---> 36\u001b[1;33m         \u001b[0mX_train\u001b[0m\u001b[1;33m,\u001b[0m \u001b[0mX_valid\u001b[0m \u001b[1;33m=\u001b[0m \u001b[0mX\u001b[0m\u001b[1;33m[\u001b[0m\u001b[0mtrain_index\u001b[0m\u001b[1;33m]\u001b[0m\u001b[1;33m,\u001b[0m \u001b[0mX\u001b[0m\u001b[1;33m[\u001b[0m\u001b[0mvalid_index\u001b[0m\u001b[1;33m]\u001b[0m\u001b[1;33m\u001b[0m\u001b[1;33m\u001b[0m\u001b[0m\n\u001b[0m\u001b[0;32m     37\u001b[0m         \u001b[0my_train\u001b[0m\u001b[1;33m,\u001b[0m \u001b[0my_valid\u001b[0m \u001b[1;33m=\u001b[0m \u001b[0my\u001b[0m\u001b[1;33m[\u001b[0m\u001b[0mtrain_index\u001b[0m\u001b[1;33m]\u001b[0m\u001b[1;33m,\u001b[0m \u001b[0my\u001b[0m\u001b[1;33m[\u001b[0m\u001b[0mvalid_index\u001b[0m\u001b[1;33m]\u001b[0m\u001b[1;33m\u001b[0m\u001b[1;33m\u001b[0m\u001b[0m\n\u001b[0;32m     38\u001b[0m         \u001b[0mweights\u001b[0m \u001b[1;33m=\u001b[0m \u001b[1;33m[\u001b[0m\u001b[0mratio\u001b[0m \u001b[1;32mif\u001b[0m \u001b[0mval\u001b[0m \u001b[1;33m==\u001b[0m \u001b[1;36m1\u001b[0m \u001b[1;32melse\u001b[0m \u001b[1;36m1\u001b[0m \u001b[1;32mfor\u001b[0m \u001b[0mval\u001b[0m \u001b[1;32min\u001b[0m \u001b[0my_train\u001b[0m\u001b[1;33m]\u001b[0m\u001b[1;33m\u001b[0m\u001b[1;33m\u001b[0m\u001b[0m\n",
      "\u001b[1;32mc:\\zhangli\\software\\installer\\python38\\lib\\site-packages\\pandas\\core\\frame.py\u001b[0m in \u001b[0;36m__getitem__\u001b[1;34m(self, key)\u001b[0m\n\u001b[0;32m   3028\u001b[0m             \u001b[1;32mif\u001b[0m \u001b[0mis_iterator\u001b[0m\u001b[1;33m(\u001b[0m\u001b[0mkey\u001b[0m\u001b[1;33m)\u001b[0m\u001b[1;33m:\u001b[0m\u001b[1;33m\u001b[0m\u001b[1;33m\u001b[0m\u001b[0m\n\u001b[0;32m   3029\u001b[0m                 \u001b[0mkey\u001b[0m \u001b[1;33m=\u001b[0m \u001b[0mlist\u001b[0m\u001b[1;33m(\u001b[0m\u001b[0mkey\u001b[0m\u001b[1;33m)\u001b[0m\u001b[1;33m\u001b[0m\u001b[1;33m\u001b[0m\u001b[0m\n\u001b[1;32m-> 3030\u001b[1;33m             \u001b[0mindexer\u001b[0m \u001b[1;33m=\u001b[0m \u001b[0mself\u001b[0m\u001b[1;33m.\u001b[0m\u001b[0mloc\u001b[0m\u001b[1;33m.\u001b[0m\u001b[0m_get_listlike_indexer\u001b[0m\u001b[1;33m(\u001b[0m\u001b[0mkey\u001b[0m\u001b[1;33m,\u001b[0m \u001b[0maxis\u001b[0m\u001b[1;33m=\u001b[0m\u001b[1;36m1\u001b[0m\u001b[1;33m,\u001b[0m \u001b[0mraise_missing\u001b[0m\u001b[1;33m=\u001b[0m\u001b[1;32mTrue\u001b[0m\u001b[1;33m)\u001b[0m\u001b[1;33m[\u001b[0m\u001b[1;36m1\u001b[0m\u001b[1;33m]\u001b[0m\u001b[1;33m\u001b[0m\u001b[1;33m\u001b[0m\u001b[0m\n\u001b[0m\u001b[0;32m   3031\u001b[0m \u001b[1;33m\u001b[0m\u001b[0m\n\u001b[0;32m   3032\u001b[0m         \u001b[1;31m# take() does not accept boolean indexers\u001b[0m\u001b[1;33m\u001b[0m\u001b[1;33m\u001b[0m\u001b[1;33m\u001b[0m\u001b[0m\n",
      "\u001b[1;32mc:\\zhangli\\software\\installer\\python38\\lib\\site-packages\\pandas\\core\\indexing.py\u001b[0m in \u001b[0;36m_get_listlike_indexer\u001b[1;34m(self, key, axis, raise_missing)\u001b[0m\n\u001b[0;32m   1264\u001b[0m             \u001b[0mkeyarr\u001b[0m\u001b[1;33m,\u001b[0m \u001b[0mindexer\u001b[0m\u001b[1;33m,\u001b[0m \u001b[0mnew_indexer\u001b[0m \u001b[1;33m=\u001b[0m \u001b[0max\u001b[0m\u001b[1;33m.\u001b[0m\u001b[0m_reindex_non_unique\u001b[0m\u001b[1;33m(\u001b[0m\u001b[0mkeyarr\u001b[0m\u001b[1;33m)\u001b[0m\u001b[1;33m\u001b[0m\u001b[1;33m\u001b[0m\u001b[0m\n\u001b[0;32m   1265\u001b[0m \u001b[1;33m\u001b[0m\u001b[0m\n\u001b[1;32m-> 1266\u001b[1;33m         \u001b[0mself\u001b[0m\u001b[1;33m.\u001b[0m\u001b[0m_validate_read_indexer\u001b[0m\u001b[1;33m(\u001b[0m\u001b[0mkeyarr\u001b[0m\u001b[1;33m,\u001b[0m \u001b[0mindexer\u001b[0m\u001b[1;33m,\u001b[0m \u001b[0maxis\u001b[0m\u001b[1;33m,\u001b[0m \u001b[0mraise_missing\u001b[0m\u001b[1;33m=\u001b[0m\u001b[0mraise_missing\u001b[0m\u001b[1;33m)\u001b[0m\u001b[1;33m\u001b[0m\u001b[1;33m\u001b[0m\u001b[0m\n\u001b[0m\u001b[0;32m   1267\u001b[0m         \u001b[1;32mreturn\u001b[0m \u001b[0mkeyarr\u001b[0m\u001b[1;33m,\u001b[0m \u001b[0mindexer\u001b[0m\u001b[1;33m\u001b[0m\u001b[1;33m\u001b[0m\u001b[0m\n\u001b[0;32m   1268\u001b[0m \u001b[1;33m\u001b[0m\u001b[0m\n",
      "\u001b[1;32mc:\\zhangli\\software\\installer\\python38\\lib\\site-packages\\pandas\\core\\indexing.py\u001b[0m in \u001b[0;36m_validate_read_indexer\u001b[1;34m(self, key, indexer, axis, raise_missing)\u001b[0m\n\u001b[0;32m   1306\u001b[0m             \u001b[1;32mif\u001b[0m \u001b[0mmissing\u001b[0m \u001b[1;33m==\u001b[0m \u001b[0mlen\u001b[0m\u001b[1;33m(\u001b[0m\u001b[0mindexer\u001b[0m\u001b[1;33m)\u001b[0m\u001b[1;33m:\u001b[0m\u001b[1;33m\u001b[0m\u001b[1;33m\u001b[0m\u001b[0m\n\u001b[0;32m   1307\u001b[0m                 \u001b[0maxis_name\u001b[0m \u001b[1;33m=\u001b[0m \u001b[0mself\u001b[0m\u001b[1;33m.\u001b[0m\u001b[0mobj\u001b[0m\u001b[1;33m.\u001b[0m\u001b[0m_get_axis_name\u001b[0m\u001b[1;33m(\u001b[0m\u001b[0maxis\u001b[0m\u001b[1;33m)\u001b[0m\u001b[1;33m\u001b[0m\u001b[1;33m\u001b[0m\u001b[0m\n\u001b[1;32m-> 1308\u001b[1;33m                 \u001b[1;32mraise\u001b[0m \u001b[0mKeyError\u001b[0m\u001b[1;33m(\u001b[0m\u001b[1;34mf\"None of [{key}] are in the [{axis_name}]\"\u001b[0m\u001b[1;33m)\u001b[0m\u001b[1;33m\u001b[0m\u001b[1;33m\u001b[0m\u001b[0m\n\u001b[0m\u001b[0;32m   1309\u001b[0m \u001b[1;33m\u001b[0m\u001b[0m\n\u001b[0;32m   1310\u001b[0m             \u001b[0max\u001b[0m \u001b[1;33m=\u001b[0m \u001b[0mself\u001b[0m\u001b[1;33m.\u001b[0m\u001b[0mobj\u001b[0m\u001b[1;33m.\u001b[0m\u001b[0m_get_axis\u001b[0m\u001b[1;33m(\u001b[0m\u001b[0maxis\u001b[0m\u001b[1;33m)\u001b[0m\u001b[1;33m\u001b[0m\u001b[1;33m\u001b[0m\u001b[0m\n",
      "\u001b[1;31mKeyError\u001b[0m: \"None of [Int64Index([   0,    2,    3,    5,    6,    7,    8,    9,   10,   12,\\n            ...\\n            7987, 7989, 7990, 7991, 7992, 7994, 7995, 7996, 7997, 7998],\\n           dtype='int64', length=6400)] are in the [columns]\""
     ]
    }
   ],
   "source": [
    "import numpy as np  \n",
    "import pandas as pd\n",
    "import seaborn as sns\n",
    "import time\n",
    "import matplotlib.pyplot as plt\n",
    "from sklearn.model_selection import StratifiedKFold\n",
    "import lightgbm as lgb\n",
    "from sklearn import metrics\n",
    "from scipy.optimize import curve_fit\n",
    "from sklearn.model_selection import train_test_split\n",
    "from sklearn import metrics\n",
    "from sklearn.metrics import accuracy_score, precision_score, recall_score, f1_score, roc_curve, auc, roc_auc_score, confusion_matrix, average_precision_score\n",
    "from tqdm import tqdm_notebook as tqdm\n",
    "\n",
    "import lightgbm as lgb\n",
    "from sklearn.model_selection import KFold, StratifiedKFold\n",
    "\n",
    "def validation_prediction_lgb(X, y, feature_names, ratio=1, X_test=None, y_test=None, istest=False):\n",
    "    n_fold = 5\n",
    "    folds = StratifiedKFold(n_splits=n_fold, shuffle=True, random_state=42)\n",
    "    params = {\n",
    "        'objective': 'binary',\n",
    "        'boosting_type': 'gbdt',\n",
    "        'verbose': -1,\n",
    "        'metric': 'auc',\n",
    "        'is_unbalance': False,\n",
    "        'boost_from_average': False,\n",
    "    }\n",
    "\n",
    "    importances = pd.DataFrame()\n",
    "    if istest:\n",
    "        prediction = np.zeros(len(X_test))\n",
    "    models = []\n",
    "    for fold_n, (train_index, valid_index) in enumerate(folds.split(X, y)):\n",
    "        print('Fold', fold_n, 'started at', time.ctime())\n",
    "        X_train, X_valid = X[train_index], X[valid_index]\n",
    "        y_train, y_valid = y[train_index], y[valid_index]\n",
    "        weights = [ratio if val == 1 else 1 for val in y_train]\n",
    "        train_data = lgb.Dataset(X_train, label=y_train, weight=weights)  # free_raw_data=True\n",
    "        valid_data = lgb.Dataset(X_valid, label=y_valid)\n",
    "        model = lgb.train(params, train_data, num_boost_round=1000,\n",
    "                          valid_sets=[train_data, valid_data], verbose_eval=250, early_stopping_rounds=100)\n",
    "        \n",
    "        imp_df = pd.DataFrame()\n",
    "        imp_df['feature'] = feature_names\n",
    "        imp_df['split'] = model.feature_importance()\n",
    "        imp_df['gain'] = model.feature_importance(importance_type='gain')\n",
    "        imp_df['fold'] = fold_n + 1\n",
    "        importances = pd.concat([importances, imp_df], axis=0)\n",
    "        models.append(model)\n",
    "        if istest == True:\n",
    "            predict_y = model.predict(X_test)\n",
    "            # 这个地方概率值分档，应该拉出来看看\n",
    "            predict_label = [1 if i >0.4 else 0 for i in predict_y]\n",
    "            binary_classifier_metrics(y_test, predict_label, predict_y, False)  # every result\n",
    "            prediction += predict_y\n",
    "    if istest == True:\n",
    "        print('[End]     Average evaluation score: ')\n",
    "        predict_label = [1 if i >0.4 else 0 for i in prediction/5]  # average result\n",
    "        binary_classifier_metrics(y_test, predict_label, predict_y)\n",
    "        sta_bins = segment_statistic(y_test, prediction/5)\n",
    "        return models, importances, predict_y, sta_bins\n",
    "    else:\n",
    "        return models, importances\n",
    "# \n",
    "train_cols = X_train.columns\n",
    "train_x, val_x, train_y, val_y = train_test_split(X_train, y_train, test_size=0.20, random_state=42)\n",
    "models, importances, prediction, sta_bins = validation_prediction_lgb(train_x, train_y,\n",
    "                                                            train_cols, X_test=val_x, y_test=val_y, istest=True)"
   ]
  },
  {
   "cell_type": "markdown",
   "id": "located-naples",
   "metadata": {},
   "source": [
    "## 4. 参数调节"
   ]
  },
  {
   "cell_type": "markdown",
   "id": "reduced-performance",
   "metadata": {},
   "source": [
    "### 4.1 学习曲线调参"
   ]
  },
  {
   "cell_type": "code",
   "execution_count": 68,
   "id": "improving-excuse",
   "metadata": {
    "collapsed": true,
    "jupyter": {
     "outputs_hidden": true
    },
    "tags": []
   },
   "outputs": [
    {
     "name": "stdout",
     "output_type": "stream",
     "text": [
      "max(accuracy):  0.795375, index: 9\n",
      "max(precision): 0.443955, index: 9\n",
      "max(recall):    0.924091, index: 2\n",
      "max(f1):        0.572415, index: 8\n",
      "max(roc_auc):   0.876119, index: 3\n"
     ]
    },
    {
     "data": {
      "image/png": "[encoded data removed]",
      "text/plain": [
       "<Figure size 1440x288 with 1 Axes>"
      ]
     },
     "metadata": {
      "needs_background": "light"
     },
     "output_type": "display_data"
    }
   ],
   "source": [
    "# 学习曲线调参 一般的函数\n",
    "import matplotlib.pyplot as plt\n",
    "import warnings\n",
    "warnings.filterwarnings(\"ignore\")\n",
    "\n",
    "from sklearn.model_selection import KFold, cross_val_score\n",
    "from lightgbm import LGBMClassifier\n",
    "\n",
    "def adjust_lgbc_param(train_x=None, train_y=None, test_x=None, test_y=None, metric='accuracy'):\n",
    "    Xtrain, Ytrain, Xtest, Ytest = train_x, train_y, test_x, test_y\n",
    "\n",
    "    acc_train, acc_test = [], []\n",
    "    pre_train, pre_test = [], []\n",
    "    recall_train, recall_test = [], []\n",
    "    f1_train, f1_test = [], []\n",
    "    auc_train, auc_test = [], []\n",
    "    map_train, map_test = [], [] \n",
    "    # 调优精度\n",
    "    start, end, step = 1, 10, 1  \n",
    "    n_cv = 5\n",
    "    \n",
    "    for i in range(start,end,step):\n",
    "        lgbc = LGBMClassifier(\n",
    "                             boosting_type='gbdt',\n",
    "                             class_weight='balanced',\n",
    "                             objective='binary',\n",
    "                             colsample_bytree=1.0,\n",
    "                             importance_type='split', # 和feature_importance 配合使用\n",
    "                             n_estimators=81,\n",
    "                             learning_rate=0.1,\n",
    "                             max_depth=i,\n",
    "                             min_child_samples=20,\n",
    "                             min_child_weight=0.001,\n",
    "                             min_split_gain=0.0,\n",
    "                             num_leaves=31,\n",
    "                             reg_alpha=0.0,\n",
    "                             reg_lambda=0.0,\n",
    "                             silent=True,\n",
    "                             subsample=1.0,\n",
    "                             subsample_for_bin=200000,\n",
    "                             subsample_freq=0)\n",
    "        score = cross_val_score(lgbc,Xtrain,Ytrain,cv=n_cv, scoring='accuracy').mean()\n",
    "        acc_train.append(score)\n",
    "        score = cross_val_score(lgbc,Xtrain,Ytrain,cv=n_cv, scoring='precision').mean()\n",
    "        pre_train.append(score)\n",
    "        score = cross_val_score(lgbc,Xtrain,Ytrain,cv=n_cv, scoring='recall').mean()\n",
    "        recall_train.append(score)\n",
    "        score = cross_val_score(lgbc,Xtrain,Ytrain,cv=n_cv, scoring='f1').mean()\n",
    "        f1_train.append(score)\n",
    "        score = cross_val_score(lgbc,Xtrain,Ytrain,cv=n_cv, scoring='roc_auc').mean()\n",
    "        auc_train.append(score)\n",
    "\n",
    "    print('max(accuracy):  %f, index: %d' % (max(acc_train),(acc_train.index(max(acc_train))*step)+1+start))\n",
    "    print('max(precision): %f, index: %d' % (max(pre_train),(pre_train.index(max(pre_train))*step)+1+start))\n",
    "    print('max(recall):    %f, index: %d' % (max(recall_train),(recall_train.index(max(recall_train))*step)+1+start))\n",
    "    print('max(f1):        %f, index: %d' % (max(f1_train),(f1_train.index(max(f1_train))*step)+1+start))\n",
    "    print('max(roc_auc):   %f, index: %d' % (max(auc_train),(auc_train.index(max(auc_train))*step)+1+start))\n",
    "    \n",
    "    fig = plt.figure(figsize=[20,4])\n",
    "    ax = fig.add_subplot(1, 1, 1)\n",
    "    ax.set_title('accuracy')\n",
    "    ax.plot(range(start,end,step),acc_train, c=\"red\",label=\"accuracy\")\n",
    "    ax.plot(range(start,end,step),pre_train, c=\"green\",label=\"precision\")\n",
    "    ax.plot(range(start,end,step),recall_train, c=\"blue\",label=\"recall\")\n",
    "    ax.plot(range(start,end,step),f1_train, c=\"orange\",label=\"f1\")\n",
    "    ax.plot(range(start,end,step),auc_train, c=\"pink\",label=\"auc\")\n",
    "    ax.legend(fontsize=\"xx-large\")\n",
    "    plt.show()\n",
    "train_x, val_x, train_y, val_y = train_test_split(X_train, y_train, test_size=0.20, random_state=42)\n",
    "adjust_lgbc_param(train_x, train_y, val_x, val_y)"
   ]
  },
  {
   "cell_type": "code",
   "execution_count": 70,
   "id": "presidential-simple",
   "metadata": {
    "collapsed": true,
    "jupyter": {
     "outputs_hidden": true
    },
    "tags": []
   },
   "outputs": [
    {
     "data": {
      "image/png": "[encoded data removed]",
      "text/plain": [
       "<Figure size 1080x360 with 1 Axes>"
      ]
     },
     "metadata": {
      "needs_background": "light"
     },
     "output_type": "display_data"
    }
   ],
   "source": [
    "def adjustment_xgb_parameters(x_train=None, y_train=None, fig_ylim=3):\n",
    "    \"\"\"x_train, y_train\"\"\"\n",
    "    fig,ax = plt.subplots(1,figsize=(15,5))\n",
    "    ax.set_ylim(top=fig_ylim)\n",
    "    ax.grid()\n",
    "\n",
    "    dfull = xgb.DMatrix(x_train,y_train) \n",
    "    # Init parameter\n",
    "    param1 = {'verbosity':1, # -- global parameter \n",
    "              'objective':'binary:logistic',  # -- task parameter\n",
    "              'eval_metric':'auc',\n",
    "              \"subsample\":1,  # -- tree booster parameter\n",
    "              \"max_depth\":6,\n",
    "              \"eta\":0.3,\n",
    "              \"gamma\":0,\n",
    "              \"lambda\":1,\n",
    "              \"alpha\":0,\n",
    "              \"colsample_bytree\":1,\n",
    "              \"colsample_bylevel\":1,\n",
    "              \"colsample_bynode\":1,\n",
    "            }\n",
    "    num_round = 200\n",
    "    cvresult1 = xgb.cv(params=param1, dtrain=dfull, num_boost_round=num_round,nfold=5)\n",
    "    ax.plot(range(1,num_round+1),cvresult1.iloc[:,0],c=\"red\",label=\"train,original\")\n",
    "    ax.plot(range(1,num_round+1),cvresult1.iloc[:,2],c=\"orange\",label=\"test,original\")\n",
    "\n",
    "    # Usable parameter\n",
    "    param2 = {'verbosity':1, \n",
    "              'objective':'binary:logistic', \n",
    "              'eval_metric':'auc'\n",
    "             }\n",
    "    num_round = 200\n",
    "    cvresult2 = xgb.cv(params=param1, dtrain=dfull, num_boost_round=num_round,nfold=5)\n",
    "    ax.plot(range(1,num_round+1),cvresult2.iloc[:,0],c=\"green\",label=\"train,last\")\n",
    "    ax.plot(range(1,num_round+1),cvresult2.iloc[:,2],c=\"blue\",label=\"test,last\")\n",
    "\n",
    "    # Adjusting parameter\n",
    "    param3 = {'verbosity':1,  \n",
    "              'objective':'binary:logistic',\n",
    "              'eval_metric':'auc'\n",
    "             }\n",
    "    num_round = 200\n",
    "    cvresult3 = xgb.cv(params=param1, dtrain=dfull, num_boost_round=num_round,nfold=5)\n",
    "    ax.plot(range(1,num_round+1),cvresult3.iloc[:,0],c=\"gray\",label=\"train,this\")\n",
    "    ax.plot(range(1,num_round+1),cvresult3.iloc[:,2],c=\"pink\",label=\"test,this\")\n",
    "    ax.legend(fontsize=\"xx-large\")\n",
    "    plt.show()\n",
    "train_x, val_x, train_y, val_y = train_test_split(X_train, y_train, test_size=0.20, random_state=42)\n",
    "adjustment_xgb_parameters(train_x, train_y)"
   ]
  },
  {
   "cell_type": "code",
   "execution_count": 72,
   "id": "reduced-telescope",
   "metadata": {
    "collapsed": true,
    "jupyter": {
     "outputs_hidden": true
    },
    "tags": []
   },
   "outputs": [
    {
     "name": "stdout",
     "output_type": "stream",
     "text": [
      "[100]\ttraining's binary_logloss: 0.155112\tvalid_1's binary_logloss: 0.299768\n",
      "[100]\ttraining's binary_logloss: 0.262166\tvalid_1's binary_logloss: 0.297143\n",
      "[100]\ttraining's binary_logloss: 0.262166\tvalid_1's binary_logloss: 0.297143\n"
     ]
    },
    {
     "data": {
      "image/png": "[encoded data removed]",
      "text/plain": [
       "<Figure size 1440x720 with 1 Axes>"
      ]
     },
     "metadata": {
      "needs_background": "light"
     },
     "output_type": "display_data"
    }
   ],
   "source": [
    "# Adjust the param of lightgbm   use eval_result = {} \n",
    "def adjust_lgb_parameters(x_train=None, y_train=None, x_test=None, y_test=None, xlim=None):\n",
    "    # auc / binary_logloss(binary) / binary_error \n",
    "    train_data_l = lgb.Dataset(x_train, label=y_train) \n",
    "    valid_data_l = lgb.Dataset(x_test, label=y_test)\n",
    "\n",
    "    fig = plt.figure(figsize=(20,10))\n",
    "    ax = fig.add_subplot(211)\n",
    "    xlim = xlim\n",
    "    params = {\n",
    "        'objective': 'binary',\n",
    "        'boosting_type': 'gbdt',\n",
    "        'verbose': -1,\n",
    "        'metric': 'binary_logloss',\n",
    "        'n_estimators': 100,\n",
    "    }\n",
    "    evals_result_ori = {}\n",
    "    model = lgb.train(params, train_set=train_data_l, verbose_eval=100, valid_sets=[train_data_l, valid_data_l], evals_result=evals_result_ori) \n",
    "    lgb.plot_metric(evals_result_ori, metric=params['metric'], ax=ax, xlim=xlim)\n",
    "\n",
    "    params = {\n",
    "        'objective': 'binary',\n",
    "        'boosting_type': 'gbdt',\n",
    "        'verbose': -1,\n",
    "        'metric': 'binary_logloss',\n",
    "        'n_estimators': 100,\n",
    "        'learning_rate': 0.03,\n",
    "        'num_leaves': 21,\n",
    "        'reg_alpha': 0.2,\n",
    "        'reg_lambda': 0.2,\n",
    "    }\n",
    "    evals_result_last = {}\n",
    "    model = lgb.train(params, train_set=train_data_l, verbose_eval=100, valid_sets=[train_data_l, valid_data_l], evals_result=evals_result_last)\n",
    "    lgb.plot_metric(evals_result_last, metric=params['metric'], ax=ax, xlim=xlim)\n",
    "\n",
    "    params = {\n",
    "        'objective': 'binary',\n",
    "        'boosting_type': 'gbdt',\n",
    "        'verbose': -1,\n",
    "        'metric': 'binary_logloss',\n",
    "        'n_estimators': 100,\n",
    "        'learning_rate': 0.03,\n",
    "        'num_leaves': 21,\n",
    "        'reg_alpha': 0.2,\n",
    "        'reg_lambda': 0.2,\n",
    "        'subsample': 0.5\n",
    "    }\n",
    "    evals_result_this = {}\n",
    "    model = lgb.train(params, train_set=train_data_l, verbose_eval=100, valid_sets=[train_data_l, valid_data_l], evals_result=evals_result_this)\n",
    "    lgb.plot_metric(evals_result_this, metric=params['metric'], ax=ax, xlim=xlim)\n",
    "train_x, val_x, train_y, val_y = train_test_split(X_train, y_train, test_size=0.20, random_state=42)\n",
    "adjust_lgb_parameters(train_x, train_y, val_x, val_y)"
   ]
  },
  {
   "cell_type": "markdown",
   "id": "changed-progress",
   "metadata": {},
   "source": [
    "### 4.2 自动调参\n",
    "1. 网格搜索\n",
    "2. 随机搜索\n",
    "3. 贝叶斯优化"
   ]
  },
  {
   "cell_type": "code",
   "execution_count": 73,
   "id": "swedish-saying",
   "metadata": {
    "tags": []
   },
   "outputs": [
    {
     "name": "stdout",
     "output_type": "stream",
     "text": [
      "Fitting 3 folds for each of 2 candidates, totalling 6 fits\n",
      "[CV 1/3] END ....................................max_depth=5; total time=   0.2s\n",
      "[LightGBM] [Warning] num_threads is set=-1, n_jobs=-1 will be ignored. Current value: num_threads=-1\n",
      "[CV 2/3] END ....................................max_depth=5; total time=   0.2s\n",
      "[LightGBM] [Warning] num_threads is set=-1, n_jobs=-1 will be ignored. Current value: num_threads=-1\n",
      "[CV 3/3] END ....................................max_depth=5; total time=   0.3s\n",
      "[LightGBM] [Warning] num_threads is set=-1, n_jobs=-1 will be ignored. Current value: num_threads=-1\n",
      "[CV 1/3] END ...................................max_depth=10; total time=   0.4s\n",
      "[LightGBM] [Warning] num_threads is set=-1, n_jobs=-1 will be ignored. Current value: num_threads=-1\n",
      "[CV 2/3] END ...................................max_depth=10; total time=   0.3s\n",
      "[LightGBM] [Warning] num_threads is set=-1, n_jobs=-1 will be ignored. Current value: num_threads=-1\n",
      "[CV 3/3] END ...................................max_depth=10; total time=   0.5s\n",
      "[LightGBM] [Warning] num_threads is set=-1, n_jobs=-1 will be ignored. Current value: num_threads=-1\n",
      "Best score: 0.027\n",
      "Best parameters set:\n",
      "\tmax_depth: 10\n",
      "Best estimator:\n",
      " LGBMClassifier(colsample_bytree=0.7, learning_rate=0.01, max_delta_step=0,\n",
      "               max_depth=10, min_child_weight=1, num_threads=-1,\n",
      "               objective='binary', reg_alpha=0, reg_lambda=1,\n",
      "               scale_pos_weight=1, seed=1440, subsample=0.85, verbosity=-1)\n"
     ]
    }
   ],
   "source": [
    "# 网格搜索\n",
    "# Fitting 3 folds for each of 300000 candidates, totalling 900000 fits\n",
    "import lightgbm as lgb\n",
    "import pandas as pd\n",
    "from sklearn.model_selection import train_test_split, GridSearchCV\n",
    "from sklearn.metrics import roc_auc_score\n",
    "import warnings\n",
    "import warnings\n",
    "warnings.filterwarnings('ignore')\n",
    "\n",
    "parameters = {\n",
    "#     'n_estimators': [500, 1000, 2000, 3000, 5000],\n",
    "#     'num_leaves': [10,20.30,40,50],\n",
    "#     'learning_rate': [0.01, 0.02, 0.05, 0.1, 0.15],\n",
    "    'max_depth': [5, 10],  # default = 31 [5, 10, 15, 20, 25]\n",
    "#     'min_child_weight': [0, 2, 5, 10, 20],\n",
    "#     'max_delta_step': [0, 0.2, 0.6, 1, 2],\n",
    "#     'subsample': [0.6, 0.7, 0.8, 0.85, 0.95],\n",
    "#     'colsample_bytree': [0.5, 0.6, 0.7, 0.8, 0.9],\n",
    "#     'reg_alpha': [0, 0.25, 0.5, 0.75, 1],\n",
    "#     'reg_lambda': [0.2, 0.4, 0.6, 0.8, 1],\n",
    "#     'scale_pos_weight': [0.2, 0.4, 0.6, 0.8, 1]\n",
    "}\n",
    "\n",
    "lgbc = lgb.LGBMClassifier(\n",
    "                        max_depth=10,\n",
    "                        learning_rate=0.01,\n",
    "                        n_estimators=100,\n",
    "                        silent=True,\n",
    "                        objective='binary',\n",
    "                        min_child_weight=1,\n",
    "                        max_delta_step=0,\n",
    "                        subsample=0.85,\n",
    "                        colsample_bytree=0.7,\n",
    "                        reg_alpha=0,\n",
    "                        reg_lambda=1,\n",
    "                        scale_pos_weight=1,\n",
    "                        seed=1440,\n",
    "                        num_threads=-1,\n",
    "                        verbosity=-1\n",
    "                       )\n",
    "# Scoring options: [accuracy, f1, precision, recall, roc_auc]\n",
    "# https://scikit-learn.org/0.22/modules/model_evaluation.html#scoring-parameter\n",
    "gsearch = GridSearchCV(lgbc, param_grid=parameters, scoring='f1', cv=3, verbose=3, return_train_score=False)\n",
    "gsearch.fit(train_x, train_y) # traditional train_x / train_y\n",
    "\n",
    "\n",
    "print(\"Best score: %0.3f\" % gsearch.best_score_)\n",
    "print(\"Best parameters set:\")\n",
    "best_parameters = gsearch.best_estimator_.get_params()\n",
    "for param_name in sorted(parameters.keys()):\n",
    "    print(\"\\t%s: %r\" % (param_name, best_parameters[param_name]))\n",
    "print('Best estimator:\\n', gsearch.best_estimator_)\n",
    "\n",
    "# print('详细结果:\\n', pd.DataFrame.from_dict(gsearch.cv_results_))\n",
    "# print('最佳分数:\\n', gsearch.best_score_)\n",
    "# print('最佳参数:\\n', gsearch.best_params_)"
   ]
  },
  {
   "cell_type": "code",
   "execution_count": 74,
   "id": "macro-passing",
   "metadata": {
    "collapsed": true,
    "jupyter": {
     "outputs_hidden": true,
     "source_hidden": true
    },
    "tags": []
   },
   "outputs": [
    {
     "name": "stdout",
     "output_type": "stream",
     "text": [
      "Fitting 3 folds for each of 2 candidates, totalling 6 fits\n",
      "[CV 1/3] END ....................................max_depth=5; total time=   0.2s\n",
      "[LightGBM] [Warning] num_threads is set=-1, n_jobs=-1 will be ignored. Current value: num_threads=-1\n",
      "[CV 2/3] END ....................................max_depth=5; total time=   0.2s\n",
      "[LightGBM] [Warning] num_threads is set=-1, n_jobs=-1 will be ignored. Current value: num_threads=-1\n",
      "[CV 3/3] END ....................................max_depth=5; total time=   0.3s\n",
      "[LightGBM] [Warning] num_threads is set=-1, n_jobs=-1 will be ignored. Current value: num_threads=-1\n",
      "[CV 1/3] END ...................................max_depth=10; total time=   0.4s\n",
      "[LightGBM] [Warning] num_threads is set=-1, n_jobs=-1 will be ignored. Current value: num_threads=-1\n",
      "[CV 2/3] END ...................................max_depth=10; total time=   0.4s\n",
      "[LightGBM] [Warning] num_threads is set=-1, n_jobs=-1 will be ignored. Current value: num_threads=-1\n",
      "[CV 3/3] END ...................................max_depth=10; total time=   0.5s\n",
      "[LightGBM] [Warning] num_threads is set=-1, n_jobs=-1 will be ignored. Current value: num_threads=-1\n",
      "Best score: 0.027\n",
      "Best parameters set:\n",
      "\tmax_depth: 10\n",
      "Best estimator_:\n",
      " LGBMClassifier(colsample_bytree=0.7, learning_rate=0.01, max_delta_step=0,\n",
      "               max_depth=10, min_child_weight=1, num_threads=-1,\n",
      "               objective='binary', reg_alpha=0, reg_lambda=1,\n",
      "               scale_pos_weight=1, seed=1440, subsample=0.85, verbosity=-1)\n"
     ]
    }
   ],
   "source": [
    "# 随机搜索\n",
    "import lightgbm as lgb\n",
    "import pandas as pd\n",
    "from sklearn.model_selection import train_test_split, RandomizedSearchCV\n",
    "\n",
    "parameters = {\n",
    "#     'n_estimators': [500, 1000, 2000, 3000, 5000],\n",
    "#     'num_leaves': [10,20.30,40,50],\n",
    "#     'learning_rate': [0.01, 0.02, 0.05, 0.1, 0.15],\n",
    "    'max_depth': [5, 10],  # default = 31 [5, 10, 15, 20, 25]\n",
    "#     'min_child_weight': [0, 2, 5, 10, 20],\n",
    "#     'max_delta_step': [0, 0.2, 0.6, 1, 2],\n",
    "#     'subsample': [0.6, 0.7, 0.8, 0.85, 0.95],\n",
    "#     'colsample_bytree': [0.5, 0.6, 0.7, 0.8, 0.9],\n",
    "#     'reg_alpha': [0, 0.25, 0.5, 0.75, 1],\n",
    "#     'reg_lambda': [0.2, 0.4, 0.6, 0.8, 1],\n",
    "#     'scale_pos_weight': [0.2, 0.4, 0.6, 0.8, 1]\n",
    "}\n",
    "\n",
    "lgbc = lgb.LGBMClassifier(\n",
    "                        max_depth=10,\n",
    "                        learning_rate=0.01,\n",
    "                        n_estimators=100,\n",
    "                        silent=True,\n",
    "                        objective='binary',\n",
    "                        min_child_weight=1,\n",
    "                        max_delta_step=0,\n",
    "                        subsample=0.85,\n",
    "                        colsample_bytree=0.7,\n",
    "                        reg_alpha=0,\n",
    "                        reg_lambda=1,\n",
    "                        scale_pos_weight=1,\n",
    "                        seed=1440,\n",
    "                        num_threads=-1,\n",
    "                        verbosity=-1\n",
    "                       )\n",
    "rand_ser = RandomizedSearchCV(lgbc, param_distributions=parameters, scoring='f1', cv=3, verbose=3)\n",
    "rand_ser.fit(train_x, train_y)\n",
    "\n",
    "print(\"Best score: %0.3f\" % rand_ser.best_score_)\n",
    "print(\"Best parameters set:\")\n",
    "best_parameters = rand_ser.best_estimator_.get_params()\n",
    "for param_name in sorted(parameters.keys()):\n",
    "    print(\"\\t%s: %r\" % (param_name, best_parameters[param_name]))\n",
    "print('Best estimator_:\\n', rand_ser.best_estimator_)\n",
    "\n",
    "# print('详细结果:\\n', pd.DataFrame.from_dict(rand_ser.cv_results_))\n",
    "# print('最佳分数:\\n', rand_ser.best_score_)\n",
    "# print('最佳参数:\\n', rand_ser.best_params_)"
   ]
  },
  {
   "cell_type": "code",
   "execution_count": null,
   "id": "brown-condition",
   "metadata": {
    "tags": []
   },
   "outputs": [],
   "source": [
    "# bayes调参初探\n",
    "from sklearn.model_selection import cross_val_score\n",
    "from bayes_opt import BayesianOptimization\n",
    "from sklearn.model_selection import GridSearchCV\n",
    "import numpy as np\n",
    "import lightgbm as lgb\n",
    "from sklearn.model_selection import cross_val_score\n",
    "\n",
    "def lgbc_cv(n_estimators, max_depth,learning_rate,min_child_weight,max_delta_step,subsample,colsample_bytree,reg_alpha,reg_lambda,scale_pos_weight):\n",
    "    val = cross_val_score(\n",
    "        lgb.LGBMClassifier(max_depth=int(max_depth),\n",
    "            learning_rate=min(learning_rate,0.3),\n",
    "            n_estimators=int(n_estimators),\n",
    "            #silent=True,\n",
    "            verbose=4,\n",
    "            objective='binary',         \n",
    "            min_child_weight=int(min_child_weight),\n",
    "            max_delta_step=int(max_delta_step),\n",
    "            subsample=min(subsample,0.95),\n",
    "            colsample_bytree=min(colsample_bytree,0.95),\n",
    "            reg_alpha=min(reg_alpha,1),\n",
    "            reg_lambda=min(reg_lambda,1),\n",
    "            scale_pos_weight=min(scale_pos_weight,1),\n",
    "            seed=1440),\n",
    "        train_x, train_y, scoring='roc_auc', cv=5\n",
    "    ).mean()\n",
    "    return val \n",
    "\n",
    "lgbc_bo = BayesianOptimization(\n",
    "        lgbc_cv,\n",
    "        {\n",
    "              'max_depth': (5,100),\n",
    "              'learning_rate': (0.001,0.3),\n",
    "              'n_estimators': (500,5000),\n",
    "              'min_child_weight': (0,20),\n",
    "              'max_delta_step': (0,2),\n",
    "              'subsample': (0.1,0.99),\n",
    "              'colsample_bytree': (0.1,0.99),\n",
    "              'reg_alpha': (0,1),\n",
    "              'reg_lambda': (0,1),\n",
    "              'scale_pos_weight': (0,1)\n",
    "\n",
    "}\n",
    "    )\n",
    "lgbc_bo.maximize(n_iter=5) # 100\n",
    "lgbc_bo.max"
   ]
  },
  {
   "cell_type": "markdown",
   "id": "educational-brook",
   "metadata": {},
   "source": [
    "## 5. 模型集成"
   ]
  },
  {
   "cell_type": "code",
   "execution_count": null,
   "id": "binary-bunch",
   "metadata": {},
   "outputs": [],
   "source": []
  },
  {
   "cell_type": "markdown",
   "id": "vocal-impossible",
   "metadata": {},
   "source": [
    "## 6. 模型持久化"
   ]
  },
  {
   "cell_type": "code",
   "execution_count": 75,
   "id": "exact-orlando",
   "metadata": {
    "tags": []
   },
   "outputs": [],
   "source": [
    "# 程序持久化\n",
    "import joblib\n",
    "import os\n",
    "# 保存模型\n",
    "save_path = 'model.pkl'\n",
    "joblib.dump(model, save_path)\n",
    "# 加载模型\n",
    "path = os.getcwd()\n",
    "model = joblib.load(path+'/model.pkl')"
   ]
  }
 ],
 "metadata": {
  "kernelspec": {
   "display_name": "Python 3",
   "language": "python",
   "name": "python3"
  },
  "language_info": {
   "codemirror_mode": {
    "name": "ipython",
    "version": 3
   },
   "file_extension": ".py",
   "mimetype": "text/x-python",
   "name": "python",
   "nbconvert_exporter": "python",
   "pygments_lexer": "ipython3",
   "version": "3.8.5"
  }
 },
 "nbformat": 4,
 "nbformat_minor": 5
}
