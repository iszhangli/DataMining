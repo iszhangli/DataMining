{
 "cells": [
  {
   "cell_type": "markdown",
   "id": "federal-leave",
   "metadata": {},
   "source": [
    "1. User portrait data  # the information of users\n",
    "2. App launch logs  # the login information\n",
    "3. Video related data  # the video info\n",
    "4. User playback data  # watch vedio info\n",
    "5. User interaction data  # "
   ]
  },
  {
   "cell_type": "code",
   "execution_count": null,
   "id": "robust-statement",
   "metadata": {},
   "outputs": [],
   "source": [
    "### 登录相关\n",
    "1. user_id 做embedding\n",
    "1. 登录的次数， 登录类型的次数\n"
   ]
  }
 ],
 "metadata": {
  "kernelspec": {
   "display_name": "Python 3",
   "language": "python",
   "name": "python3"
  },
  "language_info": {
   "codemirror_mode": {
    "name": "ipython",
    "version": 3
   },
   "file_extension": ".py",
   "mimetype": "text/x-python",
   "name": "python",
   "nbconvert_exporter": "python",
   "pygments_lexer": "ipython3",
   "version": "3.8.5"
  }
 },
 "nbformat": 4,
 "nbformat_minor": 5
}
