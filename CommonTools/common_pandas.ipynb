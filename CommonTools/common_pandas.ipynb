{
 "cells": [
  {
   "cell_type": "markdown",
   "id": "hourly-norfolk",
   "metadata": {},
   "source": [
    "<font color=red size=4>**改变类型-列重命名**</font>"
   ]
  },
  {
   "cell_type": "code",
   "execution_count": null,
   "id": "iraqi-spring",
   "metadata": {},
   "outputs": [],
   "source": []
  },
  {
   "cell_type": "markdown",
   "id": "disturbed-sequence",
   "metadata": {},
   "source": [
    "<font color=red size=4>**占用内存**</font>"
   ]
  },
  {
   "cell_type": "code",
   "execution_count": null,
   "id": "conceptual-concrete",
   "metadata": {},
   "outputs": [],
   "source": []
  },
  {
   "cell_type": "code",
   "execution_count": null,
   "id": "prompt-variation",
   "metadata": {},
   "outputs": [],
   "source": [
    "<font color=red size=4>**聚类**</font>"
   ]
  },
  {
   "cell_type": "code",
   "execution_count": null,
   "id": "afraid-sheep",
   "metadata": {},
   "outputs": [],
   "source": []
  }
 ],
 "metadata": {
  "kernelspec": {
   "display_name": "Python 3",
   "language": "python",
   "name": "python3"
  },
  "language_info": {
   "codemirror_mode": {
    "name": "ipython",
    "version": 3
   },
   "file_extension": ".py",
   "mimetype": "text/x-python",
   "name": "python",
   "nbconvert_exporter": "python",
   "pygments_lexer": "ipython3",
   "version": "3.8.5"
  }
 },
 "nbformat": 4,
 "nbformat_minor": 5
}
