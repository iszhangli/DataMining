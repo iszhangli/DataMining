{
 "cells": [
  {
   "cell_type": "markdown",
   "id": "exotic-trash",
   "metadata": {},
   "source": [
    "<font color=red size=4>**改变类型-列重命名**</font>"
   ]
  },
  {
   "cell_type": "code",
   "execution_count": null,
   "id": "julian-jaguar",
   "metadata": {},
   "outputs": [],
   "source": [
    "# 1. 重命名1\n",
    "df.rename(columns={'article_id': 'click_article_id'})"
   ]
  },
  {
   "cell_type": "markdown",
   "id": "piano-penguin",
   "metadata": {},
   "source": [
    "<font color=red size=4>**占用内存**</font>"
   ]
  },
  {
   "cell_type": "code",
   "execution_count": null,
   "id": "optimum-brook",
   "metadata": {},
   "outputs": [],
   "source": [
    "print('all_data占据内存约: {:.2f} MB'.format(dataframe.memory_usage().sum()/ (1024**2)))"
   ]
  },
  {
   "cell_type": "markdown",
   "id": "forty-richmond",
   "metadata": {},
   "source": [
    "<font color=red size=4>**Set()**</font>"
   ]
  },
  {
   "cell_type": "code",
   "execution_count": null,
   "id": "spare-birth",
   "metadata": {},
   "outputs": [],
   "source": [
    "set(A) & set(B) # 交集\n",
    "set(A) | set(B) # 并集\n",
    "set(A) - set(B) # 差集"
   ]
  },
  {
   "cell_type": "markdown",
   "id": "executive-anxiety",
   "metadata": {},
   "source": [
    "<font color=red size=4>**Apply()**</font>"
   ]
  },
  {
   "cell_type": "code",
   "execution_count": null,
   "id": "cutting-subscription",
   "metadata": {},
   "outputs": [],
   "source": []
  },
  {
   "cell_type": "markdown",
   "id": "vietnamese-farming",
   "metadata": {},
   "source": [
    "<font color=red size=4>**Groupby()**</font>"
   ]
  },
  {
   "cell_type": "code",
   "execution_count": null,
   "id": "mechanical-acting",
   "metadata": {},
   "outputs": [],
   "source": [
    "# [agg, apply, transform]\n",
    "# [agg, transform]\n",
    "# input: series\n",
    "# return: series; agg-聚合index; transform-原index;\n",
    "# [apply]\n",
    "# input: dataframe\n",
    "# return: dataframe\n"
   ]
  },
  {
   "cell_type": "code",
   "execution_count": null,
   "id": "yellow-vaccine",
   "metadata": {},
   "outputs": [],
   "source": [
    "<font color=red size=4>**聚类**</font>"
   ]
  },
  {
   "cell_type": "code",
   "execution_count": null,
   "id": "middle-cover",
   "metadata": {},
   "outputs": [],
   "source": [
    "<font color=red size=4>**聚类**</font>"
   ]
  },
  {
   "cell_type": "code",
   "execution_count": null,
   "id": "after-freeware",
   "metadata": {},
   "outputs": [],
   "source": [
    "<font color=red size=4>**聚类**</font>"
   ]
  },
  {
   "cell_type": "code",
   "execution_count": null,
   "id": "applied-islam",
   "metadata": {},
   "outputs": [],
   "source": [
    "<font color=red size=4>**聚类**</font>"
   ]
  },
  {
   "cell_type": "code",
   "execution_count": null,
   "id": "jewish-richards",
   "metadata": {},
   "outputs": [],
   "source": [
    "<font color=red size=4>**聚类**</font>"
   ]
  },
  {
   "cell_type": "code",
   "execution_count": null,
   "id": "enhanced-beginning",
   "metadata": {},
   "outputs": [],
   "source": [
    "<font color=red size=4>**聚类**</font>"
   ]
  }
 ],
 "metadata": {
  "kernelspec": {
   "display_name": "Python 3",
   "language": "python",
   "name": "python3"
  },
  "language_info": {
   "codemirror_mode": {
    "name": "ipython",
    "version": 3
   },
   "file_extension": ".py",
   "mimetype": "text/x-python",
   "name": "python",
   "nbconvert_exporter": "python",
   "pygments_lexer": "ipython3",
   "version": "3.8.5"
  }
 },
 "nbformat": 4,
 "nbformat_minor": 5
}
