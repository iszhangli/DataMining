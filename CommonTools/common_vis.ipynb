{
 "cells": [
  {
   "cell_type": "markdown",
   "id": "impressed-operations",
   "metadata": {},
   "source": [
    "<font color=red size=4>**占用内存**</font>"
   ]
  },
  {
   "cell_type": "code",
   "execution_count": null,
   "id": "affected-apollo",
   "metadata": {},
   "outputs": [],
   "source": [
    "print('all_data占据内存约: {:.2f} MB'.format(dataframe.memory_usage().sum()/ (1024**2)))"
   ]
  },
  {
   "cell_type": "markdown",
   "id": "steady-chambers",
   "metadata": {},
   "source": [
    "<font color=red size=4>**可视化Dataframe的某列**</font>"
   ]
  },
  {
   "cell_type": "code",
   "execution_count": null,
   "id": "noted-freight",
   "metadata": {},
   "outputs": [],
   "source": [
    "# ‘line' : line plot (default)#折线图\n",
    "# ‘bar' : vertical bar plot#条形图\n",
    "# ‘barh' : horizontal bar plot#横向条形图\n",
    "# ‘hist' : histogram#柱状图\n",
    "# ‘box' : boxplot#箱线图\n",
    "# ‘kde' : Kernel Density Estimation plot#Kernel 的密度估计图，主要对柱状图添加Kernel 概率密度线\n",
    "# ‘density' : same as ‘kde'\n",
    "# ‘area' : area plot#不了解此图\n",
    "# ‘pie' : pie plot#饼图\n",
    "# ‘scatter' : scatter plot#散点图 需要传入columns方向的索引\n",
    "# ‘hexbin' : hexbin plot#不了解此图\n",
    "fig, ax = plt.subplots(1, 3, figsize=(15,5))\n",
    "train_user_df['user_age_level'].value_counts().sort_index().plot(kind='bar', color=next(color_cycle), title='age', ax=ax[0])"
   ]
  },
  {
   "cell_type": "markdown",
   "id": "outdoor-arabic",
   "metadata": {},
   "source": [
    "<font color=red size=4>**画布颜色设置**</font>"
   ]
  },
  {
   "cell_type": "code",
   "execution_count": null,
   "id": "saving-foster",
   "metadata": {},
   "outputs": [],
   "source": [
    "from itertools import cycle\n",
    "color_pal = plt.rcParams['axes.prop_cycle'].by_key()['color']\n",
    "color_cycle = cycle(plt.rcParams['axes.prop_cycle'].by_key()['color'])"
   ]
  }
 ],
 "metadata": {
  "kernelspec": {
   "display_name": "Python 3",
   "language": "python",
   "name": "python3"
  },
  "language_info": {
   "codemirror_mode": {
    "name": "ipython",
    "version": 3
   },
   "file_extension": ".py",
   "mimetype": "text/x-python",
   "name": "python",
   "nbconvert_exporter": "python",
   "pygments_lexer": "ipython3",
   "version": "3.8.5"
  }
 },
 "nbformat": 4,
 "nbformat_minor": 5
}
