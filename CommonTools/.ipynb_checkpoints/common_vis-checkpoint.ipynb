{
 "cells": [
  {
   "cell_type": "markdown",
   "id": "initial-cambridge",
   "metadata": {},
   "source": [
    "<font color=red size=4>**占用内存**</font>"
   ]
  },
  {
   "cell_type": "code",
   "execution_count": null,
   "id": "numeric-round",
   "metadata": {},
   "outputs": [],
   "source": [
    "print('all_data占据内存约: {:.2f} MB'.format(train_click_0_df.memory_usage().sum()/ (1024**2)))"
   ]
  }
 ],
 "metadata": {
  "kernelspec": {
   "display_name": "Python 3",
   "language": "python",
   "name": "python3"
  },
  "language_info": {
   "codemirror_mode": {
    "name": "ipython",
    "version": 3
   },
   "file_extension": ".py",
   "mimetype": "text/x-python",
   "name": "python",
   "nbconvert_exporter": "python",
   "pygments_lexer": "ipython3",
   "version": "3.8.5"
  }
 },
 "nbformat": 4,
 "nbformat_minor": 5
}
