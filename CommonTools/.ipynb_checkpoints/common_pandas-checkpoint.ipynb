{
 "cells": [
  {
   "cell_type": "markdown",
   "id": "universal-hunger",
   "metadata": {},
   "source": [
    "<font color=red size=4>**改变类型-列重命名**</font>"
   ]
  },
  {
   "cell_type": "code",
   "execution_count": null,
   "id": "spiritual-volleyball",
   "metadata": {},
   "outputs": [],
   "source": [
    "# 1. 重命名1\n",
    "df.rename(columns={'article_id': 'click_article_id'})"
   ]
  },
  {
   "cell_type": "markdown",
   "id": "motivated-seeking",
   "metadata": {},
   "source": [
    "<font color=red size=4>**占用内存**</font>"
   ]
  },
  {
   "cell_type": "code",
   "execution_count": null,
   "id": "bibliographic-marriage",
   "metadata": {},
   "outputs": [],
   "source": [
    "print('all_data占据内存约: {:.2f} MB'.format(dataframe.memory_usage().sum()/ (1024**2)))"
   ]
  },
  {
   "cell_type": "code",
   "execution_count": null,
   "id": "parallel-gothic",
   "metadata": {},
   "outputs": [],
   "source": [
    "<font color=red size=4>**聚类**</font>"
   ]
  },
  {
   "cell_type": "code",
   "execution_count": null,
   "id": "shaped-leave",
   "metadata": {},
   "outputs": [],
   "source": []
  }
 ],
 "metadata": {
  "kernelspec": {
   "display_name": "Python 3",
   "language": "python",
   "name": "python3"
  },
  "language_info": {
   "codemirror_mode": {
    "name": "ipython",
    "version": 3
   },
   "file_extension": ".py",
   "mimetype": "text/x-python",
   "name": "python",
   "nbconvert_exporter": "python",
   "pygments_lexer": "ipython3",
   "version": "3.8.5"
  }
 },
 "nbformat": 4,
 "nbformat_minor": 5
}
