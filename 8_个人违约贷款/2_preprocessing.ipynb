{
 "cells": [
  {
   "cell_type": "code",
   "execution_count": 125,
   "metadata": {},
   "outputs": [],
   "source": [
    "import pandas as pd\n",
    "\n",
    "data_dir = 'C:/ZhangLI/Codes/DataSet/个人违贷/official_data/'\n",
    "data_dir = 'E:/Dataset/个人违贷/official_data/'\n",
    "train_pub = pd.read_csv(data_dir+'train_public.csv')\n",
    "train_net = pd.read_csv(data_dir+'train_internet.csv')\n",
    "test_pub = pd.read_csv(data_dir+'test_public.csv')"
   ]
  },
  {
   "cell_type": "code",
   "execution_count": 128,
   "metadata": {
    "tags": []
   },
   "outputs": [
    {
     "name": "stdout",
     "output_type": "stream",
     "text": [
      "Train dataset has 10000 rows and 39 columns.\n",
      "Test dataset has 5000 rows and 40 columns.\n",
      "There are 7 columns in train dataset with missing values.\n",
      "The train missing column: ['work_year', 'pub_dero_bankrup', 'f0', 'f1', 'f2', 'f3', 'f4'].\n",
      "There are 6 columns in test dataset with missing values.\n",
      "The test missing column: ['pub_dero_bankrup', 'f0', 'f1', 'f2', 'f3', 'f4'].\n",
      "There are 1 columns in train dataset with one unique value.\n",
      "['policy_code'] of unique values in the train set\n",
      "There are 2 columns in test dataset with one unique value.\n",
      "['policy_code', 'issue_date_d'] of unique values in the test set\n",
      "There are 0 columns in train dataset with [na value > 0.9].\n",
      "There are 0 columns in test dataset with [na value > 0.9].\n",
      "\n"
     ]
    }
   ],
   "source": [
    "# 查看数据维度\n",
    "def describe_data(train, test):\n",
    "    print(f'Train dataset has {train.shape[0]} rows and {train.shape[1]} columns.')\n",
    "    print(f'Test dataset has {test.shape[0]} rows and {test.shape[1]} columns.')\n",
    "    # 查看哪些列具有缺失值\n",
    "    print(f'There are {train.isnull().any().sum()} columns in train dataset with missing values.')\n",
    "    print(f'The train missing column: {train.columns[train.isna().any()].tolist()}.')\n",
    "    print(f'There are {test.isnull().any().sum()} columns in test dataset with missing values.')\n",
    "    print(f'The test missing column: {test.columns[test.isna().any()].tolist()}.')\n",
    "    # 查看数据值唯一的列\n",
    "    one_value_cols = []\n",
    "    one_value_cols += [col for col in train.columns if train[col].nunique() <= 1]\n",
    "    one_value_cols_test = [col for col in test.columns if test[col].nunique() <= 1]\n",
    "    print(f'There are {len(one_value_cols)} columns in train dataset with one unique value.')\n",
    "    print(f'{one_value_cols} of unique values in the train set')\n",
    "    print(f'There are {len(one_value_cols_test)} columns in test dataset with one unique value.')\n",
    "    print(f'{one_value_cols_test} of unique values in the test set')\n",
    "    # 查看数据缺失值情况\n",
    "    nan_clos = [col for col in train.columns if train[col].isna().sum() / train.shape[0] > 0.90]\n",
    "    print(f'There are {len(nan_clos)} columns in train dataset with [na value > 0.9].')\n",
    "    nan_clos_test = [col for col in test.columns if test[col].isna().sum() / test.shape[0] > 0.90]\n",
    "    print(f'There are {len(nan_clos_test)} columns in test dataset with [na value > 0.9].')\n",
    "    \n",
    "    return one_value_cols + nan_clos\n",
    "    \n",
    "describe_data(train_pub, test_pub)\n",
    "# describe_data(train_net, train_net)\n",
    "\n",
    "\n",
    "# 查看数据类型\n",
    "# print('The train dtype:')\n",
    "# origin_train.dtypes\n",
    "# # 查看缺失值并排序\n",
    "train_net.isna().sum().sort_values(ascending=False)\n",
    "# # 删除缺失值大于95%\n",
    "# origin_train.columns[(origin_train.isna().sum() / origin_train.shape[0])>0.89]\n",
    "# 查看特征类型 and 判断类别型\n",
    "# train_net.nunique().sort_values()\n",
    "print('')"
   ]
  },
  {
   "cell_type": "markdown",
   "metadata": {},
   "source": [
    "1. 处理完特征后，不连接 internet的数据，使用1w进行训练\n"
   ]
  },
  {
   "cell_type": "code",
   "execution_count": 84,
   "metadata": {},
   "outputs": [],
   "source": [
    "train_pub['policy_code'].value_counts()\n",
    "# 1. common_feature  数据分布是否相似\n",
    "# 2. 特征处理\n",
    "# 3. 训练集 和 测试集 的数据分布这个很重要的\n",
    "# 4. 每个特征的类型，minmax scalar\n",
    "# 5. pub 和 net 的 不同特征数据分布\n",
    "# -------pub[known_dero, known_outstanding_loan, app_type]   \n",
    "train_net['isDefault'] = train_net['is_default']\n",
    "common_feature = list(set(train_pub.columns).intersection(set(train_net.columns)))\n",
    "train_pub_new = train_pub[common_feature]\n",
    "train_net_new = train_net[common_feature]\n",
    "def get_feature_type(dataframe):\n",
    "    col_type = {}\n",
    "    for type_c in set(dataframe.dtypes.tolist()):\n",
    "        col_type[str(type_c)] = []\n",
    "    for col in dataframe.columns:\n",
    "        col_type[str(dataframe[col].dtypes)] += [col]\n",
    "    return col_type"
   ]
  },
  {
   "cell_type": "code",
   "execution_count": 122,
   "metadata": {},
   "outputs": [
    {
     "data": {
      "text/plain": [
       "375"
      ]
     },
     "execution_count": 122,
     "metadata": {},
     "output_type": "execute_result"
    }
   ],
   "source": [
    "# plot the feature kde\n",
    "import matplotlib.pyplot as plt\n",
    "import seaborn as sns\n",
    "def plot_feature_kde(train_data, test_data, features=[]):\n",
    "    \"\"\"连续变量\"\"\"\n",
    "    plt.clf()\n",
    "    fcols = 4\n",
    "    frows = len(features)\n",
    "    plt.figure(figsize=(6*fcols, frows*1.5))\n",
    "    i = 0\n",
    "    for col in features:\n",
    "        i += 1\n",
    "        plt.subplot(frows//fcols+1, fcols, i)\n",
    "        sns.kdeplot(train_data[col], color=\"Blue\", shade=True, label='Train')\n",
    "        sns.kdeplot(test_data[col], color=\"Red\", shade=True, label='Test')\n",
    "    plt.show()\n",
    "feature_type = get_feature_type(train_pub)\n",
    "# cols = feature_type.keys()\n",
    "# recircle_u  train/test \n",
    "# drop ['user_id', 'loan_id'] earnly_return ?  'scoring_low', 'scoring_high', 'f1', 'early_return_amount_3mon' 这个应该怎么分析\n",
    "# object ?\n",
    "feature_type['int64'].remove('known_outstanding_loan')\n",
    "feature_type['int64'].remove('known_dero')\n",
    "feature_type['int64'].remove('app_type')\n",
    "# plot_feature_kde(train_pub, test_pub, ['recircle_u', 'known_dero'])\n",
    "train_net.scoring_low.value_counts(ascending=True)\n",
    "# test_pub.known_dero.value_counts(ascending=True)\n",
    "train_pub[['class','employer_type','industry','work_year','issue_date','earlies_credit_mon']]\n",
    "train_pub['employer_type'].unique()\n",
    "train_net['pub_dero_bankrup'].isna().sum()\n",
    "# train_pub['work_year'].isna().sum()"
   ]
  },
  {
   "cell_type": "code",
   "execution_count": null,
   "metadata": {},
   "outputs": [],
   "source": [
    "# 1. work_year 的数据填充不能这么随意\n",
    "# ---------------------------------- pub_dero_bankrup 填充众数\n",
    "# 2. 其他缺失值的填充\n",
    "# 3. 不将 pub 和 net 连接起来，查看效果\n",
    "# ---------------------------------- 85%\n",
    "# 4. 连接起来的话，需要对数据进行更加细致的分析\n",
    "# 5. 衍生其他的特征"
   ]
  },
  {
   "cell_type": "code",
   "execution_count": 151,
   "metadata": {},
   "outputs": [
    {
     "name": "stdout",
     "output_type": "stream",
     "text": [
      "Index(['金融业', '电力、热力生产供应业', '公共服务、社会组织', '住宿和餐饮业', '信息传输、软件和信息技术服务业', '文化和体育业',\n",
      "       '建筑业', '房地产业', '采矿业', '交通运输、仓储和邮政业', '农、林、牧、渔业', '制造业', '批发和零售业',\n",
      "       '国际组织'],\n",
      "      dtype='object')\n"
     ]
    },
    {
     "data": {
      "text/plain": [
       "0        1-Dec\n",
       "1       Apr-90\n",
       "2       Oct-91\n",
       "3        1-Jun\n",
       "4        2-May\n",
       "         ...  \n",
       "9995     6-Feb\n",
       "9996    May-97\n",
       "9997    Feb-87\n",
       "9998    Oct-92\n",
       "9999     9-Feb\n",
       "Name: earlies_credit_mon, Length: 10000, dtype: object"
      ]
     },
     "execution_count": 151,
     "metadata": {},
     "output_type": "execute_result"
    }
   ],
   "source": [
    "employer_type = train_pub['employer_type'].value_counts().index\n",
    "dict(zip(employer_type, [0,1,2,3,4,5]))\n",
    "industry = train_pub['industry'].value_counts().index\n",
    "print(industry)\n",
    "dict(zip(industry, [i for i in range(15)]))\n",
    "train_pub['earlies_credit_mon']"
   ]
  },
  {
   "cell_type": "code",
   "execution_count": 153,
   "metadata": {},
   "outputs": [
    {
     "name": "stdout",
     "output_type": "stream",
     "text": [
      "[LightGBM] [Warning] Unknown parameter: silent\n",
      "Training until validation scores don't improve for 500 rounds\n",
      "[100]\tvalid_0's auc: 0.881554\n",
      "[200]\tvalid_0's auc: 0.886766\n",
      "[300]\tvalid_0's auc: 0.885686\n",
      "[400]\tvalid_0's auc: 0.885665\n",
      "[500]\tvalid_0's auc: 0.884931\n",
      "[600]\tvalid_0's auc: 0.884942\n",
      "Early stopping, best iteration is:\n",
      "[168]\tvalid_0's auc: 0.887036\n"
     ]
    },
    {
     "data": {
      "image/png": "[encoded data removed]",
      "text/plain": [
       "<Figure size 432x288 with 1 Axes>"
      ]
     },
     "metadata": {
      "needs_background": "light"
     },
     "output_type": "display_data"
    },
    {
     "ename": "KeyError",
     "evalue": "'issue_date'",
     "output_type": "error",
     "traceback": [
      "\u001b[1;31m---------------------------------------------------------------------------\u001b[0m",
      "\u001b[1;31mKeyError\u001b[0m                                  Traceback (most recent call last)",
      "\u001b[1;32md:\\installsoftware\\python365\\lib\\site-packages\\pandas\\core\\indexes\\base.py\u001b[0m in \u001b[0;36mget_loc\u001b[1;34m(self, key, method, tolerance)\u001b[0m\n\u001b[0;32m   2645\u001b[0m             \u001b[1;32mtry\u001b[0m\u001b[1;33m:\u001b[0m\u001b[1;33m\u001b[0m\u001b[0m\n\u001b[1;32m-> 2646\u001b[1;33m                 \u001b[1;32mreturn\u001b[0m \u001b[0mself\u001b[0m\u001b[1;33m.\u001b[0m\u001b[0m_engine\u001b[0m\u001b[1;33m.\u001b[0m\u001b[0mget_loc\u001b[0m\u001b[1;33m(\u001b[0m\u001b[0mkey\u001b[0m\u001b[1;33m)\u001b[0m\u001b[1;33m\u001b[0m\u001b[0m\n\u001b[0m\u001b[0;32m   2647\u001b[0m             \u001b[1;32mexcept\u001b[0m \u001b[0mKeyError\u001b[0m\u001b[1;33m:\u001b[0m\u001b[1;33m\u001b[0m\u001b[0m\n",
      "\u001b[1;32mpandas\\_libs\\index.pyx\u001b[0m in \u001b[0;36mpandas._libs.index.IndexEngine.get_loc\u001b[1;34m()\u001b[0m\n",
      "\u001b[1;32mpandas\\_libs\\index.pyx\u001b[0m in \u001b[0;36mpandas._libs.index.IndexEngine.get_loc\u001b[1;34m()\u001b[0m\n",
      "\u001b[1;32mpandas\\_libs\\hashtable_class_helper.pxi\u001b[0m in \u001b[0;36mpandas._libs.hashtable.PyObjectHashTable.get_item\u001b[1;34m()\u001b[0m\n",
      "\u001b[1;32mpandas\\_libs\\hashtable_class_helper.pxi\u001b[0m in \u001b[0;36mpandas._libs.hashtable.PyObjectHashTable.get_item\u001b[1;34m()\u001b[0m\n",
      "\u001b[1;31mKeyError\u001b[0m: 'issue_date'",
      "\nDuring handling of the above exception, another exception occurred:\n",
      "\u001b[1;31mKeyError\u001b[0m                                  Traceback (most recent call last)",
      "\u001b[1;32m<ipython-input-153-e0afdd09067f>\u001b[0m in \u001b[0;36m<module>\u001b[1;34m\u001b[0m\n\u001b[0;32m     86\u001b[0m \u001b[0mcommon_feature\u001b[0m\u001b[1;33m.\u001b[0m\u001b[0mremove\u001b[0m\u001b[1;33m(\u001b[0m\u001b[1;34m'isDefault'\u001b[0m\u001b[1;33m)\u001b[0m\u001b[1;33m\u001b[0m\u001b[0m\n\u001b[0;32m     87\u001b[0m \u001b[0mtest_pub_new\u001b[0m \u001b[1;33m=\u001b[0m \u001b[0mtest_pub\u001b[0m\u001b[1;33m\u001b[0m\u001b[0m\n\u001b[1;32m---> 88\u001b[1;33m \u001b[0mtest_df_new\u001b[0m \u001b[1;33m=\u001b[0m \u001b[0mpreprocessor\u001b[0m\u001b[1;33m(\u001b[0m\u001b[0mtest_pub_new\u001b[0m\u001b[1;33m)\u001b[0m\u001b[1;33m\u001b[0m\u001b[0m\n\u001b[0m\u001b[0;32m     89\u001b[0m \u001b[0mpredict\u001b[0m \u001b[1;33m=\u001b[0m \u001b[0mmodel\u001b[0m\u001b[1;33m.\u001b[0m\u001b[0mpredict\u001b[0m\u001b[1;33m(\u001b[0m\u001b[0mtest_df_new\u001b[0m\u001b[1;33m,\u001b[0m \u001b[0mnum_iteration\u001b[0m\u001b[1;33m=\u001b[0m\u001b[0mmodel\u001b[0m\u001b[1;33m.\u001b[0m\u001b[0mbest_iteration\u001b[0m\u001b[1;33m)\u001b[0m\u001b[1;33m\u001b[0m\u001b[0m\n\u001b[0;32m     90\u001b[0m \u001b[1;31m# 生成结果\u001b[0m\u001b[1;33m\u001b[0m\u001b[1;33m\u001b[0m\u001b[0m\n",
      "\u001b[1;32m<ipython-input-153-e0afdd09067f>\u001b[0m in \u001b[0;36mpreprocessor\u001b[1;34m(dataframe)\u001b[0m\n\u001b[0;32m      1\u001b[0m \u001b[1;32mimport\u001b[0m \u001b[0mdatetime\u001b[0m\u001b[1;33m\u001b[0m\u001b[0m\n\u001b[0;32m      2\u001b[0m \u001b[1;32mdef\u001b[0m \u001b[0mpreprocessor\u001b[0m\u001b[1;33m(\u001b[0m\u001b[0mdataframe\u001b[0m\u001b[1;33m)\u001b[0m\u001b[1;33m:\u001b[0m\u001b[1;33m\u001b[0m\u001b[0m\n\u001b[1;32m----> 3\u001b[1;33m     \u001b[0mdataframe\u001b[0m\u001b[1;33m[\u001b[0m\u001b[1;34m'issue_date'\u001b[0m\u001b[1;33m]\u001b[0m \u001b[1;33m=\u001b[0m \u001b[0mpd\u001b[0m\u001b[1;33m.\u001b[0m\u001b[0mto_datetime\u001b[0m\u001b[1;33m(\u001b[0m\u001b[0mdataframe\u001b[0m\u001b[1;33m[\u001b[0m\u001b[1;34m'issue_date'\u001b[0m\u001b[1;33m]\u001b[0m\u001b[1;33m)\u001b[0m\u001b[1;33m\u001b[0m\u001b[0m\n\u001b[0m\u001b[0;32m      4\u001b[0m     \u001b[0mdataframe\u001b[0m\u001b[1;33m[\u001b[0m\u001b[1;34m'issue_date_y'\u001b[0m\u001b[1;33m]\u001b[0m \u001b[1;33m=\u001b[0m \u001b[0mdataframe\u001b[0m\u001b[1;33m[\u001b[0m\u001b[1;34m'issue_date'\u001b[0m\u001b[1;33m]\u001b[0m\u001b[1;33m.\u001b[0m\u001b[0mdt\u001b[0m\u001b[1;33m.\u001b[0m\u001b[0myear\u001b[0m\u001b[1;33m\u001b[0m\u001b[0m\n\u001b[0;32m      5\u001b[0m     \u001b[0mdataframe\u001b[0m\u001b[1;33m[\u001b[0m\u001b[1;34m'issue_date_m'\u001b[0m\u001b[1;33m]\u001b[0m \u001b[1;33m=\u001b[0m \u001b[0mdataframe\u001b[0m\u001b[1;33m[\u001b[0m\u001b[1;34m'issue_date'\u001b[0m\u001b[1;33m]\u001b[0m\u001b[1;33m.\u001b[0m\u001b[0mdt\u001b[0m\u001b[1;33m.\u001b[0m\u001b[0mmonth\u001b[0m\u001b[1;33m\u001b[0m\u001b[0m\n",
      "\u001b[1;32md:\\installsoftware\\python365\\lib\\site-packages\\pandas\\core\\frame.py\u001b[0m in \u001b[0;36m__getitem__\u001b[1;34m(self, key)\u001b[0m\n\u001b[0;32m   2798\u001b[0m             \u001b[1;32mif\u001b[0m \u001b[0mself\u001b[0m\u001b[1;33m.\u001b[0m\u001b[0mcolumns\u001b[0m\u001b[1;33m.\u001b[0m\u001b[0mnlevels\u001b[0m \u001b[1;33m>\u001b[0m \u001b[1;36m1\u001b[0m\u001b[1;33m:\u001b[0m\u001b[1;33m\u001b[0m\u001b[0m\n\u001b[0;32m   2799\u001b[0m                 \u001b[1;32mreturn\u001b[0m \u001b[0mself\u001b[0m\u001b[1;33m.\u001b[0m\u001b[0m_getitem_multilevel\u001b[0m\u001b[1;33m(\u001b[0m\u001b[0mkey\u001b[0m\u001b[1;33m)\u001b[0m\u001b[1;33m\u001b[0m\u001b[0m\n\u001b[1;32m-> 2800\u001b[1;33m             \u001b[0mindexer\u001b[0m \u001b[1;33m=\u001b[0m \u001b[0mself\u001b[0m\u001b[1;33m.\u001b[0m\u001b[0mcolumns\u001b[0m\u001b[1;33m.\u001b[0m\u001b[0mget_loc\u001b[0m\u001b[1;33m(\u001b[0m\u001b[0mkey\u001b[0m\u001b[1;33m)\u001b[0m\u001b[1;33m\u001b[0m\u001b[0m\n\u001b[0m\u001b[0;32m   2801\u001b[0m             \u001b[1;32mif\u001b[0m \u001b[0mis_integer\u001b[0m\u001b[1;33m(\u001b[0m\u001b[0mindexer\u001b[0m\u001b[1;33m)\u001b[0m\u001b[1;33m:\u001b[0m\u001b[1;33m\u001b[0m\u001b[0m\n\u001b[0;32m   2802\u001b[0m                 \u001b[0mindexer\u001b[0m \u001b[1;33m=\u001b[0m \u001b[1;33m[\u001b[0m\u001b[0mindexer\u001b[0m\u001b[1;33m]\u001b[0m\u001b[1;33m\u001b[0m\u001b[0m\n",
      "\u001b[1;32md:\\installsoftware\\python365\\lib\\site-packages\\pandas\\core\\indexes\\base.py\u001b[0m in \u001b[0;36mget_loc\u001b[1;34m(self, key, method, tolerance)\u001b[0m\n\u001b[0;32m   2646\u001b[0m                 \u001b[1;32mreturn\u001b[0m \u001b[0mself\u001b[0m\u001b[1;33m.\u001b[0m\u001b[0m_engine\u001b[0m\u001b[1;33m.\u001b[0m\u001b[0mget_loc\u001b[0m\u001b[1;33m(\u001b[0m\u001b[0mkey\u001b[0m\u001b[1;33m)\u001b[0m\u001b[1;33m\u001b[0m\u001b[0m\n\u001b[0;32m   2647\u001b[0m             \u001b[1;32mexcept\u001b[0m \u001b[0mKeyError\u001b[0m\u001b[1;33m:\u001b[0m\u001b[1;33m\u001b[0m\u001b[0m\n\u001b[1;32m-> 2648\u001b[1;33m                 \u001b[1;32mreturn\u001b[0m \u001b[0mself\u001b[0m\u001b[1;33m.\u001b[0m\u001b[0m_engine\u001b[0m\u001b[1;33m.\u001b[0m\u001b[0mget_loc\u001b[0m\u001b[1;33m(\u001b[0m\u001b[0mself\u001b[0m\u001b[1;33m.\u001b[0m\u001b[0m_maybe_cast_indexer\u001b[0m\u001b[1;33m(\u001b[0m\u001b[0mkey\u001b[0m\u001b[1;33m)\u001b[0m\u001b[1;33m)\u001b[0m\u001b[1;33m\u001b[0m\u001b[0m\n\u001b[0m\u001b[0;32m   2649\u001b[0m         \u001b[0mindexer\u001b[0m \u001b[1;33m=\u001b[0m \u001b[0mself\u001b[0m\u001b[1;33m.\u001b[0m\u001b[0mget_indexer\u001b[0m\u001b[1;33m(\u001b[0m\u001b[1;33m[\u001b[0m\u001b[0mkey\u001b[0m\u001b[1;33m]\u001b[0m\u001b[1;33m,\u001b[0m \u001b[0mmethod\u001b[0m\u001b[1;33m=\u001b[0m\u001b[0mmethod\u001b[0m\u001b[1;33m,\u001b[0m \u001b[0mtolerance\u001b[0m\u001b[1;33m=\u001b[0m\u001b[0mtolerance\u001b[0m\u001b[1;33m)\u001b[0m\u001b[1;33m\u001b[0m\u001b[0m\n\u001b[0;32m   2650\u001b[0m         \u001b[1;32mif\u001b[0m \u001b[0mindexer\u001b[0m\u001b[1;33m.\u001b[0m\u001b[0mndim\u001b[0m \u001b[1;33m>\u001b[0m \u001b[1;36m1\u001b[0m \u001b[1;32mor\u001b[0m \u001b[0mindexer\u001b[0m\u001b[1;33m.\u001b[0m\u001b[0msize\u001b[0m \u001b[1;33m>\u001b[0m \u001b[1;36m1\u001b[0m\u001b[1;33m:\u001b[0m\u001b[1;33m\u001b[0m\u001b[0m\n",
      "\u001b[1;32mpandas\\_libs\\index.pyx\u001b[0m in \u001b[0;36mpandas._libs.index.IndexEngine.get_loc\u001b[1;34m()\u001b[0m\n",
      "\u001b[1;32mpandas\\_libs\\index.pyx\u001b[0m in \u001b[0;36mpandas._libs.index.IndexEngine.get_loc\u001b[1;34m()\u001b[0m\n",
      "\u001b[1;32mpandas\\_libs\\hashtable_class_helper.pxi\u001b[0m in \u001b[0;36mpandas._libs.hashtable.PyObjectHashTable.get_item\u001b[1;34m()\u001b[0m\n",
      "\u001b[1;32mpandas\\_libs\\hashtable_class_helper.pxi\u001b[0m in \u001b[0;36mpandas._libs.hashtable.PyObjectHashTable.get_item\u001b[1;34m()\u001b[0m\n",
      "\u001b[1;31mKeyError\u001b[0m: 'issue_date'"
     ]
    }
   ],
   "source": [
    "import datetime\n",
    "def preprocessor(dataframe):\n",
    "    dataframe['issue_date'] = pd.to_datetime(dataframe['issue_date'])\n",
    "    dataframe['issue_date_y'] = dataframe['issue_date'].dt.year\n",
    "    dataframe['issue_date_m'] = dataframe['issue_date'].dt.month\n",
    "#     dataframe['issue_date_d'] = dataframe['issue_date'].dt.day  # unique value \n",
    "    \n",
    "    # dataframe['earlies_credit_y'] = dataframe['earlies_credit_mon'].split('-')[1]\n",
    "    dataframe.drop('earlies_credit_mon', axis = 1, inplace = True)\n",
    "    # dataframe['earlies_credit_y'] = dataframe['earlies_credit_mon'].split('-')[0].map()\n",
    "    # set origin date\n",
    "    # get the diff bewteen now and origin-date\n",
    "    origin_date = datetime.datetime.strptime('2007-06-01', '%Y-%m-%d')\n",
    "    dataframe['issue_date_diff'] = dataframe['issue_date'].apply(lambda x: x-origin_date).dt.days\n",
    "    dataframe.drop('issue_date', axis = 1, inplace = True)\n",
    "    # 就业类型\n",
    "    employer_type = dataframe['employer_type'].value_counts().index\n",
    "    industry = dataframe['industry'].value_counts().index\n",
    "    # dict()\n",
    "    emp_type_dict = dict(zip(employer_type, [0,1,2,3,4,5]))\n",
    "    industry_dict = dict(zip(industry, [i for i in range(15)]))\n",
    "    # \n",
    "    dataframe['work_year'].fillna('10+ years', inplace=True)\n",
    "\n",
    "    work_year_map = {'10+ years': 10, '2 years': 2, '< 1 year': 0, '3 years': 3, '1 year': 1,\n",
    "         '5 years': 5, '4 years': 4, '6 years': 6, '8 years': 8, '7 years': 7, '9 years': 9}\n",
    "    dataframe['work_year']  = dataframe['work_year'].map(work_year_map)\n",
    "\n",
    "    dataframe['class'] = dataframe['class'].map({'A': 0, 'B': 1, 'C': 2, 'D': 3, 'E': 4, 'F': 5, 'G': 6})\n",
    "\n",
    "    emp_type_dict = {'政府机构': 1, '幼教与中小学校': 2, '高等教育机构': 3, '世界五百强': 4, '上市企业': 5, '普通企业': 6}\n",
    "    dataframe['employer_type'] = dataframe['employer_type'].map(emp_type_dict)\n",
    "\n",
    "    dataframe['industry'] = dataframe['industry'].map(industry_dict)\n",
    "    return dataframe\n",
    "\n",
    "# 数据处理\n",
    "train_net['isDefault'] = train_net['is_default']\n",
    "common_feature = list(set(train_pub.columns).intersection(set(train_net.columns)))\n",
    "import copy\n",
    "train_pub_new = copy.deepcopy(train_pub)\n",
    "# train_df = pd.concat([train_pub_new, train_net_new])\n",
    "# 特征处理\n",
    "train_df_new = preprocessor(train_pub_new)\n",
    "# 模型训练\n",
    "X_train = train_df_new.drop('isDefault', axis=1)\n",
    "y_train = train_df_new['isDefault']\n",
    "from sklearn.model_selection import train_test_split\n",
    "train_x, val_x, train_y, val_y = train_test_split(X_train, y_train, test_size=0.2)\n",
    "\n",
    "import lightgbm as lgb\n",
    "train_matrix = lgb.Dataset(train_x, label=train_y)\n",
    "valid_matrix = lgb.Dataset(val_x, label=val_y)\n",
    "params = {\n",
    "    'boosting_type': 'gbdt',\n",
    "            'objective': 'binary',\n",
    "            'learning_rate': 0.01,\n",
    "            'metric': 'auc',\n",
    "            'min_child_weight': 1e-3,\n",
    "            'num_leaves': 50,\n",
    "            'max_depth': -1,\n",
    "            'reg_lambda': 0,\n",
    "            'reg_alpha': 0,\n",
    "            'feature_fraction': 1,\n",
    "            'bagging_fraction': 1,\n",
    "            'bagging_freq': 0,\n",
    "            'seed': 2020,\n",
    "            'nthread': 8,\n",
    "            'silent': True,\n",
    "            'verbose': -1,\n",
    "}\n",
    "\n",
    "model = lgb.train(params, train_set=train_matrix, valid_sets=valid_matrix, num_boost_round=2000, verbose_eval=100, early_stopping_rounds=500)\n",
    "\n",
    "from sklearn import metrics\n",
    "from sklearn.metrics import roc_auc_score\n",
    "\n",
    "val_pred_lgb = model.predict(val_x, num_iteration=model.best_iteration)\n",
    "fpr, tpr, threshold = metrics.roc_curve(val_y, val_pred_lgb)\n",
    "roc_auc = metrics.auc(fpr, tpr)\n",
    "import matplotlib.pyplot as plt\n",
    "plt.plot(fpr, tpr, 'b', label = 'Val AUC = %0.4f' % roc_auc)\n",
    "plt.plot([0, 1], [0,1], 'r--')\n",
    "plt.show()\n",
    "# 模型预测\n",
    "common_feature.remove('isDefault')\n",
    "test_pub_new = test_pub\n",
    "test_df_new = preprocessor(test_pub_new)\n",
    "predict = model.predict(test_df_new, num_iteration=model.best_iteration)\n",
    "# 生成结果\n",
    "submission = pd.DataFrame({'id':test_pub_new['loan_id'], 'isDefault':predict})\n",
    "submission.to_csv('submission.csv', index = None)"
   ]
  },
  {
   "cell_type": "code",
   "execution_count": 127,
   "metadata": {},
   "outputs": [
    {
     "data": {
      "text/html": [
       "<div>\n",
       "<style scoped>\n",
       "    .dataframe tbody tr th:only-of-type {\n",
       "        vertical-align: middle;\n",
       "    }\n",
       "\n",
       "    .dataframe tbody tr th {\n",
       "        vertical-align: top;\n",
       "    }\n",
       "\n",
       "    .dataframe thead th {\n",
       "        text-align: right;\n",
       "    }\n",
       "</style>\n",
       "<table border=\"1\" class=\"dataframe\">\n",
       "  <thead>\n",
       "    <tr style=\"text-align: right;\">\n",
       "      <th></th>\n",
       "      <th>id</th>\n",
       "      <th>isDefault</th>\n",
       "    </tr>\n",
       "  </thead>\n",
       "  <tbody>\n",
       "    <tr>\n",
       "      <th>0</th>\n",
       "      <td>1000575</td>\n",
       "      <td>0.029621</td>\n",
       "    </tr>\n",
       "    <tr>\n",
       "      <th>1</th>\n",
       "      <td>1028125</td>\n",
       "      <td>0.087225</td>\n",
       "    </tr>\n",
       "    <tr>\n",
       "      <th>2</th>\n",
       "      <td>1010694</td>\n",
       "      <td>0.029253</td>\n",
       "    </tr>\n",
       "    <tr>\n",
       "      <th>3</th>\n",
       "      <td>1026712</td>\n",
       "      <td>0.029044</td>\n",
       "    </tr>\n",
       "    <tr>\n",
       "      <th>4</th>\n",
       "      <td>1002895</td>\n",
       "      <td>0.034675</td>\n",
       "    </tr>\n",
       "    <tr>\n",
       "      <th>...</th>\n",
       "      <td>...</td>\n",
       "      <td>...</td>\n",
       "    </tr>\n",
       "    <tr>\n",
       "      <th>4995</th>\n",
       "      <td>1008856</td>\n",
       "      <td>0.392261</td>\n",
       "    </tr>\n",
       "    <tr>\n",
       "      <th>4996</th>\n",
       "      <td>1016651</td>\n",
       "      <td>0.029621</td>\n",
       "    </tr>\n",
       "    <tr>\n",
       "      <th>4997</th>\n",
       "      <td>1024140</td>\n",
       "      <td>0.033795</td>\n",
       "    </tr>\n",
       "    <tr>\n",
       "      <th>4998</th>\n",
       "      <td>1014316</td>\n",
       "      <td>0.029621</td>\n",
       "    </tr>\n",
       "    <tr>\n",
       "      <th>4999</th>\n",
       "      <td>1012946</td>\n",
       "      <td>0.029044</td>\n",
       "    </tr>\n",
       "  </tbody>\n",
       "</table>\n",
       "<p>5000 rows × 2 columns</p>\n",
       "</div>"
      ],
      "text/plain": [
       "           id  isDefault\n",
       "0     1000575   0.029621\n",
       "1     1028125   0.087225\n",
       "2     1010694   0.029253\n",
       "3     1026712   0.029044\n",
       "4     1002895   0.034675\n",
       "...       ...        ...\n",
       "4995  1008856   0.392261\n",
       "4996  1016651   0.029621\n",
       "4997  1024140   0.033795\n",
       "4998  1014316   0.029621\n",
       "4999  1012946   0.029044\n",
       "\n",
       "[5000 rows x 2 columns]"
      ]
     },
     "execution_count": 127,
     "metadata": {},
     "output_type": "execute_result"
    }
   ],
   "source": [
    "pd.read_csv('submission.csv')"
   ]
  }
 ],
 "metadata": {
  "kernelspec": {
   "display_name": "Python 3",
   "language": "python",
   "name": "python3"
  },
  "language_info": {
   "codemirror_mode": {
    "name": "ipython",
    "version": 3
   },
   "file_extension": ".py",
   "mimetype": "text/x-python",
   "name": "python",
   "nbconvert_exporter": "python",
   "pygments_lexer": "ipython3",
   "version": "3.6.5"
  }
 },
 "nbformat": 4,
 "nbformat_minor": 4
}
