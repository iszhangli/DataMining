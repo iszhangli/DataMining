{
 "cells": [
  {
   "cell_type": "code",
   "execution_count": null,
   "id": "molecular-academy",
   "metadata": {},
   "outputs": [],
   "source": [
    "# try lstm model\n",
    "# 尝试 1/10的数据"
   ]
  },
  {
   "cell_type": "code",
   "execution_count": 2,
   "id": "supreme-canada",
   "metadata": {},
   "outputs": [],
   "source": [
    "import pandas as pd\n",
    "import numpy as np\n",
    "pd.set_option('display.max_columns', 10)\n",
    "pd.set_option('display.max_rows', 10)\n",
    "import matplotlib.pyplot as plt\n",
    "import seaborn as sns\n",
    "import datetime as dt"
   ]
  },
  {
   "cell_type": "code",
   "execution_count": 7,
   "id": "solar-cooperative",
   "metadata": {},
   "outputs": [],
   "source": [
    "device = 'cpu'\n",
    "INPUT_DIR_PATH = 'C:/ZhangLI/Codes/DataSet/m5-forecasting-accuracy/'\n",
    "\n",
    "INPUT_DIR_PATH = 'E:/Dataset/m5-forecasting-accuracy/'"
   ]
  },
  {
   "cell_type": "code",
   "execution_count": 8,
   "id": "greek-newspaper",
   "metadata": {},
   "outputs": [
    {
     "name": "stdout",
     "output_type": "stream",
     "text": [
      "Mem. usage decreased to 130.48 Mb (37.5% reduction)\n",
      "Sell prices has 6841121 rows and 4 columns\n",
      "Mem. usage decreased to  0.12 Mb (41.9% reduction)\n",
      "Calendar has 1969 rows and 14 columns\n",
      "Sales train validation has 30490 rows and 1919 columns\n"
     ]
    }
   ],
   "source": [
    "def reduce_mem_usage(df, verbose=True):\n",
    "    numerics = ['int16', 'int32', 'int64', 'float16', 'float32', 'float64']\n",
    "    start_mem = df.memory_usage().sum() / 1024**2    \n",
    "    for col in df.columns:\n",
    "        col_type = df[col].dtypes\n",
    "        if col_type in numerics: \n",
    "            c_min = df[col].min()\n",
    "            c_max = df[col].max()\n",
    "            if str(col_type)[:3] == 'int':\n",
    "                if c_min > np.iinfo(np.int8).min and c_max < np.iinfo(np.int8).max:\n",
    "                    df[col] = df[col].astype(np.int8)\n",
    "                elif c_min > np.iinfo(np.int16).min and c_max < np.iinfo(np.int16).max:\n",
    "                    df[col] = df[col].astype(np.int16)\n",
    "                elif c_min > np.iinfo(np.int32).min and c_max < np.iinfo(np.int32).max:\n",
    "                    df[col] = df[col].astype(np.int32)\n",
    "                elif c_min > np.iinfo(np.int64).min and c_max < np.iinfo(np.int64).max:\n",
    "                    df[col] = df[col].astype(np.int64)  \n",
    "            else:\n",
    "                if c_min > np.finfo(np.float16).min and c_max < np.finfo(np.float16).max:\n",
    "                    df[col] = df[col].astype(np.float16)\n",
    "                elif c_min > np.finfo(np.float32).min and c_max < np.finfo(np.float32).max:\n",
    "                    df[col] = df[col].astype(np.float32)\n",
    "                else:\n",
    "                    df[col] = df[col].astype(np.float64)    \n",
    "    end_mem = df.memory_usage().sum() / 1024**2\n",
    "    if verbose: print('Mem. usage decreased to {:5.2f} Mb ({:.1f}% reduction)'.format(end_mem, 100 * (start_mem - end_mem) / start_mem))\n",
    "    return df\n",
    "def read_data():\n",
    "    sell_prices_df = pd.read_csv(INPUT_DIR_PATH + 'sell_prices.csv')\n",
    "    sell_prices_df = reduce_mem_usage(sell_prices_df)\n",
    "    print('Sell prices has {} rows and {} columns'.format(sell_prices_df.shape[0], sell_prices_df.shape[1]))\n",
    "\n",
    "    calendar_df = pd.read_csv(INPUT_DIR_PATH + 'calendar.csv')\n",
    "    calendar_df = reduce_mem_usage(calendar_df)\n",
    "    print('Calendar has {} rows and {} columns'.format(calendar_df.shape[0], calendar_df.shape[1]))\n",
    "\n",
    "    sales_train_validation_df = pd.read_csv(INPUT_DIR_PATH + 'sales_train_validation.csv')\n",
    "    print('Sales train validation has {} rows and {} columns'.format(sales_train_validation_df.shape[0], sales_train_validation_df.shape[1]))\n",
    "\n",
    "    submission_df = pd.read_csv(INPUT_DIR_PATH + 'sample_submission.csv')\n",
    "    return sell_prices_df, calendar_df, sales_train_validation_df, submission_df\n",
    "_,  calendar_df, sales_train_validation_df, _ = read_data()"
   ]
  },
  {
   "cell_type": "code",
   "execution_count": 9,
   "id": "medieval-seeker",
   "metadata": {},
   "outputs": [],
   "source": [
    "date_index = calendar_df['date']  # 所有的日期 1969  2011-01-29 - 2016-06-19 \n",
    "dates = date_index[0:1913]  # 2011-01-29 - 2016-04-24\n",
    "dates_list = [dt.datetime.strptime(date, '%Y-%m-%d').date() for date in dates]"
   ]
  },
  {
   "cell_type": "code",
   "execution_count": 18,
   "id": "encouraging-attention",
   "metadata": {
    "tags": []
   },
   "outputs": [],
   "source": [
    "# select one time series as an example\n",
    "sales_train_validation_df['item_store_id'] = \\\n",
    "sales_train_validation_df.apply(lambda x: x['item_id']+'_'+x['store_id'],axis=1)\n",
    "DF_Sales = sales_train_validation_df.loc[:,'d_1':'d_1913'].T\n",
    "DF_Sales.columns = sales_train_validation_df['item_store_id'].values"
   ]
  },
  {
   "cell_type": "code",
   "execution_count": 19,
   "id": "69b0bc20-c620-4309-8a9e-23534a67977e",
   "metadata": {},
   "outputs": [
    {
     "data": {
      "text/html": [
       "<div>\n",
       "<style scoped>\n",
       "    .dataframe tbody tr th:only-of-type {\n",
       "        vertical-align: middle;\n",
       "    }\n",
       "\n",
       "    .dataframe tbody tr th {\n",
       "        vertical-align: top;\n",
       "    }\n",
       "\n",
       "    .dataframe thead th {\n",
       "        text-align: right;\n",
       "    }\n",
       "</style>\n",
       "<table border=\"1\" class=\"dataframe\">\n",
       "  <thead>\n",
       "    <tr style=\"text-align: right;\">\n",
       "      <th></th>\n",
       "      <th>HOBBIES_1_001_CA_1</th>\n",
       "      <th>HOBBIES_1_002_CA_1</th>\n",
       "      <th>HOBBIES_1_003_CA_1</th>\n",
       "      <th>HOBBIES_1_004_CA_1</th>\n",
       "      <th>HOBBIES_1_005_CA_1</th>\n",
       "      <th>...</th>\n",
       "      <th>FOODS_3_823_WI_3</th>\n",
       "      <th>FOODS_3_824_WI_3</th>\n",
       "      <th>FOODS_3_825_WI_3</th>\n",
       "      <th>FOODS_3_826_WI_3</th>\n",
       "      <th>FOODS_3_827_WI_3</th>\n",
       "    </tr>\n",
       "  </thead>\n",
       "  <tbody>\n",
       "    <tr>\n",
       "      <th>2011-01-29</th>\n",
       "      <td>0</td>\n",
       "      <td>0</td>\n",
       "      <td>0</td>\n",
       "      <td>0</td>\n",
       "      <td>0</td>\n",
       "      <td>...</td>\n",
       "      <td>0</td>\n",
       "      <td>0</td>\n",
       "      <td>0</td>\n",
       "      <td>0</td>\n",
       "      <td>0</td>\n",
       "    </tr>\n",
       "    <tr>\n",
       "      <th>2011-01-30</th>\n",
       "      <td>0</td>\n",
       "      <td>0</td>\n",
       "      <td>0</td>\n",
       "      <td>0</td>\n",
       "      <td>0</td>\n",
       "      <td>...</td>\n",
       "      <td>0</td>\n",
       "      <td>0</td>\n",
       "      <td>6</td>\n",
       "      <td>0</td>\n",
       "      <td>0</td>\n",
       "    </tr>\n",
       "    <tr>\n",
       "      <th>2011-01-31</th>\n",
       "      <td>0</td>\n",
       "      <td>0</td>\n",
       "      <td>0</td>\n",
       "      <td>0</td>\n",
       "      <td>0</td>\n",
       "      <td>...</td>\n",
       "      <td>2</td>\n",
       "      <td>0</td>\n",
       "      <td>0</td>\n",
       "      <td>0</td>\n",
       "      <td>0</td>\n",
       "    </tr>\n",
       "    <tr>\n",
       "      <th>2011-02-01</th>\n",
       "      <td>0</td>\n",
       "      <td>0</td>\n",
       "      <td>0</td>\n",
       "      <td>0</td>\n",
       "      <td>0</td>\n",
       "      <td>...</td>\n",
       "      <td>2</td>\n",
       "      <td>0</td>\n",
       "      <td>2</td>\n",
       "      <td>0</td>\n",
       "      <td>0</td>\n",
       "    </tr>\n",
       "    <tr>\n",
       "      <th>2011-02-02</th>\n",
       "      <td>0</td>\n",
       "      <td>0</td>\n",
       "      <td>0</td>\n",
       "      <td>0</td>\n",
       "      <td>0</td>\n",
       "      <td>...</td>\n",
       "      <td>0</td>\n",
       "      <td>0</td>\n",
       "      <td>2</td>\n",
       "      <td>0</td>\n",
       "      <td>0</td>\n",
       "    </tr>\n",
       "  </tbody>\n",
       "</table>\n",
       "<p>5 rows × 30490 columns</p>\n",
       "</div>"
      ],
      "text/plain": [
       "            HOBBIES_1_001_CA_1  HOBBIES_1_002_CA_1  HOBBIES_1_003_CA_1  \\\n",
       "2011-01-29                   0                   0                   0   \n",
       "2011-01-30                   0                   0                   0   \n",
       "2011-01-31                   0                   0                   0   \n",
       "2011-02-01                   0                   0                   0   \n",
       "2011-02-02                   0                   0                   0   \n",
       "\n",
       "            HOBBIES_1_004_CA_1  HOBBIES_1_005_CA_1  ...  FOODS_3_823_WI_3  \\\n",
       "2011-01-29                   0                   0  ...                 0   \n",
       "2011-01-30                   0                   0  ...                 0   \n",
       "2011-01-31                   0                   0  ...                 2   \n",
       "2011-02-01                   0                   0  ...                 2   \n",
       "2011-02-02                   0                   0  ...                 0   \n",
       "\n",
       "            FOODS_3_824_WI_3  FOODS_3_825_WI_3  FOODS_3_826_WI_3  \\\n",
       "2011-01-29                 0                 0                 0   \n",
       "2011-01-30                 0                 6                 0   \n",
       "2011-01-31                 0                 0                 0   \n",
       "2011-02-01                 0                 2                 0   \n",
       "2011-02-02                 0                 2                 0   \n",
       "\n",
       "            FOODS_3_827_WI_3  \n",
       "2011-01-29                 0  \n",
       "2011-01-30                 0  \n",
       "2011-01-31                 0  \n",
       "2011-02-01                 0  \n",
       "2011-02-02                 0  \n",
       "\n",
       "[5 rows x 30490 columns]"
      ]
     },
     "execution_count": 19,
     "metadata": {},
     "output_type": "execute_result"
    }
   ],
   "source": [
    "#Set Dates as index \n",
    "DF_Sales = pd.DataFrame(DF_Sales).set_index([dates_list])\n",
    "DF_Sales.index = pd.to_datetime(DF_Sales.index)\n",
    "DF_Sales.head()  # 5 * 30490 "
   ]
  },
  {
   "cell_type": "code",
   "execution_count": null,
   "id": "2b0c4e9a-2590-4a85-98a5-1c4578350ada",
   "metadata": {},
   "outputs": [],
   "source": [
    "index = 6780\n",
    "y = pd.DataFrame(DF_Sales.iloc[:,index])\n",
    "y = pd.DataFrame(y).set_index([dates_list])\n",
    "TS_selected = y \n",
    "y.index = pd.to_datetime(y.index)\n",
    "ax = y.plot(figsize=(30, 9),color='red')"
   ]
  },
  {
   "cell_type": "code",
   "execution_count": 33,
   "id": "c84ccfca-41ce-4b80-8450-c74531b6493a",
   "metadata": {},
   "outputs": [],
   "source": [
    "from sklearn.preprocessing import MinMaxScaler\n",
    "data = np.array(y)\n",
    "scaler = MinMaxScaler(feature_range=(-1, 1))\n",
    "train_data_normalized = scaler.fit_transform(data.reshape(-1, 1))"
   ]
  },
  {
   "cell_type": "code",
   "execution_count": 23,
   "id": "4b14dd73-72e3-4a07-908e-35ac712ba288",
   "metadata": {},
   "outputs": [],
   "source": [
    "import random \n",
    "import os\n",
    "import torch\n",
    "SEED = 1345\n",
    "def seed_everything(seed):\n",
    "    random.seed(seed)\n",
    "    os.environ['PYTHONHASHSEED'] = str(seed)\n",
    "    np.random.seed(seed)\n",
    "    torch.manual_seed(seed)\n",
    "    torch.cuda.manual_seed(seed)\n",
    "    torch.backends.cudnn.deterministic = True\n",
    "\n",
    "\n",
    "seed_everything(SEED)"
   ]
  },
  {
   "cell_type": "code",
   "execution_count": null,
   "id": "05253cdb-aafa-444e-b671-d3aa4882aad5",
   "metadata": {},
   "outputs": [],
   "source": [
    "# https://www.kaggle.com/code/omershect/learning-pytorch-lstm-deep-learning-with-m5-data"
   ]
  }
 ],
 "metadata": {
  "kernelspec": {
   "display_name": "Python 3",
   "language": "python",
   "name": "python3"
  },
  "language_info": {
   "codemirror_mode": {
    "name": "ipython",
    "version": 3
   },
   "file_extension": ".py",
   "mimetype": "text/x-python",
   "name": "python",
   "nbconvert_exporter": "python",
   "pygments_lexer": "ipython3",
   "version": "3.6.5"
  }
 },
 "nbformat": 4,
 "nbformat_minor": 5
}
