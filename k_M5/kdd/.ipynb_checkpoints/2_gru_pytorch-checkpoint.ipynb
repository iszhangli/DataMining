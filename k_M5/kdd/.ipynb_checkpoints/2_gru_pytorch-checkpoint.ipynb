{
 "cells": [
  {
   "cell_type": "markdown",
   "id": "ideal-granny",
   "metadata": {},
   "source": [
    "# Pytorch-GRU-LSTM\n",
    "##\n",
    "1. "
   ]
  },
  {
   "cell_type": "code",
   "execution_count": 18,
   "id": "inclusive-wagner",
   "metadata": {},
   "outputs": [],
   "source": [
    "import pandas as pd\n",
    "import torch\n",
    "import numpy as np\n",
    "from torch import nn\n",
    "from torch.utils.data import Dataset\n",
    "from torch.utils.data import DataLoader"
   ]
  },
  {
   "cell_type": "code",
   "execution_count": 8,
   "id": "characteristic-earthquake",
   "metadata": {},
   "outputs": [],
   "source": [
    "# 全局参数\n",
    "type_map = {'train':0, 'val':1, 'test':2}\n",
    "input_path_dir = 'C:/ZhangLI/Codes/DataSet/kdd-cup/'\n",
    "file_name = 'sdwpf_baidukddcup2022_full.csv'\n",
    "cols = ['Wspd', 'Wdir', 'Etmp', 'Itmp', 'Ndir', 'Pab1', 'Pab2', 'Pab3', 'Prtv', 'Patv']\n",
    "lable = 'Patv'\n",
    "\n",
    "train_size = 24 * 6 * 153\n",
    "val_size = 24 * 6 * 16\n",
    "test_size = 24 * 6 * 15"
   ]
  },
  {
   "cell_type": "code",
   "execution_count": 3,
   "id": "promising-coordinate",
   "metadata": {},
   "outputs": [],
   "source": [
    "data_raw = pd.read_csv(f'{input_path_dir}{file_name}')"
   ]
  },
  {
   "cell_type": "code",
   "execution_count": 68,
   "id": "biological-japanese",
   "metadata": {},
   "outputs": [
    {
     "data": {
      "text/plain": [
       "674"
      ]
     },
     "execution_count": 68,
     "metadata": {},
     "output_type": "execute_result"
    }
   ],
   "source": [
    "# 读取数据的类\n",
    "class WPFDataset(Dataset):\n",
    "    \"\"\"\n",
    "    Desc: Data\n",
    "        ...\n",
    "    \"\"\"\n",
    "    def __init__(self, data, flag='train'):\n",
    "        \"\"\"\n",
    "        Desc: \n",
    "        Input: DataSet\n",
    "        \"\"\"\n",
    "        self.data_set = data\n",
    "        self.train_size = train_size\n",
    "        self.val_size = val_size\n",
    "        self.test_size = test_size\n",
    "        self._start = [0, 153*144-144, 169*144-144]  # [0, 21888, 24192]\n",
    "        self._end = [153*144, 169*144, 184*144]  # [22032, 24336, 26496]\n",
    "        \n",
    "        clip_start = self._start[type_map[flag]]\n",
    "        clip_end = self._end[type_map[flag]]\n",
    "        \n",
    "        self._data_set = self.data_set[clip_start:clip_end]\n",
    "        \n",
    "        \n",
    "    def __getitem__(self, index):\n",
    "        \"\"\"\n",
    "        Desc:\n",
    "        \n",
    "        \"\"\"\n",
    "        s_begin = index\n",
    "        s_end = index + 200  # 使用200个点预测288个点\n",
    "        e_begin = s_end\n",
    "        e_end = s_end + 288\n",
    "        seq_x = self._data_set[s_begin:s_end]\n",
    "        seq_y = self._data_set[e_begin:e_end]\n",
    "        return seq_x, seq_y\n",
    "    \n",
    "    def __len__(self):\n",
    "        \"\"\"\n",
    "        Desc:\n",
    "        \n",
    "        \"\"\"\n",
    "        #return int((len(self._data_set)-200)/288)\n",
    "        return (len(self._data_set) - 200 - 288 + 1)  # 数据的长度\n",
    "\n",
    "ds = WPFDataset(data_raw[cols].values)   \n",
    "dl = DataLoader(ds, batch_size=32, shuffle=True, drop_last=True)\n",
    "\n",
    "\n",
    "# WPFDataset[2] 使用索引的方式获取数据时，会自动调用 getitem 方法\n",
    "count = 1\n",
    "for i in dl:\n",
    "    count += 1\n",
    "count"
   ]
  },
  {
   "cell_type": "code",
   "execution_count": 58,
   "id": "abandoned-williams",
   "metadata": {},
   "outputs": [
    {
     "data": {
      "text/plain": [
       "12327"
      ]
     },
     "execution_count": 58,
     "metadata": {},
     "output_type": "execute_result"
    }
   ],
   "source": [
    "32 * 386\n",
    "int((len(data_raw)-200)/288)"
   ]
  },
  {
   "cell_type": "code",
   "execution_count": 67,
   "id": "expensive-tablet",
   "metadata": {},
   "outputs": [
    {
     "data": {
      "text/plain": [
       "torch.Size([32, 200, 10])"
      ]
     },
     "execution_count": 67,
     "metadata": {},
     "output_type": "execute_result"
    }
   ],
   "source": [
    "i[0].size()"
   ]
  },
  {
   "cell_type": "code",
   "execution_count": 48,
   "id": "acknowledged-airplane",
   "metadata": {},
   "outputs": [
    {
     "name": "stdout",
     "output_type": "stream",
     "text": [
      "torch.Size([32, 200, 10])\n"
     ]
    },
    {
     "data": {
      "text/plain": [
       "torch.Size([32, 288, 10])"
      ]
     },
     "execution_count": 48,
     "metadata": {},
     "output_type": "execute_result"
    }
   ],
   "source": [
    "print(i[0].size())\n",
    "i[1].size()"
   ]
  }
 ],
 "metadata": {
  "kernelspec": {
   "display_name": "Python 3",
   "language": "python",
   "name": "python3"
  },
  "language_info": {
   "codemirror_mode": {
    "name": "ipython",
    "version": 3
   },
   "file_extension": ".py",
   "mimetype": "text/x-python",
   "name": "python",
   "nbconvert_exporter": "python",
   "pygments_lexer": "ipython3",
   "version": "3.8.5"
  }
 },
 "nbformat": 4,
 "nbformat_minor": 5
}
