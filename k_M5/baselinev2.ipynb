{
 "cells": [
  {
   "cell_type": "code",
   "execution_count": 1,
   "id": "sensitive-syria",
   "metadata": {},
   "outputs": [
    {
     "data": {
      "text/plain": [
       "7.499292528573799e-05"
      ]
     },
     "execution_count": 1,
     "metadata": {},
     "output_type": "execute_result"
    }
   ],
   "source": [
    "1179/15721483  0.00007499"
   ]
  },
  {
   "cell_type": "code",
   "execution_count": 4,
   "id": "thorough-python",
   "metadata": {},
   "outputs": [
    {
     "data": {
      "text/plain": [
       "0.07972858354537744"
      ]
     },
     "execution_count": 4,
     "metadata": {},
     "output_type": "execute_result"
    }
   ],
   "source": [
    "94/833005\n",
    "833005/15721483\n",
    "94/1179"
   ]
  },
  {
   "cell_type": "code",
   "execution_count": 8,
   "id": "instrumental-married",
   "metadata": {},
   "outputs": [
    {
     "data": {
      "text/plain": [
       "0.04460966542750929"
      ]
     },
     "execution_count": 8,
     "metadata": {},
     "output_type": "execute_result"
    }
   ],
   "source": [
    "269/10065412\n",
    "12/230396\n",
    "230396/10065412\n",
    "12/269"
   ]
  }
 ],
 "metadata": {
  "kernelspec": {
   "display_name": "Python 3",
   "language": "python",
   "name": "python3"
  },
  "language_info": {
   "codemirror_mode": {
    "name": "ipython",
    "version": 3
   },
   "file_extension": ".py",
   "mimetype": "text/x-python",
   "name": "python",
   "nbconvert_exporter": "python",
   "pygments_lexer": "ipython3",
   "version": "3.8.5"
  }
 },
 "nbformat": 4,
 "nbformat_minor": 5
}
