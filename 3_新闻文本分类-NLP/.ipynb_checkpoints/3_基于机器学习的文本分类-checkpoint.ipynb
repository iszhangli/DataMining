{
 "cells": [
  {
   "cell_type": "code",
   "execution_count": 1,
   "metadata": {},
   "outputs": [],
   "source": [
    "# Count Vectors + RidgeClassifier\n",
    "\n",
    "import pandas as pd\n",
    "\n",
    "from sklearn.feature_extraction.text import CountVectorizer\n",
    "from sklearn.linear_model import RidgeClassifier\n",
    "from sklearn.metrics import f1_score"
   ]
  },
  {
   "cell_type": "code",
   "execution_count": 2,
   "metadata": {},
   "outputs": [],
   "source": [
    "train_df = pd.read_csv('E:/Dataset/新闻文本分类/train_set.csv', sep='\\t', nrows=15000)"
   ]
  },
  {
   "cell_type": "code",
   "execution_count": 4,
   "metadata": {},
   "outputs": [
    {
     "data": {
      "text/plain": [
       "array([[ 2,  2, 64, ..., 24,  8, 30],\n",
       "       [ 2,  2, 25, ..., 11,  4, 14],\n",
       "       [ 0,  0, 27, ..., 14,  6,  7],\n",
       "       ...,\n",
       "       [ 0,  0, 23, ..., 14,  4, 12],\n",
       "       [ 3,  1, 15, ...,  8,  5,  8],\n",
       "       [ 0,  2,  7, ..., 11,  0,  9]], dtype=int64)"
      ]
     },
     "execution_count": 4,
     "metadata": {},
     "output_type": "execute_result"
    }
   ],
   "source": [
    "# try bag of word\n",
    "# bag of word进行编码\n",
    "from sklearn.feature_extraction.text import CountVectorizer\n",
    "from sklearn.feature_extraction.text import TfidfVectorizer\n",
    "\n",
    "vectorizer = CountVectorizer(max_features=10)\n",
    "bag_word = vectorizer.fit_transform(train_df['text'])\n",
    "bag_word.toarray()"
   ]
  },
  {
   "cell_type": "code",
   "execution_count": 6,
   "metadata": {},
   "outputs": [],
   "source": [
    "# 岭回归进行预测\n",
    "from sklearn.linear_model import RidgeClassifier\n",
    "\n",
    "rc = RidgeClassifier()\n",
    "rc.fit(bag_word[0:10000], train_df.label[0:10000])\n",
    "result = rc.predict(bag_word[10001:])\n",
    "\n",
    "from sklearn.metrics import accuracy_score, precision_score, recall_score, f1_score\n",
    "print(accuracy_score(train_df.label[10001:], result))\n",
    "print(precision_score(train_df.label[10001:], result, average='micro'))\n",
    "print(recall_score(train_df.label[10001:], result, average='micro'))\n",
    "f1_score(train_df.label[10001:], result, average='micro')"
   ]
  },
  {
   "cell_type": "code",
   "execution_count": 22,
   "metadata": {},
   "outputs": [
    {
     "name": "stdout",
     "output_type": "stream",
     "text": [
      "0.3056611322264453\n",
      "0.3056611322264453\n",
      "0.3056611322264453\n"
     ]
    },
    {
     "data": {
      "text/plain": [
       "0.3056611322264453"
      ]
     },
     "execution_count": 22,
     "metadata": {},
     "output_type": "execute_result"
    }
   ],
   "source": []
  },
  {
   "cell_type": "code",
   "execution_count": 18,
   "metadata": {},
   "outputs": [],
   "source": [
    "# 测试多分类\n",
    "import numpy as np\n",
    "\n",
    "y_true = np.array([-1]*30 + [0]*240 + [1]*30 + [2]*30)\n",
    "y_pred = np.array([-1]*10 + [0]*10 + [1]*10 + \n",
    "                  [-1]*40 + [0]*160 + [1]*40 + \n",
    "                  [-1]*5 + [0]*5 + [1]*20 + [2]*30)\n",
    "from sklearn.metrics import confusion_matrix\n",
    "confusion_matrix(y_true, y_pred)"
   ]
  },
  {
   "cell_type": "code",
   "execution_count": null,
   "metadata": {},
   "outputs": [],
   "source": [
    "# 测试词袋模型\n",
    "from sklearn.feature_extraction.text import CountVectorizer\n",
    "corpus = [\n",
    "    'hello hello hello hello',\n",
    "    'didi',\n",
    "    'sun sun',\n",
    "    'moon moon moon',\n",
    "    'ace'\n",
    "]\n",
    "vectorizer = CountVectorizer(max_features=5)\n",
    "words = vectorizer.fit_transform(corpus)\n",
    "print(vectorizer.vocabulary_)\n",
    "words.toarray() # 这句话中有几个单词，分别在文章中出现了几次"
   ]
  }
 ],
 "metadata": {
  "kernelspec": {
   "display_name": "Python 3",
   "language": "python",
   "name": "python3"
  },
  "language_info": {
   "codemirror_mode": {
    "name": "ipython",
    "version": 3
   },
   "file_extension": ".py",
   "mimetype": "text/x-python",
   "name": "python",
   "nbconvert_exporter": "python",
   "pygments_lexer": "ipython3",
   "version": "3.6.5"
  }
 },
 "nbformat": 4,
 "nbformat_minor": 4
}
