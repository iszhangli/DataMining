{
 "cells": [
  {
   "cell_type": "code",
   "execution_count": 1,
   "id": "sunset-hampton",
   "metadata": {},
   "outputs": [],
   "source": [
    "from collections import Counter\n",
    "import pandas as pd\n",
    "import numpy as np"
   ]
  },
  {
   "cell_type": "code",
   "execution_count": 5,
   "id": "exempt-arbitration",
   "metadata": {},
   "outputs": [
    {
     "data": {
      "text/html": [
       "<div>\n",
       "<style scoped>\n",
       "    .dataframe tbody tr th:only-of-type {\n",
       "        vertical-align: middle;\n",
       "    }\n",
       "\n",
       "    .dataframe tbody tr th {\n",
       "        vertical-align: top;\n",
       "    }\n",
       "\n",
       "    .dataframe thead th {\n",
       "        text-align: right;\n",
       "    }\n",
       "</style>\n",
       "<table border=\"1\" class=\"dataframe\">\n",
       "  <thead>\n",
       "    <tr style=\"text-align: right;\">\n",
       "      <th></th>\n",
       "      <th>label</th>\n",
       "      <th>text</th>\n",
       "    </tr>\n",
       "  </thead>\n",
       "  <tbody>\n",
       "    <tr>\n",
       "      <th>0</th>\n",
       "      <td>2</td>\n",
       "      <td>2967 6758 339 2021 1854 3731 4109 3792 4149 15...</td>\n",
       "    </tr>\n",
       "    <tr>\n",
       "      <th>1</th>\n",
       "      <td>11</td>\n",
       "      <td>4464 486 6352 5619 2465 4802 1452 3137 5778 54...</td>\n",
       "    </tr>\n",
       "    <tr>\n",
       "      <th>2</th>\n",
       "      <td>3</td>\n",
       "      <td>7346 4068 5074 3747 5681 6093 1777 2226 7354 6...</td>\n",
       "    </tr>\n",
       "    <tr>\n",
       "      <th>3</th>\n",
       "      <td>2</td>\n",
       "      <td>7159 948 4866 2109 5520 2490 211 3956 5520 549...</td>\n",
       "    </tr>\n",
       "    <tr>\n",
       "      <th>4</th>\n",
       "      <td>3</td>\n",
       "      <td>3646 3055 3055 2490 4659 6065 3370 5814 2465 5...</td>\n",
       "    </tr>\n",
       "  </tbody>\n",
       "</table>\n",
       "</div>"
      ],
      "text/plain": [
       "   label                                               text\n",
       "0      2  2967 6758 339 2021 1854 3731 4109 3792 4149 15...\n",
       "1     11  4464 486 6352 5619 2465 4802 1452 3137 5778 54...\n",
       "2      3  7346 4068 5074 3747 5681 6093 1777 2226 7354 6...\n",
       "3      2  7159 948 4866 2109 5520 2490 211 3956 5520 549...\n",
       "4      3  3646 3055 3055 2490 4659 6065 3370 5814 2465 5..."
      ]
     },
     "execution_count": 5,
     "metadata": {},
     "output_type": "execute_result"
    }
   ],
   "source": [
    "train_df = pd.read_csv('C:/ZhangLI/Codes/DataSet/新闻文本分类/train_set.csv', sep='\\t', nrows=100)\n",
    "train_df.head()"
   ]
  },
  {
   "cell_type": "markdown",
   "id": "theoretical-gender",
   "metadata": {},
   "source": [
    "1. 句子长度\n",
    "2. 类别分布\n",
    "3. 字符分布\n",
    "{'科技': 0, '股票': 1, '体育': 2, '娱乐': 3, '时政': 4, '社会': 5, '教育': 6, '财经': 7, '家居': 8, '游戏': 9, '房产': 10, '时尚': 11, '彩票': 12, '星座': 13}"
   ]
  },
  {
   "cell_type": "code",
   "execution_count": 11,
   "id": "annoying-breed",
   "metadata": {},
   "outputs": [
    {
     "name": "stdout",
     "output_type": "stream",
     "text": [
      "Populating the interactive namespace from numpy and matplotlib\n"
     ]
    },
    {
     "data": {
      "text/plain": [
       "<AxesSubplot:>"
      ]
     },
     "execution_count": 11,
     "metadata": {},
     "output_type": "execute_result"
    },
    {
     "data": {
      "image/png": "[encoded data removed]",
      "text/plain": [
       "<Figure size 432x288 with 1 Axes>"
      ]
     },
     "metadata": {
      "needs_background": "light"
     },
     "output_type": "display_data"
    }
   ],
   "source": [
    "# 句子长度\n",
    "# 类别分布\n",
    "# 字符分布\n",
    "%pylab inline\n",
    "train_df['text_len'] = train_df['text'].apply(lambda x: len(x.split(' ')))\n",
    "\n",
    "# 新闻类别分布\n",
    "train_df['label'].value_counts().plot(kind='bar')\n",
    "# plt.hist(train_df.text_len, bins=200)"
   ]
  },
  {
   "cell_type": "code",
   "execution_count": 18,
   "id": "traditional-wallpaper",
   "metadata": {},
   "outputs": [],
   "source": [
    "all_lines = ' '.join(list(train_df['text']))\n",
    "word_count = Counter(all_lines.split(' '))\n",
    "word_count = sorted(word_count.items(), key=lambda x: x[1], reverse=True)\n",
    "# 可以看出每个词出现的次数 ，在词之前需要进行分词\n"
   ]
  },
  {
   "cell_type": "code",
   "execution_count": 40,
   "id": "driven-banks",
   "metadata": {},
   "outputs": [
    {
     "data": {
      "text/plain": [
       "label\n",
       "0     (3750, 610)\n",
       "1     (3750, 531)\n",
       "2     (3750, 956)\n",
       "3     (3750, 239)\n",
       "4      (3750, 78)\n",
       "5     (3750, 193)\n",
       "6     (3750, 491)\n",
       "7     (3750, 214)\n",
       "8      (3750, 68)\n",
       "9      (3750, 51)\n",
       "10    (3750, 152)\n",
       "11    (3750, 102)\n",
       "12     (4464, 59)\n",
       "13       (648, 6)\n",
       "dtype: object"
      ]
     },
     "execution_count": 40,
     "metadata": {},
     "output_type": "execute_result"
    }
   ],
   "source": [
    "# homework\n",
    "def get_cell_len(s):\n",
    "    r = []\n",
    "    for i in s.split('3750'):\n",
    "        for ii in i.split('900'):\n",
    "            r += ii.split('648')\n",
    "    return len([i for i in r if i != ''])\n",
    "train_df['juzi_len'] = train_df['text'].apply(lambda x: get_cell_len(x))\n",
    "train_df.head()\n",
    "mean(train_df.juzi_len)\n",
    "# 每类新闻中出现次数最多的字符\n",
    "train_df.groupby('label').apply(lambda x: sorted(Counter(' '.join(x.text).split(' ')).items(), key=lambda x: x[1], reverse=True)[0])"
   ]
  },
  {
   "cell_type": "markdown",
   "id": "functioning-turkey",
   "metadata": {},
   "source": [
    "1. One-hot \n",
    "2. Bag of Words\n",
    "\n",
    "我 爱 北 京 天 安 门\n",
    "`[1, 1, 1, 1, 1, 1, 1, 0, 0, 0, 0]`\n",
    "\n",
    "我 喜 欢 上 海\n",
    "`[1, 0, 0, 0, 0, 0, 0, 1, 1, 1, 1]`\n",
    "\n",
    "3. N-gram\n",
    "加入相邻单词组成新单词\n",
    "\n",
    "4. TF-IDF\n",
    "词频次数\n",
    "逆文档次数\n",
    "TF(t) = 该词语在文档中出现的频率/当前文档中词的总数\n",
    "IDT(t) = log(文档总数 / 出现该词的文档总数)"
   ]
  },
  {
   "cell_type": "code",
   "execution_count": 47,
   "id": "thick-output",
   "metadata": {},
   "outputs": [
    {
     "data": {
      "text/plain": [
       "{'weathre': 5, 'is': 1, 'good': 0, 'no': 3, 'sun': 4, 'moon': 2, '只有': 6}"
      ]
     },
     "execution_count": 47,
     "metadata": {},
     "output_type": "execute_result"
    }
   ],
   "source": [
    "from sklearn.feature_extraction.text import CountVectorizer\n",
    "corpus = [\n",
    "    'weathre is good',\n",
    "    'no sun no moon',\n",
    "    '只有'\n",
    "]\n",
    "vectorizer = CountVectorizer()\n",
    "vectorizer.fit_transform(corpus)\n",
    "vectorizer.vocabulary_"
   ]
  }
 ],
 "metadata": {
  "kernelspec": {
   "display_name": "Python 3",
   "language": "python",
   "name": "python3"
  },
  "language_info": {
   "codemirror_mode": {
    "name": "ipython",
    "version": 3
   },
   "file_extension": ".py",
   "mimetype": "text/x-python",
   "name": "python",
   "nbconvert_exporter": "python",
   "pygments_lexer": "ipython3",
   "version": "3.8.5"
  }
 },
 "nbformat": 4,
 "nbformat_minor": 5
}
