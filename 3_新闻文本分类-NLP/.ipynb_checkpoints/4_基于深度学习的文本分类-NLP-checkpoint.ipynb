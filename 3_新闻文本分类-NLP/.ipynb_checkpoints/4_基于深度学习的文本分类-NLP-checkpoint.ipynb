{
 "cells": [
  {
   "cell_type": "code",
   "execution_count": 1,
   "id": "acknowledged-vancouver",
   "metadata": {},
   "outputs": [],
   "source": [
    "import pandas as pd\n",
    "from sklearn.metrics import f1_score\n",
    "\n",
    "# 转换为FastText需要的格式\n",
    "train_df = pd.read_csv('C:/ZhangLI/Codes/DataSet/新闻文本分类/train_set.csv', sep='\\t', nrows=15000)\n",
    "train_df['label_ft'] = '__label__' + train_df['label'].astype(str)\n",
    "#train_df[['text','label_ft']].iloc[:-5000].to_csv('train.csv', index=None, header=None, sep='\\t')\n"
   ]
  },
  {
   "cell_type": "code",
   "execution_count": 3,
   "id": "polish-hotel",
   "metadata": {},
   "outputs": [
    {
     "data": {
      "text/html": [
       "<div>\n",
       "<style scoped>\n",
       "    .dataframe tbody tr th:only-of-type {\n",
       "        vertical-align: middle;\n",
       "    }\n",
       "\n",
       "    .dataframe tbody tr th {\n",
       "        vertical-align: top;\n",
       "    }\n",
       "\n",
       "    .dataframe thead th {\n",
       "        text-align: right;\n",
       "    }\n",
       "</style>\n",
       "<table border=\"1\" class=\"dataframe\">\n",
       "  <thead>\n",
       "    <tr style=\"text-align: right;\">\n",
       "      <th></th>\n",
       "      <th>label</th>\n",
       "      <th>text</th>\n",
       "      <th>label_ft</th>\n",
       "    </tr>\n",
       "  </thead>\n",
       "  <tbody>\n",
       "    <tr>\n",
       "      <th>0</th>\n",
       "      <td>2</td>\n",
       "      <td>2967 6758 339 2021 1854 3731 4109 3792 4149 15...</td>\n",
       "      <td>__label__2</td>\n",
       "    </tr>\n",
       "    <tr>\n",
       "      <th>1</th>\n",
       "      <td>11</td>\n",
       "      <td>4464 486 6352 5619 2465 4802 1452 3137 5778 54...</td>\n",
       "      <td>__label__11</td>\n",
       "    </tr>\n",
       "    <tr>\n",
       "      <th>2</th>\n",
       "      <td>3</td>\n",
       "      <td>7346 4068 5074 3747 5681 6093 1777 2226 7354 6...</td>\n",
       "      <td>__label__3</td>\n",
       "    </tr>\n",
       "    <tr>\n",
       "      <th>3</th>\n",
       "      <td>2</td>\n",
       "      <td>7159 948 4866 2109 5520 2490 211 3956 5520 549...</td>\n",
       "      <td>__label__2</td>\n",
       "    </tr>\n",
       "    <tr>\n",
       "      <th>4</th>\n",
       "      <td>3</td>\n",
       "      <td>3646 3055 3055 2490 4659 6065 3370 5814 2465 5...</td>\n",
       "      <td>__label__3</td>\n",
       "    </tr>\n",
       "  </tbody>\n",
       "</table>\n",
       "</div>"
      ],
      "text/plain": [
       "   label                                               text     label_ft\n",
       "0      2  2967 6758 339 2021 1854 3731 4109 3792 4149 15...   __label__2\n",
       "1     11  4464 486 6352 5619 2465 4802 1452 3137 5778 54...  __label__11\n",
       "2      3  7346 4068 5074 3747 5681 6093 1777 2226 7354 6...   __label__3\n",
       "3      2  7159 948 4866 2109 5520 2490 211 3956 5520 549...   __label__2\n",
       "4      3  3646 3055 3055 2490 4659 6065 3370 5814 2465 5...   __label__3"
      ]
     },
     "execution_count": 3,
     "metadata": {},
     "output_type": "execute_result"
    }
   ],
   "source": [
    "train_df['label_ft'] = '__label__' + train_df['label'].astype(str)\n",
    "train_df.head()"
   ]
  },
  {
   "cell_type": "code",
   "execution_count": 4,
   "id": "noted-savannah",
   "metadata": {},
   "outputs": [],
   "source": [
    "import fasttext"
   ]
  },
  {
   "cell_type": "code",
   "execution_count": null,
   "id": "knowing-israeli",
   "metadata": {},
   "outputs": [],
   "source": [
    "\n",
    "model = fasttext.train_supervised('train.csv', lr=1.0, wordNgrams=2, \n",
    "                                  verbose=2, minCount=1, epoch=25, loss=\"hs\")\n",
    "\n",
    "# 至少要搞清楚 输入输出 的形式，预训练或者做预测的形式"
   ]
  },
  {
   "cell_type": "code",
   "execution_count": null,
   "id": "revised-kazakhstan",
   "metadata": {},
   "outputs": [],
   "source": [
    "val_pred = [model.predict(x)[0][0].split('__')[-1] for x in train_df.iloc[-5000:]['text']]\n",
    "print(f1_score(train_df['label'].values[-5000:].astype(str), val_pred, average='macro'))\n",
    "# 0.82"
   ]
  },
  {
   "cell_type": "code",
   "execution_count": 5,
   "id": "retained-latino",
   "metadata": {},
   "outputs": [],
   "source": [
    "# ------------------------------------------------------------------------------------------------------------------------------------------------------------------------------\n",
    "# 使用测试工作 测试fasttext\n",
    "# https://fasttext.cc/docs/en/unsupervised-tutorial.html\n",
    "import fasttext\n",
    "model = fasttext.train_supervised(input=\"C:/ZhangLI/Codes/DataSet/cooking.stackexchange/cooking.train\")"
   ]
  },
  {
   "cell_type": "code",
   "execution_count": 7,
   "id": "raised-thunder",
   "metadata": {},
   "outputs": [],
   "source": [
    "model.save_model('model_cooking.bin')"
   ]
  },
  {
   "cell_type": "code",
   "execution_count": 20,
   "id": "adjustable-utility",
   "metadata": {},
   "outputs": [
    {
     "data": {
      "text/plain": [
       "(('__label__baking',), array([0.06630655]))"
      ]
     },
     "execution_count": 20,
     "metadata": {},
     "output_type": "execute_result"
    }
   ],
   "source": [
    "model.predict(\"Which baking dish is best to bake a banana bread ?\")"
   ]
  },
  {
   "cell_type": "code",
   "execution_count": 26,
   "id": "pressed-silence",
   "metadata": {},
   "outputs": [
    {
     "data": {
      "text/plain": [
       "(('__label__baking',\n",
       "  '__label__food-safety',\n",
       "  '__label__bread',\n",
       "  '__label__substitutions',\n",
       "  '__label__equipment'),\n",
       " array([0.06427463, 0.06387777, 0.03709028, 0.03550518, 0.03373712]))"
      ]
     },
     "execution_count": 26,
     "metadata": {},
     "output_type": "execute_result"
    }
   ],
   "source": [
    "model.predict(\"Why not put knives in the dishwasher?\")\n",
    "model.predict(\"Why not put knives in the dishwasher?\", k=5)  # 获取前5个标签"
   ]
  },
  {
   "cell_type": "code",
   "execution_count": 25,
   "id": "social-witch",
   "metadata": {},
   "outputs": [
    {
     "data": {
      "text/plain": [
       "(3000, 0.14533333333333334, 0.06285137667579645)"
      ]
     },
     "execution_count": 25,
     "metadata": {},
     "output_type": "execute_result"
    }
   ],
   "source": [
    "model.test(\"C:/ZhangLI/Codes/DataSet/cooking.stackexchange/cooking.valid\")"
   ]
  },
  {
   "cell_type": "code",
   "execution_count": 24,
   "id": "atmospheric-persian",
   "metadata": {},
   "outputs": [
    {
     "data": {
      "text/plain": [
       "(3000, 0.06606666666666666, 0.14285714285714285)"
      ]
     },
     "execution_count": 24,
     "metadata": {},
     "output_type": "execute_result"
    }
   ],
   "source": [
    "model.test(\"C:/ZhangLI/Codes/DataSet/cooking.stackexchange/cooking.valid\", k=5)"
   ]
  },
  {
   "cell_type": "code",
   "execution_count": 29,
   "id": "necessary-eagle",
   "metadata": {},
   "outputs": [
    {
     "data": {
      "text/plain": [
       "(3000, 0.16766666666666666, 0.07250973043102206)"
      ]
     },
     "execution_count": 29,
     "metadata": {},
     "output_type": "execute_result"
    }
   ],
   "source": [
    "# 进行一个调参\n",
    "import fasttext\n",
    "model = fasttext.train_supervised(input=\"C:/ZhangLI/Codes/DataSet/cooking.stackexchange/cooking.train.new\")\n",
    "model.test(\"C:/ZhangLI/Codes/DataSet/cooking.stackexchange/cooking.valid.new\")"
   ]
  },
  {
   "cell_type": "code",
   "execution_count": 30,
   "id": "relative-discipline",
   "metadata": {},
   "outputs": [
    {
     "data": {
      "text/plain": [
       "(3000, 0.5173333333333333, 0.22372783624044976)"
      ]
     },
     "execution_count": 30,
     "metadata": {},
     "output_type": "execute_result"
    }
   ],
   "source": [
    "# 增加epoch， 减小学习率\n",
    "model = fasttext.train_supervised(input=\"C:/ZhangLI/Codes/DataSet/cooking.stackexchange/cooking.train.new\", epoch=25, lr=0.1)\n",
    "model.test(\"C:/ZhangLI/Codes/DataSet/cooking.stackexchange/cooking.valid.new\")"
   ]
  },
  {
   "cell_type": "code",
   "execution_count": 32,
   "id": "subsequent-saudi",
   "metadata": {},
   "outputs": [
    {
     "data": {
      "text/plain": [
       "(3000, 0.43433333333333335, 0.18783335735908893)"
      ]
     },
     "execution_count": 32,
     "metadata": {},
     "output_type": "execute_result"
    }
   ],
   "source": [
    "# 增加epoch， 减小学习率\n",
    "model = fasttext.train_supervised(input=\"C:/ZhangLI/Codes/DataSet/cooking.stackexchange/cooking.train.new\", epoch=25, lr=0.1, wordNgrams=2, bucket=200000, dim=50, loss='hs')\n",
    "model.test(\"C:/ZhangLI/Codes/DataSet/cooking.stackexchange/cooking.valid.new\")"
   ]
  },
  {
   "cell_type": "code",
   "execution_count": 38,
   "id": "referenced-istanbul",
   "metadata": {},
   "outputs": [
    {
     "data": {
      "text/plain": [
       "(('__label__baking', '__label__bread', '__label__equipment'),\n",
       " array([0.99737835, 0.98718882, 0.66542059]))"
      ]
     },
     "execution_count": 38,
     "metadata": {},
     "output_type": "execute_result"
    }
   ],
   "source": [
    "# 可以指定多个多个二分，实现多分类概率\n",
    "model = fasttext.train_supervised(input=\"C:/ZhangLI/Codes/DataSet/cooking.stackexchange/cooking.train.new\", epoch=25, lr=0.1, wordNgrams=2, bucket=200000, loss='ova')\n",
    "# model.test(\"C:/ZhangLI/Codes/DataSet/cooking.stackexchange/cooking.valid.new\")\n",
    "model.predict(\"Which baking dish is best to bake a banana bread ?\", k=-1, threshold=0.5)"
   ]
  },
  {
   "cell_type": "code",
   "execution_count": 43,
   "id": "duplicate-rough",
   "metadata": {},
   "outputs": [
    {
     "data": {
      "text/html": [
       "<div>\n",
       "<style scoped>\n",
       "    .dataframe tbody tr th:only-of-type {\n",
       "        vertical-align: middle;\n",
       "    }\n",
       "\n",
       "    .dataframe tbody tr th {\n",
       "        vertical-align: top;\n",
       "    }\n",
       "\n",
       "    .dataframe thead th {\n",
       "        text-align: right;\n",
       "    }\n",
       "</style>\n",
       "<table border=\"1\" class=\"dataframe\">\n",
       "  <thead>\n",
       "    <tr style=\"text-align: right;\">\n",
       "      <th></th>\n",
       "      <th>__label__equipment __label__cast-iron how do i fix a cast iron pot that was heated empty for hours ?</th>\n",
       "    </tr>\n",
       "  </thead>\n",
       "  <tbody>\n",
       "    <tr>\n",
       "      <th>0</th>\n",
       "      <td>__label__oven how does grill / broil mode in a...</td>\n",
       "    </tr>\n",
       "    <tr>\n",
       "      <th>1</th>\n",
       "      <td>__label__sauce __label__indian-cuisine __label...</td>\n",
       "    </tr>\n",
       "    <tr>\n",
       "      <th>2</th>\n",
       "      <td>__label__chili-peppers __label__spicy-hot how ...</td>\n",
       "    </tr>\n",
       "    <tr>\n",
       "      <th>3</th>\n",
       "      <td>__label__bread what is the secret to baking br...</td>\n",
       "    </tr>\n",
       "    <tr>\n",
       "      <th>4</th>\n",
       "      <td>__label__eggs are egg whites generally availab...</td>\n",
       "    </tr>\n",
       "    <tr>\n",
       "      <th>...</th>\n",
       "      <td>...</td>\n",
       "    </tr>\n",
       "    <tr>\n",
       "      <th>2994</th>\n",
       "      <td>__label__baking __label__substitutions __label...</td>\n",
       "    </tr>\n",
       "    <tr>\n",
       "      <th>2995</th>\n",
       "      <td>__label__beef __label__roast-beef roasting sir...</td>\n",
       "    </tr>\n",
       "    <tr>\n",
       "      <th>2996</th>\n",
       "      <td>__label__vegetables how to use csa vegetables ...</td>\n",
       "    </tr>\n",
       "    <tr>\n",
       "      <th>2997</th>\n",
       "      <td>__label__culinary-uses __label__seeds what are...</td>\n",
       "    </tr>\n",
       "    <tr>\n",
       "      <th>2998</th>\n",
       "      <td>__label__culinary-uses __label__herbs lemon ba...</td>\n",
       "    </tr>\n",
       "  </tbody>\n",
       "</table>\n",
       "<p>2999 rows × 1 columns</p>\n",
       "</div>"
      ],
      "text/plain": [
       "     __label__equipment __label__cast-iron how do i fix a cast iron pot that was heated empty for hours ? \n",
       "0     __label__oven how does grill / broil mode in a...                                                   \n",
       "1     __label__sauce __label__indian-cuisine __label...                                                   \n",
       "2     __label__chili-peppers __label__spicy-hot how ...                                                   \n",
       "3     __label__bread what is the secret to baking br...                                                   \n",
       "4     __label__eggs are egg whites generally availab...                                                   \n",
       "...                                                 ...                                                   \n",
       "2994  __label__baking __label__substitutions __label...                                                   \n",
       "2995  __label__beef __label__roast-beef roasting sir...                                                   \n",
       "2996  __label__vegetables how to use csa vegetables ...                                                   \n",
       "2997  __label__culinary-uses __label__seeds what are...                                                   \n",
       "2998  __label__culinary-uses __label__herbs lemon ba...                                                   \n",
       "\n",
       "[2999 rows x 1 columns]"
      ]
     },
     "execution_count": 43,
     "metadata": {},
     "output_type": "execute_result"
    }
   ],
   "source": [
    "pd.read_table(\"C:/ZhangLI/Codes/DataSet/cooking.stackexchange/cooking.valid.new\")"
   ]
  },
  {
   "cell_type": "code",
   "execution_count": null,
   "id": "rotary-documentary",
   "metadata": {},
   "outputs": [],
   "source": []
  }
 ],
 "metadata": {
  "kernelspec": {
   "display_name": "Python 3",
   "language": "python",
   "name": "python3"
  },
  "language_info": {
   "codemirror_mode": {
    "name": "ipython",
    "version": 3
   },
   "file_extension": ".py",
   "mimetype": "text/x-python",
   "name": "python",
   "nbconvert_exporter": "python",
   "pygments_lexer": "ipython3",
   "version": "3.8.5"
  }
 },
 "nbformat": 4,
 "nbformat_minor": 5
}
