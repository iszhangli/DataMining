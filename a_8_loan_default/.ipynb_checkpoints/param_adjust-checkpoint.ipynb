{
 "cells": [
  {
   "cell_type": "code",
   "execution_count": 1,
   "id": "useful-singapore",
   "metadata": {
    "tags": []
   },
   "outputs": [],
   "source": [
    "import pandas as pd\n",
    "\n",
    "data_dir = 'C:/ZhangLI/Codes/DataSet/个人违贷/official_data/'\n",
    "train_pub = pd.read_csv(data_dir+'train_public.csv')\n",
    "train_net = pd.read_csv(data_dir+'train_internet.csv')\n",
    "test_pub = pd.read_csv(data_dir+'test_public.csv')\n",
    "\n",
    "# 数据处理\n",
    "train_net['isDefault'] = train_net['is_default']\n",
    "common_feature = list(set(train_pub.columns).intersection(set(train_net.columns)))\n",
    "import copy\n",
    "train_pub_new = copy.deepcopy(train_pub)\n",
    "train_net_new = copy.deepcopy(train_net)\n",
    "train_pub_new = train_pub_new[common_feature]\n",
    "train_net_new = train_net_new[common_feature]\n",
    "train_df = pd.concat([train_pub_new, train_net_new])"
   ]
  },
  {
   "cell_type": "code",
   "execution_count": 34,
   "id": "medical-token",
   "metadata": {},
   "outputs": [],
   "source": [
    "# 查看样本比 并采样\n",
    "# 正负样本比例\n",
    "# 欠采样\n",
    "def ratio_PN(dataframe=None, label=None):\n",
    "    dic = train_df.isDefault.value_counts().to_dict()\n",
    "    print(f'The number of positive and negative is: {dic}')\n",
    "    print(f'0:1：{dic[0]/dic[1]}')\n",
    "# 重采样\n",
    "# Shuffle the Dataset.\n",
    "def sample_train_data(dataframe=None, label=None, ratio=1):\n",
    "    # rate: the rate of 0:1\n",
    "    shuffled_df = dataframe.sample(frac=1,random_state=4)\n",
    "    # 1\n",
    "    positive_df = shuffled_df.loc[shuffled_df[label] == 1]\n",
    "    n = positive_df.shape[0] * ratio\n",
    "    # 0\n",
    "    negtive_df=shuffled_df.loc[shuffled_df[label]== 0].sample(n=n,random_state=42)\n",
    "    # concat\n",
    "    normalized_df = pd.concat([positive_df, negtive_df])\n",
    "    return normalized_df\n",
    "    \n",
    "# normalized_df = sample_train_data(train_df, 'isDefault', 2)\n",
    "# 过采样"
   ]
  },
  {
   "cell_type": "code",
   "execution_count": 35,
   "id": "described-halloween",
   "metadata": {},
   "outputs": [
    {
     "name": "stdout",
     "output_type": "stream",
     "text": [
      "The number of positive and negative is: {0: 608644, 1: 151356}\n",
      "0:1：4.021274346573641\n"
     ]
    }
   ],
   "source": [
    "ratio_PN(train_df, 'isDefault')"
   ]
  },
  {
   "cell_type": "code",
   "execution_count": null,
   "id": "formed-sullivan",
   "metadata": {},
   "outputs": [],
   "source": []
  }
 ],
 "metadata": {
  "kernelspec": {
   "display_name": "Python 3",
   "language": "python",
   "name": "python3"
  },
  "language_info": {
   "codemirror_mode": {
    "name": "ipython",
    "version": 3
   },
   "file_extension": ".py",
   "mimetype": "text/x-python",
   "name": "python",
   "nbconvert_exporter": "python",
   "pygments_lexer": "ipython3",
   "version": "3.8.5"
  }
 },
 "nbformat": 4,
 "nbformat_minor": 5
}
