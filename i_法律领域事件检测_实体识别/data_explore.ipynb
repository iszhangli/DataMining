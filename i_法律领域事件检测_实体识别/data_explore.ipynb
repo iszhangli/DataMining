{
 "cells": [
  {
   "cell_type": "code",
   "execution_count": 34,
   "id": "adequate-enzyme",
   "metadata": {},
   "outputs": [
    {
     "data": {
      "text/plain": [
       "[{'trigger': '结婚',\n",
       "  'event_type': 'Marry',\n",
       "  'argument': [{'husband': '赵四', 'wife': '王五', 'time': '2011年', 'loc': ''}]},\n",
       " {'trigger': '生育',\n",
       "  'event_type': 'Be_Born',\n",
       "  'argument': [{'per': '三个孩子', 'time': '婚后', 'loc': ''}]},\n",
       " {'trigger': '离婚',\n",
       "  'event_type': 'Other',\n",
       "  'argument': [{'subjec': '赵四',\n",
       "    'object': '王五',\n",
       "    'context': '双方感情不和',\n",
       "    'time': '2020年',\n",
       "    'loc': ''}]},\n",
       " {'trigger': '诉讼',\n",
       "  'event_type': 'Prosecute',\n",
       "  'argument': [{'prosecutor': '孩子',\n",
       "    'defendant': '赵四',\n",
       "    'reason': '',\n",
       "    'demand': '按照协议约定支付抚养费',\n",
       "    'time': '2021年',\n",
       "    'court': '法院'}]}]"
      ]
     },
     "execution_count": 34,
     "metadata": {},
     "output_type": "execute_result"
    }
   ],
   "source": [
    "import pandas as pd\n",
    "\n",
    "file = 'C:/ZhangLI/Codes/DataSet/法律领域篇章级多事件检测/train_dataset.json'\n",
    "\n",
    "with open(file, 'r', encoding='utf-8') as f:\n",
    "#     if not f:\n",
    "#         return 0\n",
    "    df = pd.read_json(f, orient='records', lines=True)\n",
    "\n",
    "df.class_name.value_counts()  # 婚姻家庭纠纷    971\n",
    "df.event_chain[0]"
   ]
  },
  {
   "cell_type": "code",
   "execution_count": 28,
   "id": "amino-volume",
   "metadata": {},
   "outputs": [
    {
     "data": {
      "text/plain": [
       "婚姻家庭纠纷    486\n",
       "Name: class_name, dtype: int64"
      ]
     },
     "execution_count": 28,
     "metadata": {},
     "output_type": "execute_result"
    }
   ],
   "source": [
    "file = 'C:/ZhangLI/Codes/DataSet/法律领域篇章级多事件检测/dev_dataset.json'\n",
    "with open(file, 'r', encoding='utf-8') as f:\n",
    "    df_dev = pd.read_json(f, orient='records', lines=True)\n",
    "df_dev.class_name.value_counts()  # 婚姻家庭纠纷    486"
   ]
  },
  {
   "cell_type": "code",
   "execution_count": 29,
   "id": "hired-swiss",
   "metadata": {},
   "outputs": [
    {
     "data": {
      "text/html": [
       "<div>\n",
       "<style scoped>\n",
       "    .dataframe tbody tr th:only-of-type {\n",
       "        vertical-align: middle;\n",
       "    }\n",
       "\n",
       "    .dataframe tbody tr th {\n",
       "        vertical-align: top;\n",
       "    }\n",
       "\n",
       "    .dataframe thead th {\n",
       "        text-align: right;\n",
       "    }\n",
       "</style>\n",
       "<table border=\"1\" class=\"dataframe\">\n",
       "  <thead>\n",
       "    <tr style=\"text-align: right;\">\n",
       "      <th></th>\n",
       "      <th>id</th>\n",
       "      <th>text</th>\n",
       "    </tr>\n",
       "  </thead>\n",
       "  <tbody>\n",
       "    <tr>\n",
       "      <th>0</th>\n",
       "      <td>1460</td>\n",
       "      <td>原告刘小美（女方）与被告吴京京（男方）于2005年经人介绍相识恋爱，2006年开始同居生活，...</td>\n",
       "    </tr>\n",
       "    <tr>\n",
       "      <th>1</th>\n",
       "      <td>1461</td>\n",
       "      <td>2011年12月，谢楠（女方）与被告王雄（男方）介绍相识恋爱，2012年5月10日登记结婚，...</td>\n",
       "    </tr>\n",
       "    <tr>\n",
       "      <th>2</th>\n",
       "      <td>1462</td>\n",
       "      <td>原告李文萱与丈夫李铁刚于2008年下半年相识恋爱，2010年5月9日生育一女，取名李小丽，2...</td>\n",
       "    </tr>\n",
       "    <tr>\n",
       "      <th>3</th>\n",
       "      <td>1463</td>\n",
       "      <td>田小妞（女方）与被告汪志诚（男方）于2001年6月14日经人介绍相识，2001年11月19日...</td>\n",
       "    </tr>\n",
       "    <tr>\n",
       "      <th>4</th>\n",
       "      <td>1464</td>\n",
       "      <td>孙建军与妻子田甜于1999年在温州打工时相识、恋爱，2001年办理结婚登记手续，2003年8...</td>\n",
       "    </tr>\n",
       "    <tr>\n",
       "      <th>...</th>\n",
       "      <td>...</td>\n",
       "      <td>...</td>\n",
       "    </tr>\n",
       "    <tr>\n",
       "      <th>480</th>\n",
       "      <td>1942</td>\n",
       "      <td>蔡方与蒋孟经人介绍认识，一年后登记结婚，婚后生育男孩蒋阶。婚后蒋孟多次赌博，输掉几十万元。蒋...</td>\n",
       "    </tr>\n",
       "    <tr>\n",
       "      <th>481</th>\n",
       "      <td>1943</td>\n",
       "      <td>原告焦芳与被告魏康于2010年夏天认识，于2012年3月2日在民政局登记结婚。2013年6月...</td>\n",
       "    </tr>\n",
       "    <tr>\n",
       "      <th>482</th>\n",
       "      <td>1944</td>\n",
       "      <td>原告何言、被告李立于2011年通过网络相识，2012年9月26日登记结婚，婚后未生育子女。被...</td>\n",
       "    </tr>\n",
       "    <tr>\n",
       "      <th>483</th>\n",
       "      <td>1945</td>\n",
       "      <td>原告程芳、被告沈军于2008年4月自行相识，2009年1月登记结婚，2010年10月生育一女...</td>\n",
       "    </tr>\n",
       "    <tr>\n",
       "      <th>484</th>\n",
       "      <td>1946</td>\n",
       "      <td>2011年，周文和李康通过熟人介绍相识，很快确立了恋爱关系。2012年国庆节后办理了结婚登记...</td>\n",
       "    </tr>\n",
       "  </tbody>\n",
       "</table>\n",
       "<p>485 rows × 2 columns</p>\n",
       "</div>"
      ],
      "text/plain": [
       "       id                                               text\n",
       "0    1460  原告刘小美（女方）与被告吴京京（男方）于2005年经人介绍相识恋爱，2006年开始同居生活，...\n",
       "1    1461  2011年12月，谢楠（女方）与被告王雄（男方）介绍相识恋爱，2012年5月10日登记结婚，...\n",
       "2    1462  原告李文萱与丈夫李铁刚于2008年下半年相识恋爱，2010年5月9日生育一女，取名李小丽，2...\n",
       "3    1463  田小妞（女方）与被告汪志诚（男方）于2001年6月14日经人介绍相识，2001年11月19日...\n",
       "4    1464  孙建军与妻子田甜于1999年在温州打工时相识、恋爱，2001年办理结婚登记手续，2003年8...\n",
       "..    ...                                                ...\n",
       "480  1942  蔡方与蒋孟经人介绍认识，一年后登记结婚，婚后生育男孩蒋阶。婚后蒋孟多次赌博，输掉几十万元。蒋...\n",
       "481  1943  原告焦芳与被告魏康于2010年夏天认识，于2012年3月2日在民政局登记结婚。2013年6月...\n",
       "482  1944  原告何言、被告李立于2011年通过网络相识，2012年9月26日登记结婚，婚后未生育子女。被...\n",
       "483  1945  原告程芳、被告沈军于2008年4月自行相识，2009年1月登记结婚，2010年10月生育一女...\n",
       "484  1946  2011年，周文和李康通过熟人介绍相识，很快确立了恋爱关系。2012年国庆节后办理了结婚登记...\n",
       "\n",
       "[485 rows x 2 columns]"
      ]
     },
     "execution_count": 29,
     "metadata": {},
     "output_type": "execute_result"
    }
   ],
   "source": [
    "file = 'C:/ZhangLI/Codes/DataSet/法律领域篇章级多事件检测/test_dataset.json'\n",
    "with open(file, 'r', encoding='utf-8') as f:\n",
    "    df_test = pd.read_json(f, orient='records', lines=True)\n",
    "df_test"
   ]
  }
 ],
 "metadata": {
  "kernelspec": {
   "display_name": "Python 3",
   "language": "python",
   "name": "python3"
  },
  "language_info": {
   "codemirror_mode": {
    "name": "ipython",
    "version": 3
   },
   "file_extension": ".py",
   "mimetype": "text/x-python",
   "name": "python",
   "nbconvert_exporter": "python",
   "pygments_lexer": "ipython3",
   "version": "3.8.5"
  }
 },
 "nbformat": 4,
 "nbformat_minor": 5
}
