{
 "cells": [
  {
   "cell_type": "markdown",
   "id": "violent-society",
   "metadata": {},
   "source": [
    "### backgroud\n",
    "1. 波动率反应市场, 高波动市场不稳定, 低波动市场稳定\n",
    "2. 想optiver这样的公司,期权的价格和产品对波动率直接相关\n",
    "3. 构建模型来预测不同行业数百只股票的短期波动。利用这些数据设计预测 10 分钟内波动率的模型。 "
   ]
  },
  {
   "cell_type": "markdown",
   "id": "spoken-tiffany",
   "metadata": {},
   "source": [
    "## book_[train/test].parquet \n",
    "按 stock_id 分区的文件。 \n",
    "提供有关进入市场的最具竞争力的买卖订单的订单簿数据。 \n",
    "本书的前两层是共享的。 本书的第一级在价格方面更具竞争力，然后将获得比第二级更高的执行优先级。\n",
    "1. stock_id - 股票的 ID 代码。 并非所有股票 ID 都存在于每个时间段中。 Parquet 在加载时将此列强制为分类数据类型； 您可能希望将其转换为 int8。\n",
    "2. time_id - 时间段的 ID 代码。 时间 ID 不一定是连续的，但在所有股票中都是一致的。\n",
    "3. seconds_in_bucket - 从存储桶开始的秒数，总是从 0 开始。\n",
    "4. bid_price[1/2] - 最具/第二最具竞争力的 购买水平的标准化价格。\n",
    "5. ask_price[1/2] - 最具/第二最具竞争力的 卖出水平的标准化价格。\n",
    "6. bid_size[1/2] - 最具/第二最具竞争力的  买入级别的股票数量。\n",
    "7. ask_size[1/2] - 最具/第二最具竞争力的  卖出水平上的股票数量。\n",
    "\n",
    "## trade_[train/test].parquet \n",
    "按 stock_id 分区的文件。 包含实际执行交易的数据。 \n",
    "通常，在市场上，被动买入/卖出意向更新（账簿更新）比实际交易要多，因此人们可能期望此文件比订单簿更稀疏。\n",
    "1. stock_id - 同上。\n",
    "2. time_id - 同上。\n",
    "3. seconds_in_bucket - 同上。 请注意，由于交易和账面数据取自同一时间窗口，且交易数据一般较为稀疏，因此该字段不一定从 0 开始。\n",
    "4. 价格 - 一秒内发生的已执行交易的平均价格。 价格已标准化，平均值已按每笔交易中交易的股票数量加权。\n",
    "5. 大小 - 交易的股票总数。\n",
    "6. order_count - 发生的唯一交易订单的数量。\n",
    "\n",
    "## train.csv \n",
    "训练集的真实值。\n",
    "1. stock_id - 与上面相同，但由于这是一个 csv，该列将作为整数而不是分类加载。\n",
    "2. time_id - 同上。\n",
    "3. 目标 - 在相同股票/时间 ID 下的特征数据之后的 10 分钟窗口内计算的已实现波动率。 \n",
    "特征和目标数据之间没有重叠。 您可以在我们的教程笔记本中找到更多信息。\n",
    "\n",
    "## test.csv \n",
    "提供其他数据文件和提交文件之间的映射。 与其他测试文件一样，大部分数据仅在提交时可供您的笔记本使用，只有前几行可供下载。\n",
    "1. stock_id - 同上。\n",
    "2. time_id - 同上。\n",
    "3. row_id - 提交行的唯一标识符。 每个现有时间 ID/股票 ID 对都有一行。 每个时间窗口不一定包含每只股票。\n",
    "\n",
    "## sample_submission.csv - \n",
    "格式正确的示例提交文件。\n",
    "1. row_id - 与 test.csv 中的相同。\n",
    "2. 目标 - 与 train.csv 中的定义相同。 基准使用来自 train.csv 的中值目标值。"
   ]
  },
  {
   "cell_type": "code",
   "execution_count": 1,
   "id": "architectural-active",
   "metadata": {},
   "outputs": [],
   "source": [
    "# import package\n",
    "import pandas as pd\n",
    "import numpy as np\n",
    "import matplotlib.pyplot as plt\n",
    "import seaborn as sns"
   ]
  },
  {
   "cell_type": "code",
   "execution_count": null,
   "id": "similar-wages",
   "metadata": {},
   "outputs": [],
   "source": [
    "# read csv file\n",
    "path = ''"
   ]
  }
 ],
 "metadata": {
  "kernelspec": {
   "display_name": "Python 3",
   "language": "python",
   "name": "python3"
  },
  "language_info": {
   "codemirror_mode": {
    "name": "ipython",
    "version": 3
   },
   "file_extension": ".py",
   "mimetype": "text/x-python",
   "name": "python",
   "nbconvert_exporter": "python",
   "pygments_lexer": "ipython3",
   "version": "3.8.5"
  }
 },
 "nbformat": 4,
 "nbformat_minor": 5
}
